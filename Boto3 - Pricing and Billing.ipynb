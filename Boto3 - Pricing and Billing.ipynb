{
 "cells": [
  {
   "cell_type": "code",
   "execution_count": 1,
   "id": "15cebab2",
   "metadata": {},
   "outputs": [],
   "source": [
    "import boto3"
   ]
  },
  {
   "cell_type": "code",
   "execution_count": 2,
   "id": "390c5210",
   "metadata": {},
   "outputs": [],
   "source": [
    "client = boto3.client('ce') #cost-explorer API"
   ]
  },
  {
   "cell_type": "code",
   "execution_count": 29,
   "id": "eb1f7694",
   "metadata": {},
   "outputs": [
    {
     "data": {
      "text/plain": [
       "'2023-07-30'"
      ]
     },
     "execution_count": 29,
     "metadata": {},
     "output_type": "execute_result"
    }
   ],
   "source": [
    "#STARTdate and EndDate -> the time period in which you want to calculate the cost\n",
    "from datetime import datetime, timedelta\n",
    "start_date = (datetime.now()-timedelta(days=90)).strftime('%Y-%m-%d')\n",
    "start_date"
   ]
  },
  {
   "cell_type": "code",
   "execution_count": 30,
   "id": "f92462b9",
   "metadata": {},
   "outputs": [
    {
     "data": {
      "text/plain": [
       "'2023-10-28'"
      ]
     },
     "execution_count": 30,
     "metadata": {},
     "output_type": "execute_result"
    }
   ],
   "source": [
    "enddate = datetime.now().strftime('%Y-%m-%d')\n",
    "enddate"
   ]
  },
  {
   "cell_type": "code",
   "execution_count": 31,
   "id": "6ec2562d",
   "metadata": {},
   "outputs": [
    {
     "data": {
      "text/plain": [
       "{'ResultsByTime': [{'TimePeriod': {'Start': '2023-07-30', 'End': '2023-08-01'},\n",
       "   'Total': {'UnblendedCost': {'Amount': '0', 'Unit': 'USD'},\n",
       "    'UsageQuantity': {'Amount': '0', 'Unit': 'N/A'}},\n",
       "   'Groups': [],\n",
       "   'Estimated': True},\n",
       "  {'TimePeriod': {'Start': '2023-08-01', 'End': '2023-09-01'},\n",
       "   'Total': {'UnblendedCost': {'Amount': '0', 'Unit': 'USD'},\n",
       "    'UsageQuantity': {'Amount': '0', 'Unit': 'N/A'}},\n",
       "   'Groups': [],\n",
       "   'Estimated': True},\n",
       "  {'TimePeriod': {'Start': '2023-09-01', 'End': '2023-10-01'},\n",
       "   'Total': {'UnblendedCost': {'Amount': '0', 'Unit': 'USD'},\n",
       "    'UsageQuantity': {'Amount': '0', 'Unit': 'N/A'}},\n",
       "   'Groups': [],\n",
       "   'Estimated': True},\n",
       "  {'TimePeriod': {'Start': '2023-10-01', 'End': '2023-10-28'},\n",
       "   'Total': {'UnblendedCost': {'Amount': '0', 'Unit': 'USD'},\n",
       "    'UsageQuantity': {'Amount': '0', 'Unit': 'N/A'}},\n",
       "   'Groups': [],\n",
       "   'Estimated': True}],\n",
       " 'DimensionValueAttributes': [],\n",
       " 'ResponseMetadata': {'RequestId': '2e59959a-49e7-48a5-b300-32444548f405',\n",
       "  'HTTPStatusCode': 200,\n",
       "  'HTTPHeaders': {'date': 'Sat, 28 Oct 2023 15:59:10 GMT',\n",
       "   'content-type': 'application/x-amz-json-1.1',\n",
       "   'content-length': '785',\n",
       "   'connection': 'keep-alive',\n",
       "   'x-amzn-requestid': '2e59959a-49e7-48a5-b300-32444548f405',\n",
       "   'cache-control': 'no-cache'},\n",
       "  'RetryAttempts': 0}}"
      ]
     },
     "execution_count": 31,
     "metadata": {},
     "output_type": "execute_result"
    }
   ],
   "source": [
    "response = client.get_cost_and_usage(TimePeriod={\n",
    "    'Start':start_date,\n",
    "    'End':enddate\n",
    "},\n",
    "Granularity='MONTHLY',Metrics=['UnblendedCost','UsageQuantity'])\n",
    "response"
   ]
  },
  {
   "cell_type": "code",
   "execution_count": 32,
   "id": "f4142b17",
   "metadata": {},
   "outputs": [
    {
     "data": {
      "text/plain": [
       "{'DimensionValues': [],\n",
       " 'ReturnSize': 0,\n",
       " 'TotalSize': 0,\n",
       " 'ResponseMetadata': {'RequestId': '4359468c-8ca6-4794-be02-06b8435ba41f',\n",
       "  'HTTPStatusCode': 200,\n",
       "  'HTTPHeaders': {'date': 'Sat, 28 Oct 2023 15:59:13 GMT',\n",
       "   'content-type': 'application/x-amz-json-1.1',\n",
       "   'content-length': '51',\n",
       "   'connection': 'keep-alive',\n",
       "   'x-amzn-requestid': '4359468c-8ca6-4794-be02-06b8435ba41f',\n",
       "   'cache-control': 'no-cache'},\n",
       "  'RetryAttempts': 0}}"
      ]
     },
     "execution_count": 32,
     "metadata": {},
     "output_type": "execute_result"
    }
   ],
   "source": [
    "#all the services which we have been using so far\n",
    "\n",
    "response = client.get_dimension_values(TimePeriod={\n",
    "    'Start':start_date,\n",
    "    'End':enddate\n",
    "},\n",
    "Dimension='SERVICE')\n",
    "response"
   ]
  },
  {
   "cell_type": "code",
   "execution_count": 18,
   "id": "95587308",
   "metadata": {},
   "outputs": [],
   "source": [
    "for service in response['DimensionValues']:\n",
    "    print(service['Value'])"
   ]
  },
  {
   "cell_type": "code",
   "execution_count": null,
   "id": "274347b7",
   "metadata": {},
   "outputs": [],
   "source": []
  },
  {
   "cell_type": "code",
   "execution_count": null,
   "id": "89954842",
   "metadata": {},
   "outputs": [],
   "source": []
  },
  {
   "cell_type": "code",
   "execution_count": 33,
   "id": "c03e3f36",
   "metadata": {},
   "outputs": [
    {
     "data": {
      "text/plain": [
       "{'GroupDefinitions': [{'Type': 'DIMENSION', 'Key': 'SERVICE'}],\n",
       " 'ResultsByTime': [{'TimePeriod': {'Start': '2023-07-30', 'End': '2023-08-01'},\n",
       "   'Total': {'UnblendedCost': {'Amount': '0', 'Unit': 'USD'}},\n",
       "   'Groups': [],\n",
       "   'Estimated': True},\n",
       "  {'TimePeriod': {'Start': '2023-08-01', 'End': '2023-09-01'},\n",
       "   'Total': {'UnblendedCost': {'Amount': '0', 'Unit': 'USD'}},\n",
       "   'Groups': [],\n",
       "   'Estimated': True},\n",
       "  {'TimePeriod': {'Start': '2023-09-01', 'End': '2023-10-01'},\n",
       "   'Total': {'UnblendedCost': {'Amount': '0', 'Unit': 'USD'}},\n",
       "   'Groups': [],\n",
       "   'Estimated': True},\n",
       "  {'TimePeriod': {'Start': '2023-10-01', 'End': '2023-10-28'},\n",
       "   'Total': {'UnblendedCost': {'Amount': '0', 'Unit': 'USD'}},\n",
       "   'Groups': [],\n",
       "   'Estimated': True}],\n",
       " 'DimensionValueAttributes': [],\n",
       " 'ResponseMetadata': {'RequestId': 'ec10928d-bef5-49c6-a47a-ccef7b3b4697',\n",
       "  'HTTPStatusCode': 200,\n",
       "  'HTTPHeaders': {'date': 'Sat, 28 Oct 2023 15:59:54 GMT',\n",
       "   'content-type': 'application/x-amz-json-1.1',\n",
       "   'content-length': '667',\n",
       "   'connection': 'keep-alive',\n",
       "   'x-amzn-requestid': 'ec10928d-bef5-49c6-a47a-ccef7b3b4697',\n",
       "   'cache-control': 'no-cache'},\n",
       "  'RetryAttempts': 0}}"
      ]
     },
     "execution_count": 33,
     "metadata": {},
     "output_type": "execute_result"
    }
   ],
   "source": [
    "response = client.get_cost_and_usage(\n",
    "TimePeriod={\n",
    "    'Start':start_date,\n",
    "    'End':enddate\n",
    "},\n",
    "Granularity='MONTHLY',\n",
    "Metrics=['UnblendedCost'],\n",
    "GroupBy=[\n",
    "    {\n",
    "        'Type':'DIMENSION',\n",
    "         'Key':'SERVICE'\n",
    "    }\n",
    "])\n",
    "response"
   ]
  },
  {
   "cell_type": "raw",
   "id": "3a925543",
   "metadata": {},
   "source": []
  },
  {
   "cell_type": "code",
   "execution_count": 25,
   "id": "dcece276",
   "metadata": {},
   "outputs": [
    {
     "data": {
      "text/plain": [
       "('2023-10-28', '2023-11-28')"
      ]
     },
     "execution_count": 25,
     "metadata": {},
     "output_type": "execute_result"
    }
   ],
   "source": [
    "#forecast\n",
    "start_date = (datetime.now()).strftime('%Y-%m-%d')\n",
    "end_date = (datetime.now()+timedelta(days=31)).strftime('%Y-%m-%d')\n",
    "start_date,end_date"
   ]
  },
  {
   "cell_type": "code",
   "execution_count": 35,
   "id": "4974bf83",
   "metadata": {},
   "outputs": [
    {
     "ename": "ClientError",
     "evalue": "An error occurred (ValidationException) when calling the GetCostForecast operation: Earliest supported Start is 2023-10-28",
     "output_type": "error",
     "traceback": [
      "\u001b[0;31m---------------------------------------------------------------------------\u001b[0m",
      "\u001b[0;31mClientError\u001b[0m                               Traceback (most recent call last)",
      "Cell \u001b[0;32mIn[35], line 1\u001b[0m\n\u001b[0;32m----> 1\u001b[0m \u001b[43mclient\u001b[49m\u001b[38;5;241;43m.\u001b[39;49m\u001b[43mget_cost_forecast\u001b[49m\u001b[43m(\u001b[49m\u001b[43mTimePeriod\u001b[49m\u001b[38;5;241;43m=\u001b[39;49m\u001b[43m{\u001b[49m\n\u001b[1;32m      2\u001b[0m \u001b[43m    \u001b[49m\u001b[38;5;124;43m'\u001b[39;49m\u001b[38;5;124;43mStart\u001b[39;49m\u001b[38;5;124;43m'\u001b[39;49m\u001b[43m:\u001b[49m\u001b[43mstart_date\u001b[49m\u001b[43m,\u001b[49m\n\u001b[1;32m      3\u001b[0m \u001b[43m    \u001b[49m\u001b[38;5;124;43m'\u001b[39;49m\u001b[38;5;124;43mEnd\u001b[39;49m\u001b[38;5;124;43m'\u001b[39;49m\u001b[43m:\u001b[49m\u001b[43mend_date\u001b[49m\n\u001b[1;32m      4\u001b[0m \u001b[43m}\u001b[49m\u001b[43m,\u001b[49m\n\u001b[1;32m      5\u001b[0m \u001b[43mGranularity\u001b[49m\u001b[38;5;241;43m=\u001b[39;49m\u001b[38;5;124;43m'\u001b[39;49m\u001b[38;5;124;43mMONTHLY\u001b[39;49m\u001b[38;5;124;43m'\u001b[39;49m\u001b[43m,\u001b[49m\n\u001b[1;32m      6\u001b[0m \u001b[43m    \u001b[49m\u001b[43mMetric\u001b[49m\u001b[38;5;241;43m=\u001b[39;49m\u001b[38;5;124;43m'\u001b[39;49m\u001b[38;5;124;43mUNBLENDED_COST\u001b[39;49m\u001b[38;5;124;43m'\u001b[39;49m\u001b[43m)\u001b[49m\n",
      "File \u001b[0;32m/Library/Frameworks/Python.framework/Versions/3.11/lib/python3.11/site-packages/botocore/client.py:535\u001b[0m, in \u001b[0;36mClientCreator._create_api_method.<locals>._api_call\u001b[0;34m(self, *args, **kwargs)\u001b[0m\n\u001b[1;32m    531\u001b[0m     \u001b[38;5;28;01mraise\u001b[39;00m \u001b[38;5;167;01mTypeError\u001b[39;00m(\n\u001b[1;32m    532\u001b[0m         \u001b[38;5;124mf\u001b[39m\u001b[38;5;124m\"\u001b[39m\u001b[38;5;132;01m{\u001b[39;00mpy_operation_name\u001b[38;5;132;01m}\u001b[39;00m\u001b[38;5;124m() only accepts keyword arguments.\u001b[39m\u001b[38;5;124m\"\u001b[39m\n\u001b[1;32m    533\u001b[0m     )\n\u001b[1;32m    534\u001b[0m \u001b[38;5;66;03m# The \"self\" in this scope is referring to the BaseClient.\u001b[39;00m\n\u001b[0;32m--> 535\u001b[0m \u001b[38;5;28;01mreturn\u001b[39;00m \u001b[38;5;28;43mself\u001b[39;49m\u001b[38;5;241;43m.\u001b[39;49m\u001b[43m_make_api_call\u001b[49m\u001b[43m(\u001b[49m\u001b[43moperation_name\u001b[49m\u001b[43m,\u001b[49m\u001b[43m \u001b[49m\u001b[43mkwargs\u001b[49m\u001b[43m)\u001b[49m\n",
      "File \u001b[0;32m/Library/Frameworks/Python.framework/Versions/3.11/lib/python3.11/site-packages/botocore/client.py:980\u001b[0m, in \u001b[0;36mBaseClient._make_api_call\u001b[0;34m(self, operation_name, api_params)\u001b[0m\n\u001b[1;32m    978\u001b[0m     error_code \u001b[38;5;241m=\u001b[39m parsed_response\u001b[38;5;241m.\u001b[39mget(\u001b[38;5;124m\"\u001b[39m\u001b[38;5;124mError\u001b[39m\u001b[38;5;124m\"\u001b[39m, {})\u001b[38;5;241m.\u001b[39mget(\u001b[38;5;124m\"\u001b[39m\u001b[38;5;124mCode\u001b[39m\u001b[38;5;124m\"\u001b[39m)\n\u001b[1;32m    979\u001b[0m     error_class \u001b[38;5;241m=\u001b[39m \u001b[38;5;28mself\u001b[39m\u001b[38;5;241m.\u001b[39mexceptions\u001b[38;5;241m.\u001b[39mfrom_code(error_code)\n\u001b[0;32m--> 980\u001b[0m     \u001b[38;5;28;01mraise\u001b[39;00m error_class(parsed_response, operation_name)\n\u001b[1;32m    981\u001b[0m \u001b[38;5;28;01melse\u001b[39;00m:\n\u001b[1;32m    982\u001b[0m     \u001b[38;5;28;01mreturn\u001b[39;00m parsed_response\n",
      "\u001b[0;31mClientError\u001b[0m: An error occurred (ValidationException) when calling the GetCostForecast operation: Earliest supported Start is 2023-10-28"
     ]
    }
   ],
   "source": [
    "client.get_cost_forecast(TimePeriod={\n",
    "    'Start':start_date,\n",
    "    'End':end_date\n",
    "},\n",
    "Granularity='MONTHLY',\n",
    "    Metric='UNBLENDED_COST')"
   ]
  },
  {
   "cell_type": "code",
   "execution_count": null,
   "id": "cf6aaefe",
   "metadata": {},
   "outputs": [],
   "source": []
  },
  {
   "cell_type": "code",
   "execution_count": null,
   "id": "86727bce",
   "metadata": {},
   "outputs": [],
   "source": []
  },
  {
   "cell_type": "code",
   "execution_count": null,
   "id": "c36ef0d1",
   "metadata": {},
   "outputs": [],
   "source": [
    "#pricing  ---(not recommended to do programmatically, better to use console)"
   ]
  },
  {
   "cell_type": "code",
   "execution_count": 43,
   "id": "764b5d70",
   "metadata": {},
   "outputs": [],
   "source": [
    "client = boto3.client('pricing',region_name='us-east-1')"
   ]
  },
  {
   "cell_type": "code",
   "execution_count": 44,
   "id": "7ae98884",
   "metadata": {},
   "outputs": [],
   "source": [
    "paginator = client.get_paginator('describe_services')"
   ]
  },
  {
   "cell_type": "code",
   "execution_count": 46,
   "id": "5f195c68",
   "metadata": {},
   "outputs": [
    {
     "name": "stdout",
     "output_type": "stream",
     "text": [
      "A4B\n",
      "AWSAmplify\n",
      "AWSAppFabric\n",
      "AWSAppRunner\n",
      "AWSAppSync\n",
      "AWSApplicationMigrationSvc\n",
      "AWSBackup\n",
      "AWSBillingConductor\n",
      "AWSBudgets\n",
      "AWSCertificateManager\n",
      "AWSCleanRooms\n",
      "AWSCloudFormation\n",
      "AWSCloudMap\n",
      "AWSCloudTrail\n",
      "AWSCloudWAN\n",
      "AWSCodeArtifact\n",
      "AWSCodeCommit\n",
      "AWSCodeDeploy\n",
      "AWSCodePipeline\n",
      "AWSConfig\n",
      "AWSCostExplorer\n",
      "AWSDataExchange\n",
      "AWSDataSync\n",
      "AWSDataTransfer\n",
      "AWSDatabaseMigrationSvc\n",
      "AWSDeepRacer\n",
      "AWSDeveloperSupport\n",
      "AWSDeviceFarm\n",
      "AWSDirectConnect\n",
      "AWSDirectoryService\n",
      "AWSELB\n",
      "AWSElasticDisasterRecovery\n",
      "AWSElementalMediaConvert\n",
      "AWSElementalMediaLive\n",
      "AWSElementalMediaPackage\n",
      "AWSElementalMediaStore\n",
      "AWSElementalMediaTailor\n",
      "AWSEntityResolution\n",
      "AWSEvents\n",
      "AWSFIS\n",
      "AWSFMS\n",
      "AWSGlobalAccelerator\n",
      "AWSGlueElasticViews\n",
      "AWSGlue\n",
      "AWSGreengrass\n",
      "AWSGroundStation\n",
      "AWSIoT1Click\n",
      "AWSIoTAnalytics\n",
      "AWSIoTEvents\n",
      "AWSIoTFleetWise\n",
      "AWSIoTSiteWise\n",
      "AWSIoTThingsGraph\n",
      "AWSIoT\n",
      "AWSLakeFormation\n",
      "AWSLambda\n",
      "AWSM2\n",
      "AWSMDC\n",
      "AWSMediaConnect\n",
      "AWSMigrationHubRefactorSpaces\n",
      "AWSNetworkFirewall\n",
      "AWSOutposts\n",
      "AWSPrivate5G\n",
      "AWSQueueService\n",
      "AWSR53AppRecoveryController\n",
      "AWSResilienceHub\n",
      "AWSRoboMaker\n",
      "AWSSecretsManager\n",
      "AWSSecurityHub\n",
      "AWSServiceCatalog\n",
      "AWSShield\n",
      "AWSStorageGatewayDeepArchive\n",
      "AWSStorageGateway\n",
      "AWSSupplyChain\n",
      "AWSSupportBusiness\n",
      "AWSSupportEnterprise\n",
      "AWSSystemsManager\n",
      "AWSTelcoNetworkBuilder\n",
      "AWSTransfer\n",
      "AWSWickr\n",
      "AWSWisdom\n",
      "AWSXRay\n",
      "AlexaTopSites\n",
      "AlexaWebInfoService\n",
      "AmazonA2I\n",
      "AmazonApiGateway\n",
      "AmazonAppStream\n",
      "AmazonAthena\n",
      "AmazonBedrock\n",
      "AmazonBraket\n",
      "AmazonChimeBusinessCalling\n",
      "AmazonChimeCallMeAMCS\n",
      "AmazonChimeCallMe\n",
      "AmazonChimeDialInAMCS\n",
      "AmazonChimeDialin\n",
      "AmazonChimeFeatures\n",
      "AmazonChimeServices\n",
      "AmazonChimeVoiceConnector\n",
      "AmazonChime\n",
      "AmazonCloudDirectory\n",
      "AmazonCloudFront\n",
      "AmazonCloudSearch\n",
      "AmazonCloudWatch\n",
      "AmazonCodeWhisperer\n",
      "AmazonCognitoSync\n",
      "AmazonCognito\n",
      "AmazonConnectCases\n",
      "AmazonConnectVoiceID\n",
      "AmazonConnect\n",
      "AmazonDAX\n",
      "AmazonDataZone\n",
      "AmazonDetective\n",
      "AmazonDevOpsGuru\n",
      "AmazonDocDB\n",
      "AmazonDynamoDB\n",
      "AmazonEC2\n",
      "AmazonECRPublic\n",
      "AmazonECR\n",
      "AmazonECS\n",
      "AmazonEFS\n",
      "AmazonEI\n",
      "AmazonEKS\n",
      "AmazonES\n",
      "AmazonETS\n",
      "AmazonElastiCache\n",
      "AmazonFSx\n",
      "AmazonFinSpace\n",
      "AmazonForecast\n",
      "AmazonFraudDetector\n",
      "AmazonGameLift\n",
      "AmazonGlacier\n",
      "AmazonGrafana\n",
      "AmazonGuardDuty\n",
      "AmazonHealthLake\n",
      "AmazonHoneycode\n",
      "AmazonIVSChat\n",
      "AmazonIVS\n",
      "AmazonInspectorV2\n",
      "AmazonInspector\n",
      "AmazonKendra\n",
      "AmazonKinesisAnalytics\n",
      "AmazonKinesisFirehose\n",
      "AmazonKinesisVideo\n",
      "AmazonKinesis\n",
      "AmazonLex\n",
      "AmazonLightsail\n",
      "AmazonLocationService\n",
      "AmazonLookoutEquipment\n",
      "AmazonLookoutMetrics\n",
      "AmazonLookoutVision\n",
      "AmazonMCS\n",
      "AmazonML\n",
      "AmazonMQ\n",
      "AmazonMSK\n",
      "AmazonMWAA\n",
      "AmazonMacie\n",
      "AmazonManagedBlockchain\n",
      "AmazonMedicalImaging\n",
      "AmazonMemoryDB\n",
      "AmazonMonitron\n",
      "AmazonNeptune\n",
      "AmazonOmics\n",
      "AmazonPersonalize\n",
      "AmazonPinpoint\n",
      "AmazonPolly\n",
      "AmazonPrometheus\n",
      "AmazonQLDB\n",
      "AmazonQuickSight\n",
      "AmazonRDS\n",
      "AmazonRedshift\n",
      "AmazonRekognition\n",
      "AmazonRoute53\n",
      "AmazonS3GlacierDeepArchive\n",
      "AmazonS3\n",
      "AmazonSES\n",
      "AmazonSNS\n",
      "AmazonSWF\n",
      "AmazonSageMaker\n",
      "AmazonSecurityLake\n",
      "AmazonSimpleDB\n",
      "AmazonStates\n",
      "AmazonSumerian\n",
      "AmazonTextract\n",
      "AmazonTimestream\n",
      "AmazonVPC\n",
      "AmazonVerifiedPermissions\n",
      "AmazonWAM\n",
      "AmazonWorkDocs\n",
      "AmazonWorkLink\n",
      "AmazonWorkMail\n",
      "AmazonWorkSpacesWeb\n",
      "AmazonWorkSpaces\n",
      "AppFlow\n",
      "CloudHSM\n",
      "CodeBuild\n",
      "CodeCatalyst\n",
      "CodeGuru\n",
      "ContactCenterTelecomm\n",
      "ContactLensAmazonConnect\n",
      "CustomerProfiles\n",
      "ElasticMapReduce\n",
      "IngestionServiceSnowball\n",
      "IngestionService\n",
      "IoTDeviceDefender\n",
      "IoTDeviceManagement\n",
      "IoTTwinMaker\n",
      "OpsWorks\n",
      "PaymentCryptography\n",
      "SimSpaceWeaver\n",
      "SnowballExtraDays\n",
      "VMwareCloudOnAWS\n",
      "auditmanager\n",
      "awskms\n",
      "awswaf\n",
      "comprehend\n",
      "comprehendmedical\n",
      "datapipeline\n",
      "mobileanalytics\n",
      "nimble\n",
      "transcribe\n",
      "translate\n"
     ]
    }
   ],
   "source": [
    "#to find the service code for the service\n",
    "\n",
    "for page in paginator.paginate():\n",
    "    for service in page['Services']:\n",
    "        print(service['ServiceCode']) "
   ]
  },
  {
   "cell_type": "code",
   "execution_count": 47,
   "id": "09fa24a8",
   "metadata": {},
   "outputs": [],
   "source": [
    "client = boto3.client('pricing',region_name='us-east-1')"
   ]
  },
  {
   "cell_type": "code",
   "execution_count": 50,
   "id": "011fcdd7",
   "metadata": {},
   "outputs": [
    {
     "data": {
      "text/plain": [
       "{'FormatVersion': 'aws_v1',\n",
       " 'PriceList': ['{\"product\":{\"productFamily\":\"Fee\",\"attributes\":{\"regionCode\":\"us-east-1\",\"feeDescription\":\"Pro-rated fee for objects deleted before 30 days in Standard-Infrequent Access volume\",\"servicecode\":\"AmazonS3\",\"feeCode\":\"S3:EarlyDelete-SIA\",\"usagetype\":\"EarlyDelete-SIA\",\"locationType\":\"AWS Region\",\"location\":\"US East (N. Virginia)\",\"servicename\":\"Amazon Simple Storage Service\",\"operation\":\"\"},\"sku\":\"26EY5Q656QEFV8J2\"},\"serviceCode\":\"AmazonS3\",\"terms\":{\"OnDemand\":{\"26EY5Q656QEFV8J2.JRTCKXETXF\":{\"priceDimensions\":{\"26EY5Q656QEFV8J2.JRTCKXETXF.6YS6EN2CT7\":{\"unit\":\"GB-Mo\",\"endRange\":\"Inf\",\"description\":\"$0.0125 per GB-Month prorated for objects deleted or overwritten before 30 days in Standard-Infrequent Access\",\"appliesTo\":[],\"rateCode\":\"26EY5Q656QEFV8J2.JRTCKXETXF.6YS6EN2CT7\",\"beginRange\":\"0\",\"pricePerUnit\":{\"USD\":\"0.0125000000\"}}},\"sku\":\"26EY5Q656QEFV8J2\",\"effectiveDate\":\"2023-07-01T00:00:00Z\",\"offerTermCode\":\"JRTCKXETXF\",\"termAttributes\":{}}}},\"version\":\"20230801012612\",\"publicationDate\":\"2023-08-01T01:26:12Z\"}',\n",
       "  '{\"product\":{\"productFamily\":\"API Request\",\"attributes\":{\"regionCode\":\"us-east-1\",\"servicecode\":\"AmazonS3\",\"groupDescription\":\"Data Returned by S3 Select in Glacier Instant Retrieval\",\"usagetype\":\"Select-Returned-GIR-Bytes\",\"locationType\":\"AWS Region\",\"location\":\"US East (N. Virginia)\",\"servicename\":\"Amazon Simple Storage Service\",\"operation\":\"\",\"group\":\"S3-API-GIR-Select-Returned\"},\"sku\":\"26TUJV6FNGAN44UY\"},\"serviceCode\":\"AmazonS3\",\"terms\":{\"OnDemand\":{\"26TUJV6FNGAN44UY.JRTCKXETXF\":{\"priceDimensions\":{\"26TUJV6FNGAN44UY.JRTCKXETXF.6YS6EN2CT7\":{\"unit\":\"GB\",\"endRange\":\"Inf\",\"description\":\"$0.03 per GB - for bytes returned by S3 Select in Glacier Instant Retrieval\",\"appliesTo\":[],\"rateCode\":\"26TUJV6FNGAN44UY.JRTCKXETXF.6YS6EN2CT7\",\"beginRange\":\"0\",\"pricePerUnit\":{\"USD\":\"0.0300000000\"}}},\"sku\":\"26TUJV6FNGAN44UY\",\"effectiveDate\":\"2023-07-01T00:00:00Z\",\"offerTermCode\":\"JRTCKXETXF\",\"termAttributes\":{}}}},\"version\":\"20230801012612\",\"publicationDate\":\"2023-08-01T01:26:12Z\"}',\n",
       "  '{\"product\":{\"productFamily\":\"API Request\",\"attributes\":{\"regionCode\":\"us-east-1\",\"servicecode\":\"AmazonS3\",\"groupDescription\":\"Object Retrieval in One Zone-Infrequent Access\",\"usagetype\":\"Retrieval-ZIA\",\"locationType\":\"AWS Region\",\"location\":\"US East (N. Virginia)\",\"servicename\":\"Amazon Simple Storage Service\",\"operation\":\"\",\"group\":\"S3-API-ZIA-Retrieval\"},\"sku\":\"2C7JEQ54QWYYWGZ6\"},\"serviceCode\":\"AmazonS3\",\"terms\":{\"OnDemand\":{\"2C7JEQ54QWYYWGZ6.JRTCKXETXF\":{\"priceDimensions\":{\"2C7JEQ54QWYYWGZ6.JRTCKXETXF.6YS6EN2CT7\":{\"unit\":\"GB\",\"endRange\":\"Inf\",\"description\":\"$0.01 per GB - flat fee for all bytes retrieved in One Zone-Infrequent Access\",\"appliesTo\":[],\"rateCode\":\"2C7JEQ54QWYYWGZ6.JRTCKXETXF.6YS6EN2CT7\",\"beginRange\":\"0\",\"pricePerUnit\":{\"USD\":\"0.0100000000\"}}},\"sku\":\"2C7JEQ54QWYYWGZ6\",\"effectiveDate\":\"2023-07-01T00:00:00Z\",\"offerTermCode\":\"JRTCKXETXF\",\"termAttributes\":{}}}},\"version\":\"20230801012612\",\"publicationDate\":\"2023-08-01T01:26:12Z\"}',\n",
       "  '{\"product\":{\"attributes\":{\"regionCode\":\"us-east-1\",\"servicecode\":\"AmazonS3\",\"groupDescription\":\"Expedited INT Restore Requests\",\"usagetype\":\"USE1-Requests-INT-AA-Tier6\",\"locationType\":\"AWS Region\",\"location\":\"US East (N. Virginia)\",\"servicename\":\"Amazon Simple Storage Service\",\"operation\":\"RestoreObjectExpedited\",\"group\":\"S3-API-INT-AA-TIER6\"},\"sku\":\"2PJSTYHZYNB8RCWQ\"},\"serviceCode\":\"AmazonS3\",\"terms\":{\"OnDemand\":{\"2PJSTYHZYNB8RCWQ.JRTCKXETXF\":{\"priceDimensions\":{\"2PJSTYHZYNB8RCWQ.JRTCKXETXF.6YS6EN2CT7\":{\"unit\":\"Requests\",\"endRange\":\"Inf\",\"description\":\"$10 per Requests for Requests-INT-AA-Tier6:RestoreObjectExpedited in US East (N. Virginia)\",\"appliesTo\":[],\"rateCode\":\"2PJSTYHZYNB8RCWQ.JRTCKXETXF.6YS6EN2CT7\",\"beginRange\":\"0\",\"pricePerUnit\":{\"USD\":\"10.0000000000\"}}},\"sku\":\"2PJSTYHZYNB8RCWQ\",\"effectiveDate\":\"2023-07-01T00:00:00Z\",\"offerTermCode\":\"JRTCKXETXF\",\"termAttributes\":{}}}},\"version\":\"20230801012612\",\"publicationDate\":\"2023-08-01T01:26:12Z\"}',\n",
       "  '{\"product\":{\"productFamily\":\"Fee\",\"attributes\":{\"regionCode\":\"us-east-1\",\"feeDescription\":\"Fee for storing small objects (<128KB) in SIA Storage\",\"servicecode\":\"AmazonS3\",\"feeCode\":\"S3-Storage-SIA-SmObject\",\"usagetype\":\"TimedStorage-SIA-SmObjects\",\"locationType\":\"AWS Region\",\"location\":\"US East (N. Virginia)\",\"servicename\":\"Amazon Simple Storage Service\",\"operation\":\"\"},\"sku\":\"2VCR5WB776KPSYFW\"},\"serviceCode\":\"AmazonS3\",\"terms\":{\"OnDemand\":{\"2VCR5WB776KPSYFW.JRTCKXETXF\":{\"priceDimensions\":{\"2VCR5WB776KPSYFW.JRTCKXETXF.6YS6EN2CT7\":{\"unit\":\"GB-Mo\",\"endRange\":\"Inf\",\"description\":\"$0.0125 per GB-Month of storage used for small objects\",\"appliesTo\":[],\"rateCode\":\"2VCR5WB776KPSYFW.JRTCKXETXF.6YS6EN2CT7\",\"beginRange\":\"0\",\"pricePerUnit\":{\"USD\":\"0.0125000000\"}}},\"sku\":\"2VCR5WB776KPSYFW\",\"effectiveDate\":\"2023-07-01T00:00:00Z\",\"offerTermCode\":\"JRTCKXETXF\",\"termAttributes\":{}}}},\"version\":\"20230801012612\",\"publicationDate\":\"2023-08-01T01:26:12Z\"}',\n",
       "  '{\"product\":{\"attributes\":{\"regionCode\":\"us-east-1\",\"servicecode\":\"AmazonS3\",\"groupDescription\":\"Data Returned by S3 Select in Intelligent-Tiering\",\"usagetype\":\"Select-Returned-INT-Bytes\",\"locationType\":\"AWS Region\",\"location\":\"US East (N. Virginia)\",\"servicename\":\"Amazon Simple Storage Service\",\"operation\":\"\",\"group\":\"S3-API-INT-Select-Returned\"},\"sku\":\"35JC78TFHSJVNG4C\"},\"serviceCode\":\"AmazonS3\",\"terms\":{\"OnDemand\":{\"35JC78TFHSJVNG4C.JRTCKXETXF\":{\"priceDimensions\":{\"35JC78TFHSJVNG4C.JRTCKXETXF.6YS6EN2CT7\":{\"unit\":\"GB\",\"endRange\":\"Inf\",\"description\":\"$0.0007 per GB - for bytes returned by S3 Select in Intelligent - Tiering\",\"appliesTo\":[],\"rateCode\":\"35JC78TFHSJVNG4C.JRTCKXETXF.6YS6EN2CT7\",\"beginRange\":\"0\",\"pricePerUnit\":{\"USD\":\"0.0007000000\"}}},\"sku\":\"35JC78TFHSJVNG4C\",\"effectiveDate\":\"2023-07-01T00:00:00Z\",\"offerTermCode\":\"JRTCKXETXF\",\"termAttributes\":{}}}},\"version\":\"20230801012612\",\"publicationDate\":\"2023-08-01T01:26:12Z\"}',\n",
       "  '{\"product\":{\"productFamily\":\"Storage\",\"attributes\":{\"volumeType\":\"Standard - Infrequent Access\",\"storageClass\":\"Infrequent Access\",\"regionCode\":\"us-east-1\",\"servicecode\":\"AmazonS3\",\"durability\":\"99.999999999%\",\"usagetype\":\"TimedStorage-SIA-ByteHrs\",\"locationType\":\"AWS Region\",\"location\":\"US East (N. Virginia)\",\"servicename\":\"Amazon Simple Storage Service\",\"availability\":\"99.9%\",\"operation\":\"\"},\"sku\":\"379GYJUQ5WFBUYGM\"},\"serviceCode\":\"AmazonS3\",\"terms\":{\"OnDemand\":{\"379GYJUQ5WFBUYGM.JRTCKXETXF\":{\"priceDimensions\":{\"379GYJUQ5WFBUYGM.JRTCKXETXF.6YS6EN2CT7\":{\"unit\":\"GB-Mo\",\"endRange\":\"Inf\",\"description\":\"$0.0125 per GB-Month of storage used in Standard-Infrequent Access\",\"appliesTo\":[],\"rateCode\":\"379GYJUQ5WFBUYGM.JRTCKXETXF.6YS6EN2CT7\",\"beginRange\":\"0\",\"pricePerUnit\":{\"USD\":\"0.0125000000\"}}},\"sku\":\"379GYJUQ5WFBUYGM\",\"effectiveDate\":\"2023-07-01T00:00:00Z\",\"offerTermCode\":\"JRTCKXETXF\",\"termAttributes\":{}}}},\"version\":\"20230801012612\",\"publicationDate\":\"2023-08-01T01:26:12Z\"}',\n",
       "  '{\"product\":{\"productFamily\":\"Fee\",\"attributes\":{\"regionCode\":\"us-east-1\",\"feeDescription\":\"Fee for Select Data Scanned using Bulk tier\",\"servicecode\":\"AmazonS3\",\"feeCode\":\"S3-Bulk-Select-Scanned\",\"usagetype\":\"Bulk-Select-Returned-Bytes\",\"locationType\":\"AWS Region\",\"location\":\"US East (N. Virginia)\",\"servicename\":\"Amazon Simple Storage Service\",\"operation\":\"\"},\"sku\":\"37N7VG59W5VDWG9S\"},\"serviceCode\":\"AmazonS3\",\"terms\":{\"OnDemand\":{\"37N7VG59W5VDWG9S.JRTCKXETXF\":{\"priceDimensions\":{\"37N7VG59W5VDWG9S.JRTCKXETXF.6YS6EN2CT7\":{\"unit\":\"GB\",\"endRange\":\"Inf\",\"description\":\"$0.0025 per GB - Bulk Select Data Returned Bytes\",\"appliesTo\":[],\"rateCode\":\"37N7VG59W5VDWG9S.JRTCKXETXF.6YS6EN2CT7\",\"beginRange\":\"0\",\"pricePerUnit\":{\"USD\":\"0.0025000000\"}}},\"sku\":\"37N7VG59W5VDWG9S\",\"effectiveDate\":\"2023-07-01T00:00:00Z\",\"offerTermCode\":\"JRTCKXETXF\",\"termAttributes\":{}}}},\"version\":\"20230801012612\",\"publicationDate\":\"2023-08-01T01:26:12Z\"}',\n",
       "  '{\"product\":{\"attributes\":{\"regionCode\":\"us-east-1\",\"feeDescription\":\"Pro-rated fee for small objects deleted before 90 days in Glacier Instant Retrieval volume\",\"servicecode\":\"AmazonS3\",\"feeCode\":\"S3:EarlyDelete-GIR-SmallObjects\",\"usagetype\":\"EarlyDelete-GIR-SmObjects\",\"locationType\":\"AWS Region\",\"location\":\"US East (N. Virginia)\",\"servicename\":\"Amazon Simple Storage Service\",\"operation\":\"\"},\"sku\":\"4M59DTVKS6W83MY8\"},\"serviceCode\":\"AmazonS3\",\"terms\":{\"OnDemand\":{\"4M59DTVKS6W83MY8.JRTCKXETXF\":{\"priceDimensions\":{\"4M59DTVKS6W83MY8.JRTCKXETXF.6YS6EN2CT7\":{\"unit\":\"GB-Mo\",\"endRange\":\"Inf\",\"description\":\"$0.004 per GB-Month prorated for small objects deleted or overwritten before 90 days in Glacier Instant Retrieval\",\"appliesTo\":[],\"rateCode\":\"4M59DTVKS6W83MY8.JRTCKXETXF.6YS6EN2CT7\",\"beginRange\":\"0\",\"pricePerUnit\":{\"USD\":\"0.0040000000\"}}},\"sku\":\"4M59DTVKS6W83MY8\",\"effectiveDate\":\"2023-07-01T00:00:00Z\",\"offerTermCode\":\"JRTCKXETXF\",\"termAttributes\":{}}}},\"version\":\"20230801012612\",\"publicationDate\":\"2023-08-01T01:26:12Z\"}',\n",
       "  '{\"product\":{\"productFamily\":\"API Request\",\"attributes\":{\"regionCode\":\"us-east-1\",\"servicecode\":\"AmazonS3\",\"groupDescription\":\"Data Scanned by S3 Select in Standard-Infrequent Access\",\"usagetype\":\"Select-Scanned-SIA-Bytes\",\"locationType\":\"AWS Region\",\"location\":\"US East (N. Virginia)\",\"servicename\":\"Amazon Simple Storage Service\",\"operation\":\"\",\"group\":\"S3-API-SIA-Select-Scanned\"},\"sku\":\"5MHFFTDKXCFS7X5S\"},\"serviceCode\":\"AmazonS3\",\"terms\":{\"OnDemand\":{\"5MHFFTDKXCFS7X5S.JRTCKXETXF\":{\"priceDimensions\":{\"5MHFFTDKXCFS7X5S.JRTCKXETXF.6YS6EN2CT7\":{\"unit\":\"GB\",\"endRange\":\"Inf\",\"description\":\"$0.00200 per GB - for bytes scanned by S3 Select in Standard-Infrequent Access\",\"appliesTo\":[],\"rateCode\":\"5MHFFTDKXCFS7X5S.JRTCKXETXF.6YS6EN2CT7\",\"beginRange\":\"0\",\"pricePerUnit\":{\"USD\":\"0.0020000000\"}}},\"sku\":\"5MHFFTDKXCFS7X5S\",\"effectiveDate\":\"2023-07-01T00:00:00Z\",\"offerTermCode\":\"JRTCKXETXF\",\"termAttributes\":{}}}},\"version\":\"20230801012612\",\"publicationDate\":\"2023-08-01T01:26:12Z\"}',\n",
       "  '{\"product\":{\"attributes\":{\"regionCode\":\"us-east-1\",\"servicecode\":\"AmazonS3\",\"groupDescription\":\"Bulk INT Retrieval\",\"usagetype\":\"USE1-Bulk-Retrieval-Bytes\",\"locationType\":\"AWS Region\",\"location\":\"US East (N. Virginia)\",\"servicename\":\"Amazon Simple Storage Service\",\"operation\":\"IntDAARestoreObject\",\"group\":\"INT-DAA-RestoreObject\"},\"sku\":\"5PUCXH2EFEHTSP7A\"},\"serviceCode\":\"AmazonS3\",\"terms\":{\"OnDemand\":{\"5PUCXH2EFEHTSP7A.JRTCKXETXF\":{\"priceDimensions\":{\"5PUCXH2EFEHTSP7A.JRTCKXETXF.6YS6EN2CT7\":{\"unit\":\"GB\",\"endRange\":\"Inf\",\"description\":\"$0.0 per GB for Bulk-Retrieval-Bytes:IntDAARestoreObject in US East (N. Virginia)\",\"appliesTo\":[],\"rateCode\":\"5PUCXH2EFEHTSP7A.JRTCKXETXF.6YS6EN2CT7\",\"beginRange\":\"0\",\"pricePerUnit\":{\"USD\":\"0.0000000000\"}}},\"sku\":\"5PUCXH2EFEHTSP7A\",\"effectiveDate\":\"2023-07-01T00:00:00Z\",\"offerTermCode\":\"JRTCKXETXF\",\"termAttributes\":{}}}},\"version\":\"20230801012612\",\"publicationDate\":\"2023-08-01T01:26:12Z\"}',\n",
       "  '{\"product\":{\"attributes\":{\"regionCode\":\"us-east-1\",\"servicecode\":\"AmazonS3\",\"groupDescription\":\"Bytes Encrypted using Dual-Layer Server-Side Encryption\",\"usagetype\":\"S3DSSE-In-Bytes\",\"locationType\":\"AWS Region\",\"location\":\"US East (N. Virginia)\",\"servicename\":\"Amazon Simple Storage Service\",\"operation\":\"\",\"group\":\"S3-API-Dual-Encryption\"},\"sku\":\"5Y28K4GEQUH6DRHM\"},\"serviceCode\":\"AmazonS3\",\"terms\":{\"OnDemand\":{\"5Y28K4GEQUH6DRHM.JRTCKXETXF\":{\"priceDimensions\":{\"5Y28K4GEQUH6DRHM.JRTCKXETXF.6YS6EN2CT7\":{\"unit\":\"GB\",\"endRange\":\"Inf\",\"description\":\"$0.003 per GB flat fee for all bytes encrypted using Dual-Layer Server-Side Encryption in US East (N. Virginia)\",\"appliesTo\":[],\"rateCode\":\"5Y28K4GEQUH6DRHM.JRTCKXETXF.6YS6EN2CT7\",\"beginRange\":\"0\",\"pricePerUnit\":{\"USD\":\"0.0030000000\"}}},\"sku\":\"5Y28K4GEQUH6DRHM\",\"effectiveDate\":\"2023-07-01T00:00:00Z\",\"offerTermCode\":\"JRTCKXETXF\",\"termAttributes\":{}}}},\"version\":\"20230801012612\",\"publicationDate\":\"2023-08-01T01:26:12Z\"}',\n",
       "  '{\"product\":{\"productFamily\":\"API Request\",\"attributes\":{\"regionCode\":\"us-east-1\",\"servicecode\":\"AmazonS3\",\"groupDescription\":\"Data Scanned by S3 Select in Glacier Instant Retrieval\",\"usagetype\":\"Select-Scanned-GIR-Bytes\",\"locationType\":\"AWS Region\",\"location\":\"US East (N. Virginia)\",\"servicename\":\"Amazon Simple Storage Service\",\"operation\":\"\",\"group\":\"S3-API-GIR-Select-Scanned\"},\"sku\":\"6N4KQAG7UKQUMRC5\"},\"serviceCode\":\"AmazonS3\",\"terms\":{\"OnDemand\":{\"6N4KQAG7UKQUMRC5.JRTCKXETXF\":{\"priceDimensions\":{\"6N4KQAG7UKQUMRC5.JRTCKXETXF.6YS6EN2CT7\":{\"unit\":\"GB\",\"endRange\":\"Inf\",\"description\":\"$0.002 per GB - for bytes scanned by S3 Select in Glacier Instant Retrieval\",\"appliesTo\":[],\"rateCode\":\"6N4KQAG7UKQUMRC5.JRTCKXETXF.6YS6EN2CT7\",\"beginRange\":\"0\",\"pricePerUnit\":{\"USD\":\"0.0020000000\"}}},\"sku\":\"6N4KQAG7UKQUMRC5\",\"effectiveDate\":\"2023-07-01T00:00:00Z\",\"offerTermCode\":\"JRTCKXETXF\",\"termAttributes\":{}}}},\"version\":\"20230801012612\",\"publicationDate\":\"2023-08-01T01:26:12Z\"}',\n",
       "  '{\"product\":{\"productFamily\":\"API Request\",\"attributes\":{\"regionCode\":\"us-east-1\",\"servicecode\":\"AmazonS3\",\"groupDescription\":\"GET and all other requests to Glacier Instant Retrieval\",\"usagetype\":\"Requests-GIR-Tier2\",\"locationType\":\"AWS Region\",\"location\":\"US East (N. Virginia)\",\"servicename\":\"Amazon Simple Storage Service\",\"operation\":\"\",\"group\":\"S3-API-GIR-Tier2\"},\"sku\":\"6WKRC2AMC45PNCVZ\"},\"serviceCode\":\"AmazonS3\",\"terms\":{\"OnDemand\":{\"6WKRC2AMC45PNCVZ.JRTCKXETXF\":{\"priceDimensions\":{\"6WKRC2AMC45PNCVZ.JRTCKXETXF.6YS6EN2CT7\":{\"unit\":\"Requests\",\"endRange\":\"Inf\",\"description\":\"$0.1 per 10,000 GET and all other requests to Glacier Instant Retrieval\",\"appliesTo\":[],\"rateCode\":\"6WKRC2AMC45PNCVZ.JRTCKXETXF.6YS6EN2CT7\",\"beginRange\":\"0\",\"pricePerUnit\":{\"USD\":\"0.0000100000\"}}},\"sku\":\"6WKRC2AMC45PNCVZ\",\"effectiveDate\":\"2023-07-01T00:00:00Z\",\"offerTermCode\":\"JRTCKXETXF\",\"termAttributes\":{}}}},\"version\":\"20230801012612\",\"publicationDate\":\"2023-08-01T01:26:12Z\"}',\n",
       "  '{\"product\":{\"attributes\":{\"regionCode\":\"us-east-1\",\"servicecode\":\"AmazonS3\",\"groupDescription\":\"POST requests to Glacier\",\"usagetype\":\"Requests-GLACIER-Tier1\",\"locationType\":\"AWS Region\",\"location\":\"US East (N. Virginia)\",\"servicename\":\"Amazon Simple Storage Service\",\"operation\":\"PostObject\",\"group\":\"S3-API-GLACIER-Tier1\"},\"sku\":\"6YWASJWACFZ3TNC4\"},\"serviceCode\":\"AmazonS3\",\"terms\":{\"OnDemand\":{\"6YWASJWACFZ3TNC4.JRTCKXETXF\":{\"priceDimensions\":{\"6YWASJWACFZ3TNC4.JRTCKXETXF.6YS6EN2CT7\":{\"unit\":\"Requests\",\"endRange\":\"Inf\",\"description\":\"$0.03 per 1,000 PostObject requests to Glacier\",\"appliesTo\":[],\"rateCode\":\"6YWASJWACFZ3TNC4.JRTCKXETXF.6YS6EN2CT7\",\"beginRange\":\"0\",\"pricePerUnit\":{\"USD\":\"0.0000300000\"}}},\"sku\":\"6YWASJWACFZ3TNC4\",\"effectiveDate\":\"2023-07-01T00:00:00Z\",\"offerTermCode\":\"JRTCKXETXF\",\"termAttributes\":{}}}},\"version\":\"20230801012612\",\"publicationDate\":\"2023-08-01T01:26:12Z\"}',\n",
       "  '{\"product\":{\"productFamily\":\"API Request\",\"attributes\":{\"regionCode\":\"us-east-1\",\"servicecode\":\"AmazonS3\",\"groupDescription\":\"Data Returned by S3 Select in Standard\",\"usagetype\":\"Select-Returned-Bytes\",\"locationType\":\"AWS Region\",\"location\":\"US East (N. Virginia)\",\"servicename\":\"Amazon Simple Storage Service\",\"operation\":\"\",\"group\":\"S3-API-Select-Returned\"},\"sku\":\"6ZRHK2ZNCNPKY7VP\"},\"serviceCode\":\"AmazonS3\",\"terms\":{\"OnDemand\":{\"6ZRHK2ZNCNPKY7VP.JRTCKXETXF\":{\"priceDimensions\":{\"6ZRHK2ZNCNPKY7VP.JRTCKXETXF.6YS6EN2CT7\":{\"unit\":\"GB\",\"endRange\":\"Inf\",\"description\":\"$0.0007 per GB - for bytes returned by S3 Select in Standard\",\"appliesTo\":[],\"rateCode\":\"6ZRHK2ZNCNPKY7VP.JRTCKXETXF.6YS6EN2CT7\",\"beginRange\":\"0\",\"pricePerUnit\":{\"USD\":\"0.0007000000\"}}},\"sku\":\"6ZRHK2ZNCNPKY7VP\",\"effectiveDate\":\"2023-07-01T00:00:00Z\",\"offerTermCode\":\"JRTCKXETXF\",\"termAttributes\":{}}}},\"version\":\"20230801012612\",\"publicationDate\":\"2023-08-01T01:26:12Z\"}',\n",
       "  '{\"product\":{\"attributes\":{\"regionCode\":\"us-east-1\",\"servicecode\":\"AmazonS3\",\"groupDescription\":\"CopyPart to Glacier\",\"usagetype\":\"Requests-GLACIER-Tier1\",\"locationType\":\"AWS Region\",\"location\":\"US East (N. Virginia)\",\"servicename\":\"Amazon Simple Storage Service\",\"operation\":\"CopyPart\",\"group\":\"S3-API-GLACIER-Tier1\"},\"sku\":\"73EX4CDK9GT9M2PR\"},\"serviceCode\":\"AmazonS3\",\"terms\":{\"OnDemand\":{\"73EX4CDK9GT9M2PR.JRTCKXETXF\":{\"priceDimensions\":{\"73EX4CDK9GT9M2PR.JRTCKXETXF.6YS6EN2CT7\":{\"unit\":\"Requests\",\"endRange\":\"Inf\",\"description\":\"$0.005 per 1,000 CopyPart to Glacier\",\"appliesTo\":[],\"rateCode\":\"73EX4CDK9GT9M2PR.JRTCKXETXF.6YS6EN2CT7\",\"beginRange\":\"0\",\"pricePerUnit\":{\"USD\":\"0.0000050000\"}}},\"sku\":\"73EX4CDK9GT9M2PR\",\"effectiveDate\":\"2023-07-01T00:00:00Z\",\"offerTermCode\":\"JRTCKXETXF\",\"termAttributes\":{}}}},\"version\":\"20230801012612\",\"publicationDate\":\"2023-08-01T01:26:12Z\"}',\n",
       "  '{\"product\":{\"productFamily\":\"API Request\",\"attributes\":{\"regionCode\":\"us-east-1\",\"servicecode\":\"AmazonS3\",\"groupDescription\":\"Object Retrieval in Standard-Infrequent Access\",\"usagetype\":\"Retrieval-SIA\",\"locationType\":\"AWS Region\",\"location\":\"US East (N. Virginia)\",\"servicename\":\"Amazon Simple Storage Service\",\"operation\":\"\",\"group\":\"S3-API-SIA-Retrieval\"},\"sku\":\"7594RTQEE8ND34GA\"},\"serviceCode\":\"AmazonS3\",\"terms\":{\"OnDemand\":{\"7594RTQEE8ND34GA.JRTCKXETXF\":{\"priceDimensions\":{\"7594RTQEE8ND34GA.JRTCKXETXF.6YS6EN2CT7\":{\"unit\":\"GB\",\"endRange\":\"Inf\",\"description\":\"$0.01 per GB - flat fee for all bytes retrieved in Standard-Infrequent Access\",\"appliesTo\":[],\"rateCode\":\"7594RTQEE8ND34GA.JRTCKXETXF.6YS6EN2CT7\",\"beginRange\":\"0\",\"pricePerUnit\":{\"USD\":\"0.0100000000\"}}},\"sku\":\"7594RTQEE8ND34GA\",\"effectiveDate\":\"2023-07-01T00:00:00Z\",\"offerTermCode\":\"JRTCKXETXF\",\"termAttributes\":{}}}},\"version\":\"20230801012612\",\"publicationDate\":\"2023-08-01T01:26:12Z\"}',\n",
       "  '{\"product\":{\"attributes\":{\"regionCode\":\"us-east-1\",\"servicecode\":\"AmazonS3\",\"groupDescription\":\"UploadPart for Replication Time Control to Glacier\",\"usagetype\":\"Requests-GLACIER-Tier1\",\"locationType\":\"AWS Region\",\"location\":\"US East (N. Virginia)\",\"servicename\":\"Amazon Simple Storage Service\",\"operation\":\"UploadPartReplTime\",\"group\":\"S3-API-GLACIER-Tier1\"},\"sku\":\"77RKDF27N7F4EGVE\"},\"serviceCode\":\"AmazonS3\",\"terms\":{\"OnDemand\":{\"77RKDF27N7F4EGVE.JRTCKXETXF\":{\"priceDimensions\":{\"77RKDF27N7F4EGVE.JRTCKXETXF.6YS6EN2CT7\":{\"unit\":\"Requests\",\"endRange\":\"Inf\",\"description\":\"$0.005 per 1,000 UploadPart for Replication Time Control to Glacier\",\"appliesTo\":[],\"rateCode\":\"77RKDF27N7F4EGVE.JRTCKXETXF.6YS6EN2CT7\",\"beginRange\":\"0\",\"pricePerUnit\":{\"USD\":\"0.0000050000\"}}},\"sku\":\"77RKDF27N7F4EGVE\",\"effectiveDate\":\"2023-07-01T00:00:00Z\",\"offerTermCode\":\"JRTCKXETXF\",\"termAttributes\":{}}}},\"version\":\"20230801012612\",\"publicationDate\":\"2023-08-01T01:26:12Z\"}',\n",
       "  '{\"product\":{\"attributes\":{\"regionCode\":\"us-east-1\",\"feeDescription\":\"Per object per month monitoring and automation fee for objects in Intelligent-Tiering\",\"servicecode\":\"AmazonS3\",\"feeCode\":\"S3-Monitoring and Automation-ObjectCount\",\"usagetype\":\"Monitoring-Automation-INT\",\"locationType\":\"AWS Region\",\"location\":\"US East (N. Virginia)\",\"servicename\":\"Amazon Simple Storage Service\",\"operation\":\"\"},\"sku\":\"7DR3RFK9W2W43KSC\"},\"serviceCode\":\"AmazonS3\",\"terms\":{\"OnDemand\":{\"7DR3RFK9W2W43KSC.JRTCKXETXF\":{\"priceDimensions\":{\"7DR3RFK9W2W43KSC.JRTCKXETXF.6YS6EN2CT7\":{\"unit\":\"Objects\",\"endRange\":\"Inf\",\"description\":\"$0.0025 per 1,000 Objects per month in Intelligent-Tiering\",\"appliesTo\":[],\"rateCode\":\"7DR3RFK9W2W43KSC.JRTCKXETXF.6YS6EN2CT7\",\"beginRange\":\"0\",\"pricePerUnit\":{\"USD\":\"0.0000025000\"}}},\"sku\":\"7DR3RFK9W2W43KSC\",\"effectiveDate\":\"2023-07-01T00:00:00Z\",\"offerTermCode\":\"JRTCKXETXF\",\"termAttributes\":{}}}},\"version\":\"20230801012612\",\"publicationDate\":\"2023-08-01T01:26:12Z\"}',\n",
       "  '{\"product\":{\"attributes\":{\"regionCode\":\"us-east-1\",\"servicecode\":\"AmazonS3\",\"groupDescription\":\"Bulk INT Restore Requests\",\"usagetype\":\"USE1-Requests-INT-AA-Tier5\",\"locationType\":\"AWS Region\",\"location\":\"US East (N. Virginia)\",\"servicename\":\"Amazon Simple Storage Service\",\"operation\":\"RestoreObjectBulk\",\"group\":\"S3-API-INT-AA-TIER5\"},\"sku\":\"7G8CX7K9FGR9VY2K\"},\"serviceCode\":\"AmazonS3\",\"terms\":{\"OnDemand\":{\"7G8CX7K9FGR9VY2K.JRTCKXETXF\":{\"priceDimensions\":{\"7G8CX7K9FGR9VY2K.JRTCKXETXF.6YS6EN2CT7\":{\"unit\":\"API Requests\",\"endRange\":\"Inf\",\"description\":\"$0.0 per API Requests for Requests-INT-AA-Tier5:RestoreObjectBulk in US East (N. Virginia)\",\"appliesTo\":[],\"rateCode\":\"7G8CX7K9FGR9VY2K.JRTCKXETXF.6YS6EN2CT7\",\"beginRange\":\"0\",\"pricePerUnit\":{\"USD\":\"0.0000000000\"}}},\"sku\":\"7G8CX7K9FGR9VY2K\",\"effectiveDate\":\"2023-07-01T00:00:00Z\",\"offerTermCode\":\"JRTCKXETXF\",\"termAttributes\":{}}}},\"version\":\"20230801012612\",\"publicationDate\":\"2023-08-01T01:26:12Z\"}',\n",
       "  '{\"product\":{\"attributes\":{\"regionCode\":\"us-east-1\",\"servicecode\":\"AmazonS3\",\"groupDescription\":\"Lifecycle Transition Requests into One Zone-Infrequent Access\",\"usagetype\":\"Requests-Tier4\",\"locationType\":\"AWS Region\",\"location\":\"US East (N. Virginia)\",\"servicename\":\"Amazon Simple Storage Service\",\"operation\":\"S3-ZIATransition\",\"group\":\"S3-API-Tier4\"},\"sku\":\"7Q8ZATUMRNWEPNWW\"},\"serviceCode\":\"AmazonS3\",\"terms\":{\"OnDemand\":{\"7Q8ZATUMRNWEPNWW.JRTCKXETXF\":{\"priceDimensions\":{\"7Q8ZATUMRNWEPNWW.JRTCKXETXF.6YS6EN2CT7\":{\"unit\":\"Requests\",\"endRange\":\"Inf\",\"description\":\"$0.01 per 1,000 transitions to One Zone-Infrequent Access\",\"appliesTo\":[],\"rateCode\":\"7Q8ZATUMRNWEPNWW.JRTCKXETXF.6YS6EN2CT7\",\"beginRange\":\"0\",\"pricePerUnit\":{\"USD\":\"0.0000100000\"}}},\"sku\":\"7Q8ZATUMRNWEPNWW\",\"effectiveDate\":\"2023-07-01T00:00:00Z\",\"offerTermCode\":\"JRTCKXETXF\",\"termAttributes\":{}}}},\"version\":\"20230801012612\",\"publicationDate\":\"2023-08-01T01:26:12Z\"}',\n",
       "  '{\"product\":{\"productFamily\":\"Fee\",\"attributes\":{\"regionCode\":\"us-east-1\",\"feeDescription\":\"Per object fee for objects included in Analytics\",\"servicecode\":\"AmazonS3\",\"feeCode\":\"S3-Analytics-ObjectCount\",\"usagetype\":\"StorageAnalytics-ObjCount\",\"locationType\":\"AWS Region\",\"location\":\"US East (N. Virginia)\",\"servicename\":\"Amazon Simple Storage Service\",\"operation\":\"\"},\"sku\":\"7QBV9HJJ2HYT34GG\"},\"serviceCode\":\"AmazonS3\",\"terms\":{\"OnDemand\":{\"7QBV9HJJ2HYT34GG.JRTCKXETXF\":{\"priceDimensions\":{\"7QBV9HJJ2HYT34GG.JRTCKXETXF.6YS6EN2CT7\":{\"unit\":\"Objects\",\"endRange\":\"Inf\",\"description\":\"$0.10 per 1 million objects monitored in S3 Analytics\",\"appliesTo\":[],\"rateCode\":\"7QBV9HJJ2HYT34GG.JRTCKXETXF.6YS6EN2CT7\",\"beginRange\":\"0\",\"pricePerUnit\":{\"USD\":\"0.0000001000\"}}},\"sku\":\"7QBV9HJJ2HYT34GG\",\"effectiveDate\":\"2023-07-01T00:00:00Z\",\"offerTermCode\":\"JRTCKXETXF\",\"termAttributes\":{}}}},\"version\":\"20230801012612\",\"publicationDate\":\"2023-08-01T01:26:12Z\"}',\n",
       "  '{\"product\":{\"productFamily\":\"Storage\",\"attributes\":{\"volumeType\":\"IntelligentTieringDeepArchiveAccess\",\"storageClass\":\"Intelligent-Tiering\",\"regionCode\":\"us-east-1\",\"servicecode\":\"AmazonS3\",\"durability\":\"N/A\",\"usagetype\":\"TimedStorage-INT-DAA-ByteHrs\",\"locationType\":\"AWS Region\",\"location\":\"US East (N. Virginia)\",\"servicename\":\"Amazon Simple Storage Service\",\"availability\":\"N/A\",\"operation\":\"\"},\"sku\":\"82TFRVR9729PGTNP\"},\"serviceCode\":\"AmazonS3\",\"terms\":{\"OnDemand\":{\"82TFRVR9729PGTNP.JRTCKXETXF\":{\"priceDimensions\":{\"82TFRVR9729PGTNP.JRTCKXETXF.6YS6EN2CT7\":{\"unit\":\"GB-Mo\",\"endRange\":\"Inf\",\"description\":\"$0.00099 per Gigabyte Month for TimedStorage-INT-DAA-ByteHrs:IntelligentTieringDAAStorage in US East (N. Virginia)\",\"appliesTo\":[],\"rateCode\":\"82TFRVR9729PGTNP.JRTCKXETXF.6YS6EN2CT7\",\"beginRange\":\"0\",\"pricePerUnit\":{\"USD\":\"0.0009900000\"}}},\"sku\":\"82TFRVR9729PGTNP\",\"effectiveDate\":\"2023-07-01T00:00:00Z\",\"offerTermCode\":\"JRTCKXETXF\",\"termAttributes\":{}}}},\"version\":\"20230801012612\",\"publicationDate\":\"2023-08-01T01:26:12Z\"}',\n",
       "  '{\"product\":{\"productFamily\":\"Fee\",\"attributes\":{\"regionCode\":\"us-east-1\",\"feeDescription\":\"Fee for Expedited Retrieval of data stored\",\"servicecode\":\"AmazonS3\",\"feeCode\":\"S3-Expedited-Retrieval\",\"usagetype\":\"Expedited-Retrieval-Bytes\",\"locationType\":\"AWS Region\",\"location\":\"US East (N. Virginia)\",\"servicename\":\"Amazon Simple Storage Service\",\"operation\":\"\"},\"sku\":\"893YY33ZT2VG9JGZ\"},\"serviceCode\":\"AmazonS3\",\"terms\":{\"OnDemand\":{\"893YY33ZT2VG9JGZ.JRTCKXETXF\":{\"priceDimensions\":{\"893YY33ZT2VG9JGZ.JRTCKXETXF.6YS6EN2CT7\":{\"unit\":\"GB\",\"endRange\":\"Inf\",\"description\":\"$0.03 per GB - Expedited retrieval fee\",\"appliesTo\":[],\"rateCode\":\"893YY33ZT2VG9JGZ.JRTCKXETXF.6YS6EN2CT7\",\"beginRange\":\"0\",\"pricePerUnit\":{\"USD\":\"0.0300000000\"}}},\"sku\":\"893YY33ZT2VG9JGZ\",\"effectiveDate\":\"2023-07-01T00:00:00Z\",\"offerTermCode\":\"JRTCKXETXF\",\"termAttributes\":{}}}},\"version\":\"20230801012612\",\"publicationDate\":\"2023-08-01T01:26:12Z\"}',\n",
       "  '{\"product\":{\"attributes\":{\"regionCode\":\"us-east-1\",\"servicecode\":\"AmazonS3\",\"groupDescription\":\"InitiateMultipartUpload to Glacier\",\"usagetype\":\"Requests-GLACIER-Tier1\",\"locationType\":\"AWS Region\",\"location\":\"US East (N. Virginia)\",\"servicename\":\"Amazon Simple Storage Service\",\"operation\":\"InitiateMultipartUpload\",\"group\":\"S3-API-GLACIER-Tier1\"},\"sku\":\"99GWNAFCBP2VSEX8\"},\"serviceCode\":\"AmazonS3\",\"terms\":{\"OnDemand\":{\"99GWNAFCBP2VSEX8.JRTCKXETXF\":{\"priceDimensions\":{\"99GWNAFCBP2VSEX8.JRTCKXETXF.6YS6EN2CT7\":{\"unit\":\"Requests\",\"endRange\":\"Inf\",\"description\":\"$0.005 per 1,000 InitiateMultipartUpload requests to Glacier\",\"appliesTo\":[],\"rateCode\":\"99GWNAFCBP2VSEX8.JRTCKXETXF.6YS6EN2CT7\",\"beginRange\":\"0\",\"pricePerUnit\":{\"USD\":\"0.0000050000\"}}},\"sku\":\"99GWNAFCBP2VSEX8\",\"effectiveDate\":\"2023-07-01T00:00:00Z\",\"offerTermCode\":\"JRTCKXETXF\",\"termAttributes\":{}}}},\"version\":\"20230801012612\",\"publicationDate\":\"2023-08-01T01:26:12Z\"}',\n",
       "  '{\"product\":{\"attributes\":{\"regionCode\":\"us-east-1\",\"servicecode\":\"AmazonS3\",\"groupDescription\":\"GET and all other requests to Intelligent-Tiering\",\"usagetype\":\"Requests-INT-Tier2\",\"locationType\":\"AWS Region\",\"location\":\"US East (N. Virginia)\",\"servicename\":\"Amazon Simple Storage Service\",\"operation\":\"\",\"group\":\"S3-API-INT-Tier2\"},\"sku\":\"AUXZJX5BGC5ZKGGU\"},\"serviceCode\":\"AmazonS3\",\"terms\":{\"OnDemand\":{\"AUXZJX5BGC5ZKGGU.JRTCKXETXF\":{\"priceDimensions\":{\"AUXZJX5BGC5ZKGGU.JRTCKXETXF.6YS6EN2CT7\":{\"unit\":\"Requests\",\"endRange\":\"Inf\",\"description\":\"$0.004 per 10,000 GET and all other requests to Intelligent-Tiering\",\"appliesTo\":[],\"rateCode\":\"AUXZJX5BGC5ZKGGU.JRTCKXETXF.6YS6EN2CT7\",\"beginRange\":\"0\",\"pricePerUnit\":{\"USD\":\"0.0000004000\"}}},\"sku\":\"AUXZJX5BGC5ZKGGU\",\"effectiveDate\":\"2023-07-01T00:00:00Z\",\"offerTermCode\":\"JRTCKXETXF\",\"termAttributes\":{}}}},\"version\":\"20230801012612\",\"publicationDate\":\"2023-08-01T01:26:12Z\"}',\n",
       "  '{\"product\":{\"productFamily\":\"Fee\",\"attributes\":{\"regionCode\":\"us-east-1\",\"feeDescription\":\"Pro-rated fee for deleting items prior to 90 days\",\"servicecode\":\"AmazonS3\",\"feeCode\":\"Glacier:EarlyDelete\",\"usagetype\":\"EarlyDelete-ByteHrs\",\"locationType\":\"AWS Region\",\"location\":\"US East (N. Virginia)\",\"servicename\":\"Amazon Simple Storage Service\",\"operation\":\"\"},\"sku\":\"AVHPNKWHP35GZ5ZH\"},\"serviceCode\":\"AmazonS3\",\"terms\":{\"OnDemand\":{\"AVHPNKWHP35GZ5ZH.JRTCKXETXF\":{\"priceDimensions\":{\"AVHPNKWHP35GZ5ZH.JRTCKXETXF.6YS6EN2CT7\":{\"unit\":\"GB-Mo\",\"endRange\":\"Inf\",\"description\":\"$0.0036 per GB/month prorated for Glacier Early Delete\",\"appliesTo\":[],\"rateCode\":\"AVHPNKWHP35GZ5ZH.JRTCKXETXF.6YS6EN2CT7\",\"beginRange\":\"0\",\"pricePerUnit\":{\"USD\":\"0.0036000000\"}}},\"sku\":\"AVHPNKWHP35GZ5ZH\",\"effectiveDate\":\"2023-07-01T00:00:00Z\",\"offerTermCode\":\"JRTCKXETXF\",\"termAttributes\":{}}}},\"version\":\"20230801012612\",\"publicationDate\":\"2023-08-01T01:26:12Z\"}',\n",
       "  '{\"product\":{\"productFamily\":\"API Request\",\"attributes\":{\"regionCode\":\"us-east-1\",\"servicecode\":\"AmazonS3\",\"groupDescription\":\"PUT/COPY/POST or LIST requests to One Zone-Infrequent Access\",\"usagetype\":\"Requests-ZIA-Tier1\",\"locationType\":\"AWS Region\",\"location\":\"US East (N. Virginia)\",\"servicename\":\"Amazon Simple Storage Service\",\"operation\":\"\",\"group\":\"S3-API-ZIA-Tier1\"},\"sku\":\"B7AD99B3N6FTT9TR\"},\"serviceCode\":\"AmazonS3\",\"terms\":{\"OnDemand\":{\"B7AD99B3N6FTT9TR.JRTCKXETXF\":{\"priceDimensions\":{\"B7AD99B3N6FTT9TR.JRTCKXETXF.6YS6EN2CT7\":{\"unit\":\"Requests\",\"endRange\":\"Inf\",\"description\":\"$0.01 per 1,000 PUT, COPY, POST or LIST requests to One Zone-Infrequent Access\",\"appliesTo\":[],\"rateCode\":\"B7AD99B3N6FTT9TR.JRTCKXETXF.6YS6EN2CT7\",\"beginRange\":\"0\",\"pricePerUnit\":{\"USD\":\"0.0000100000\"}}},\"sku\":\"B7AD99B3N6FTT9TR\",\"effectiveDate\":\"2023-07-01T00:00:00Z\",\"offerTermCode\":\"JRTCKXETXF\",\"termAttributes\":{}}}},\"version\":\"20230801012612\",\"publicationDate\":\"2023-08-01T01:26:12Z\"}',\n",
       "  '{\"product\":{\"attributes\":{\"regionCode\":\"us-east-1\",\"servicecode\":\"AmazonS3\",\"groupDescription\":\"Expedited INT Retrieval\",\"usagetype\":\"USE1-Expedited-Retrieval-Bytes\",\"locationType\":\"AWS Region\",\"location\":\"US East (N. Virginia)\",\"servicename\":\"Amazon Simple Storage Service\",\"operation\":\"IntAARestoreObject\",\"group\":\"INT-AA-RestoreObject\"},\"sku\":\"BBPZVGKM9PCPSXTT\"},\"serviceCode\":\"AmazonS3\",\"terms\":{\"OnDemand\":{\"BBPZVGKM9PCPSXTT.JRTCKXETXF\":{\"priceDimensions\":{\"BBPZVGKM9PCPSXTT.JRTCKXETXF.6YS6EN2CT7\":{\"unit\":\"GB\",\"endRange\":\"Inf\",\"description\":\"$0.03 per GB for Expedited-Retrieval-Bytes:IntAARestoreObject in US East (N. Virginia)\",\"appliesTo\":[],\"rateCode\":\"BBPZVGKM9PCPSXTT.JRTCKXETXF.6YS6EN2CT7\",\"beginRange\":\"0\",\"pricePerUnit\":{\"USD\":\"0.0300000000\"}}},\"sku\":\"BBPZVGKM9PCPSXTT\",\"effectiveDate\":\"2023-07-01T00:00:00Z\",\"offerTermCode\":\"JRTCKXETXF\",\"termAttributes\":{}}}},\"version\":\"20230801012612\",\"publicationDate\":\"2023-08-01T01:26:12Z\"}',\n",
       "  '{\"product\":{\"attributes\":{\"regionCode\":\"us-east-1\",\"servicecode\":\"AmazonS3\",\"groupDescription\":\"Lifecycle Transition Requests into Intelligent-Tiering\",\"usagetype\":\"Requests-Tier4\",\"locationType\":\"AWS Region\",\"location\":\"US East (N. Virginia)\",\"servicename\":\"Amazon Simple Storage Service\",\"operation\":\"S3-INTTransition\",\"group\":\"S3-API-Tier4\"},\"sku\":\"BUS5A6KXQNHDMERS\"},\"serviceCode\":\"AmazonS3\",\"terms\":{\"OnDemand\":{\"BUS5A6KXQNHDMERS.JRTCKXETXF\":{\"priceDimensions\":{\"BUS5A6KXQNHDMERS.JRTCKXETXF.6YS6EN2CT7\":{\"unit\":\"Requests\",\"endRange\":\"Inf\",\"description\":\"$0.01 per 1,000 transitions to Intelligent Tiering\",\"appliesTo\":[],\"rateCode\":\"BUS5A6KXQNHDMERS.JRTCKXETXF.6YS6EN2CT7\",\"beginRange\":\"0\",\"pricePerUnit\":{\"USD\":\"0.0000100000\"}}},\"sku\":\"BUS5A6KXQNHDMERS\",\"effectiveDate\":\"2023-07-01T00:00:00Z\",\"offerTermCode\":\"JRTCKXETXF\",\"termAttributes\":{}}}},\"version\":\"20230801012612\",\"publicationDate\":\"2023-08-01T01:26:12Z\"}',\n",
       "  '{\"product\":{\"attributes\":{\"regionCode\":\"us-east-1\",\"servicecode\":\"AmazonS3\",\"groupDescription\":\"PUT/COPY/POST or LIST requests to Intelligent-Tiering\",\"usagetype\":\"Requests-INT-Tier1\",\"locationType\":\"AWS Region\",\"location\":\"US East (N. Virginia)\",\"servicename\":\"Amazon Simple Storage Service\",\"operation\":\"\",\"group\":\"S3-API-INT-Tier1\"},\"sku\":\"CH95C5M2W4QQF3RY\"},\"serviceCode\":\"AmazonS3\",\"terms\":{\"OnDemand\":{\"CH95C5M2W4QQF3RY.JRTCKXETXF\":{\"priceDimensions\":{\"CH95C5M2W4QQF3RY.JRTCKXETXF.6YS6EN2CT7\":{\"unit\":\"Requests\",\"endRange\":\"Inf\",\"description\":\"$0.005 per 1,000 PUT, COPY, POST, or LIST requests to Intelligent-Tiering\",\"appliesTo\":[],\"rateCode\":\"CH95C5M2W4QQF3RY.JRTCKXETXF.6YS6EN2CT7\",\"beginRange\":\"0\",\"pricePerUnit\":{\"USD\":\"0.0000050000\"}}},\"sku\":\"CH95C5M2W4QQF3RY\",\"effectiveDate\":\"2023-07-01T00:00:00Z\",\"offerTermCode\":\"JRTCKXETXF\",\"termAttributes\":{}}}},\"version\":\"20230801012612\",\"publicationDate\":\"2023-08-01T01:26:12Z\"}',\n",
       "  '{\"product\":{\"productFamily\":\"API Request\",\"attributes\":{\"regionCode\":\"us-east-1\",\"servicecode\":\"AmazonS3\",\"groupDescription\":\"Object Retrieval in Glacier Instant Retrieval\",\"usagetype\":\"Retrieval-GIR\",\"locationType\":\"AWS Region\",\"location\":\"US East (N. Virginia)\",\"servicename\":\"Amazon Simple Storage Service\",\"operation\":\"\",\"group\":\"S3-API-GIR-Retrieval\"},\"sku\":\"CN3DWKRWAMMHWCA3\"},\"serviceCode\":\"AmazonS3\",\"terms\":{\"OnDemand\":{\"CN3DWKRWAMMHWCA3.JRTCKXETXF\":{\"priceDimensions\":{\"CN3DWKRWAMMHWCA3.JRTCKXETXF.6YS6EN2CT7\":{\"unit\":\"GB\",\"endRange\":\"Inf\",\"description\":\"$0.03 per GB - flat fee for all bytes retrieved in Glacier Instant Retrieval\",\"appliesTo\":[],\"rateCode\":\"CN3DWKRWAMMHWCA3.JRTCKXETXF.6YS6EN2CT7\",\"beginRange\":\"0\",\"pricePerUnit\":{\"USD\":\"0.0300000000\"}}},\"sku\":\"CN3DWKRWAMMHWCA3\",\"effectiveDate\":\"2023-07-01T00:00:00Z\",\"offerTermCode\":\"JRTCKXETXF\",\"termAttributes\":{}}}},\"version\":\"20230801012612\",\"publicationDate\":\"2023-08-01T01:26:12Z\"}',\n",
       "  '{\"product\":{\"productFamily\":\"Fee\",\"attributes\":{\"regionCode\":\"us-east-1\",\"feeDescription\":\"No charge for Free Tier Storage Lens\",\"servicecode\":\"AmazonS3\",\"feeCode\":\"S3-StorageLensFreeTier\",\"usagetype\":\"USE1-StorageLensFreeTier-ObjCount\",\"locationType\":\"AWS Region\",\"location\":\"US East (N. Virginia)\",\"servicename\":\"Amazon Simple Storage Service\",\"operation\":\"StorageLens\"},\"sku\":\"CNG9B5M4XJ25WDEE\"},\"serviceCode\":\"AmazonS3\",\"terms\":{\"OnDemand\":{\"CNG9B5M4XJ25WDEE.JRTCKXETXF\":{\"priceDimensions\":{\"CNG9B5M4XJ25WDEE.JRTCKXETXF.6YS6EN2CT7\":{\"unit\":\"Objects\",\"endRange\":\"Inf\",\"description\":\"$0.00 per MM objects per month for Storage Lens Free Tier to US East (N. Virginia)\",\"appliesTo\":[],\"rateCode\":\"CNG9B5M4XJ25WDEE.JRTCKXETXF.6YS6EN2CT7\",\"beginRange\":\"0\",\"pricePerUnit\":{\"USD\":\"0.0000000000\"}}},\"sku\":\"CNG9B5M4XJ25WDEE\",\"effectiveDate\":\"2023-07-01T00:00:00Z\",\"offerTermCode\":\"JRTCKXETXF\",\"termAttributes\":{}}}},\"version\":\"20230801012612\",\"publicationDate\":\"2023-08-01T01:26:12Z\"}',\n",
       "  '{\"product\":{\"productFamily\":\"Storage\",\"attributes\":{\"volumeType\":\"INTAAObjectOverhead\",\"storageClass\":\"Intelligent-Tiering\",\"regionCode\":\"us-east-1\",\"servicecode\":\"AmazonS3\",\"durability\":\"N/A\",\"usagetype\":\"TimedStorage-INT-AA-ByteHrs\",\"locationType\":\"AWS Region\",\"location\":\"US East (N. Virginia)\",\"servicename\":\"Amazon Simple Storage Service\",\"availability\":\"N/A\",\"operation\":\"INTAAObjectOverhead\"},\"sku\":\"CRC8UP36GSCYTHBZ\"},\"serviceCode\":\"AmazonS3\",\"terms\":{\"OnDemand\":{\"CRC8UP36GSCYTHBZ.JRTCKXETXF\":{\"priceDimensions\":{\"CRC8UP36GSCYTHBZ.JRTCKXETXF.6YS6EN2CT7\":{\"unit\":\"GB-Mo\",\"endRange\":\"Inf\",\"description\":\"$0.0036 per Gigabyte Month for TimedStorage-INT-AA-ByteHrs:INTAAObjectOverhead in US East (N. Virginia)\",\"appliesTo\":[],\"rateCode\":\"CRC8UP36GSCYTHBZ.JRTCKXETXF.6YS6EN2CT7\",\"beginRange\":\"0\",\"pricePerUnit\":{\"USD\":\"0.0036000000\"}}},\"sku\":\"CRC8UP36GSCYTHBZ\",\"effectiveDate\":\"2023-07-01T00:00:00Z\",\"offerTermCode\":\"JRTCKXETXF\",\"termAttributes\":{}}}},\"version\":\"20230801012612\",\"publicationDate\":\"2023-08-01T01:26:12Z\"}',\n",
       "  '{\"product\":{\"attributes\":{\"regionCode\":\"us-east-1\",\"feeDescription\":\"Pro-rated fee for objects deleted before 30 days in Intelligent-Tiering volume\",\"servicecode\":\"AmazonS3\",\"feeCode\":\"S3:EarlyDelete-INT\",\"usagetype\":\"EarlyDelete-INT\",\"locationType\":\"AWS Region\",\"location\":\"US East (N. Virginia)\",\"servicename\":\"Amazon Simple Storage Service\",\"operation\":\"\"},\"sku\":\"D44ANS9DERJUGN3R\"},\"serviceCode\":\"AmazonS3\",\"terms\":{\"OnDemand\":{\"D44ANS9DERJUGN3R.JRTCKXETXF\":{\"priceDimensions\":{\"D44ANS9DERJUGN3R.JRTCKXETXF.D42MF2PVJS\":{\"unit\":\"GB-Mo\",\"endRange\":\"512000\",\"description\":\"$0.022 per GB - next 450 TB / month prorated for objects deleted or overwritten before 30 days in Intelligent-Tiering\",\"appliesTo\":[],\"rateCode\":\"D44ANS9DERJUGN3R.JRTCKXETXF.D42MF2PVJS\",\"beginRange\":\"51200\",\"pricePerUnit\":{\"USD\":\"0.0220000000\"}},\"D44ANS9DERJUGN3R.JRTCKXETXF.PXJDJ3YRG3\":{\"unit\":\"GB-Mo\",\"endRange\":\"Inf\",\"description\":\"$0.021 per GB - over 500 TB / month prorated for objects deleted or overwritten before 30 days in Intelligent-Tiering\",\"appliesTo\":[],\"rateCode\":\"D44ANS9DERJUGN3R.JRTCKXETXF.PXJDJ3YRG3\",\"beginRange\":\"512000\",\"pricePerUnit\":{\"USD\":\"0.0210000000\"}},\"D44ANS9DERJUGN3R.JRTCKXETXF.PGHJ3S3EYE\":{\"unit\":\"GB-Mo\",\"endRange\":\"51200\",\"description\":\"$0.023 per GB - first 50 TB / month prorated for objects deleted or overwritten before 30 days in Intelligent-Tiering\",\"appliesTo\":[],\"rateCode\":\"D44ANS9DERJUGN3R.JRTCKXETXF.PGHJ3S3EYE\",\"beginRange\":\"0\",\"pricePerUnit\":{\"USD\":\"0.0230000000\"}}},\"sku\":\"D44ANS9DERJUGN3R\",\"effectiveDate\":\"2023-07-01T00:00:00Z\",\"offerTermCode\":\"JRTCKXETXF\",\"termAttributes\":{}}}},\"version\":\"20230801012612\",\"publicationDate\":\"2023-08-01T01:26:12Z\"}',\n",
       "  '{\"product\":{\"attributes\":{\"regionCode\":\"us-east-1\",\"feeDescription\":\"Fee for Bulk Retrieval of data stored\",\"servicecode\":\"AmazonS3\",\"feeCode\":\"S3-Bulk-Retrieval\",\"usagetype\":\"Bulk-Retrieval-Bytes\",\"locationType\":\"AWS Region\",\"location\":\"US East (N. Virginia)\",\"servicename\":\"Amazon Simple Storage Service\",\"operation\":\"RestoreObject\"},\"sku\":\"DJVU2QGWTTYMPVET\"},\"serviceCode\":\"AmazonS3\",\"terms\":{\"OnDemand\":{\"DJVU2QGWTTYMPVET.JRTCKXETXF\":{\"priceDimensions\":{\"DJVU2QGWTTYMPVET.JRTCKXETXF.6YS6EN2CT7\":{\"unit\":\"GB\",\"endRange\":\"Inf\",\"description\":\"$0.00 per GB - Bulk retrieval\",\"appliesTo\":[],\"rateCode\":\"DJVU2QGWTTYMPVET.JRTCKXETXF.6YS6EN2CT7\",\"beginRange\":\"0\",\"pricePerUnit\":{\"USD\":\"0.0000000000\"}}},\"sku\":\"DJVU2QGWTTYMPVET\",\"effectiveDate\":\"2023-07-01T00:00:00Z\",\"offerTermCode\":\"JRTCKXETXF\",\"termAttributes\":{}}}},\"version\":\"20230801012612\",\"publicationDate\":\"2023-08-01T01:26:12Z\"}',\n",
       "  '{\"product\":{\"productFamily\":\"Storage\",\"attributes\":{\"volumeType\":\"Intelligent-Tiering\",\"storageClass\":\"Intelligent-Tiering\",\"regionCode\":\"us-east-1\",\"servicecode\":\"AmazonS3\",\"durability\":\"N/A\",\"usagetype\":\"TimedStorage-INT-DAA-ByteHrs\",\"locationType\":\"AWS Region\",\"location\":\"US East (N. Virginia)\",\"servicename\":\"Amazon Simple Storage Service\",\"availability\":\"N/A\",\"operation\":\"INTDAAObjectOverhead\"},\"sku\":\"DTFUVA4VWBP8ZQ6D\"},\"serviceCode\":\"AmazonS3\",\"terms\":{\"OnDemand\":{\"DTFUVA4VWBP8ZQ6D.JRTCKXETXF\":{\"priceDimensions\":{\"DTFUVA4VWBP8ZQ6D.JRTCKXETXF.6YS6EN2CT7\":{\"unit\":\"GB-Mo\",\"endRange\":\"Inf\",\"description\":\"$0.00099 per Gigabyte Month for TimedStorage-INT-DAA-ByteHrs:INTDAAObjectOverhead in US East (N. Virginia)\",\"appliesTo\":[],\"rateCode\":\"DTFUVA4VWBP8ZQ6D.JRTCKXETXF.6YS6EN2CT7\",\"beginRange\":\"0\",\"pricePerUnit\":{\"USD\":\"0.0009900000\"}}},\"sku\":\"DTFUVA4VWBP8ZQ6D\",\"effectiveDate\":\"2023-07-01T00:00:00Z\",\"offerTermCode\":\"JRTCKXETXF\",\"termAttributes\":{}}}},\"version\":\"20230801012612\",\"publicationDate\":\"2023-08-01T01:26:12Z\"}',\n",
       "  '{\"product\":{\"productFamily\":\"API Request\",\"attributes\":{\"regionCode\":\"us-east-1\",\"servicecode\":\"AmazonS3\",\"groupDescription\":\"PUT/COPY/POST or LIST requests\",\"usagetype\":\"Requests-Tier1\",\"locationType\":\"AWS Region\",\"location\":\"US East (N. Virginia)\",\"servicename\":\"Amazon Simple Storage Service\",\"operation\":\"\",\"group\":\"S3-API-Tier1\"},\"sku\":\"E9YHNFENF4XQBZR6\"},\"serviceCode\":\"AmazonS3\",\"terms\":{\"OnDemand\":{\"E9YHNFENF4XQBZR6.JRTCKXETXF\":{\"priceDimensions\":{\"E9YHNFENF4XQBZR6.JRTCKXETXF.6YS6EN2CT7\":{\"unit\":\"Requests\",\"endRange\":\"Inf\",\"description\":\"$0.005 per 1,000 PUT, COPY, POST, or LIST requests\",\"appliesTo\":[],\"rateCode\":\"E9YHNFENF4XQBZR6.JRTCKXETXF.6YS6EN2CT7\",\"beginRange\":\"0\",\"pricePerUnit\":{\"USD\":\"0.0000050000\"}}},\"sku\":\"E9YHNFENF4XQBZR6\",\"effectiveDate\":\"2023-07-01T00:00:00Z\",\"offerTermCode\":\"JRTCKXETXF\",\"termAttributes\":{}}}},\"version\":\"20230801012612\",\"publicationDate\":\"2023-08-01T01:26:12Z\"}',\n",
       "  '{\"product\":{\"attributes\":{\"regionCode\":\"us-east-1\",\"servicecode\":\"AmazonS3\",\"groupDescription\":\"PUT requests to Glacier\",\"usagetype\":\"Requests-GLACIER-Tier1\",\"locationType\":\"AWS Region\",\"location\":\"US East (N. Virginia)\",\"servicename\":\"Amazon Simple Storage Service\",\"operation\":\"PutObject\",\"group\":\"S3-API-GLACIER-Tier1\"},\"sku\":\"ETMMA5922DBD756V\"},\"serviceCode\":\"AmazonS3\",\"terms\":{\"OnDemand\":{\"ETMMA5922DBD756V.JRTCKXETXF\":{\"priceDimensions\":{\"ETMMA5922DBD756V.JRTCKXETXF.6YS6EN2CT7\":{\"unit\":\"Requests\",\"endRange\":\"Inf\",\"description\":\"$0.03 per 1,000 PutObject requests to Glacier\",\"appliesTo\":[],\"rateCode\":\"ETMMA5922DBD756V.JRTCKXETXF.6YS6EN2CT7\",\"beginRange\":\"0\",\"pricePerUnit\":{\"USD\":\"0.0000300000\"}}},\"sku\":\"ETMMA5922DBD756V\",\"effectiveDate\":\"2023-07-01T00:00:00Z\",\"offerTermCode\":\"JRTCKXETXF\",\"termAttributes\":{}}}},\"version\":\"20230801012612\",\"publicationDate\":\"2023-08-01T01:26:12Z\"}',\n",
       "  '{\"product\":{\"productFamily\":\"Storage\",\"attributes\":{\"volumeType\":\"Glacier Deep Archive\",\"storageClass\":\"Archive\",\"regionCode\":\"us-east-1\",\"servicecode\":\"AmazonS3\",\"durability\":\"99.999999999%\",\"usagetype\":\"TimedStorage-GDA-Staging\",\"locationType\":\"AWS Region\",\"location\":\"US East (N. Virginia)\",\"servicename\":\"Amazon Simple Storage Service\",\"availability\":\"99.99%\",\"operation\":\"\"},\"sku\":\"EXB3YJ6YV5CRH4JN\"},\"serviceCode\":\"AmazonS3\",\"terms\":{\"OnDemand\":{\"EXB3YJ6YV5CRH4JN.JRTCKXETXF\":{\"priceDimensions\":{\"EXB3YJ6YV5CRH4JN.JRTCKXETXF.6YS6EN2CT7\":{\"unit\":\"GB-Mo\",\"endRange\":\"Inf\",\"description\":\"$0.021 per GB-Month of storage used in GlacierStagingStorage\",\"appliesTo\":[],\"rateCode\":\"EXB3YJ6YV5CRH4JN.JRTCKXETXF.6YS6EN2CT7\",\"beginRange\":\"0\",\"pricePerUnit\":{\"USD\":\"0.0210000000\"}}},\"sku\":\"EXB3YJ6YV5CRH4JN\",\"effectiveDate\":\"2023-07-01T00:00:00Z\",\"offerTermCode\":\"JRTCKXETXF\",\"termAttributes\":{}}}},\"version\":\"20230801012612\",\"publicationDate\":\"2023-08-01T01:26:12Z\"}',\n",
       "  '{\"product\":{\"productFamily\":\"API Request\",\"attributes\":{\"regionCode\":\"us-east-1\",\"servicecode\":\"AmazonS3\",\"groupDescription\":\"PUT/COPY/POST or LIST requests to Standard-Infrequent Access\",\"usagetype\":\"Requests-SIA-Tier1\",\"locationType\":\"AWS Region\",\"location\":\"US East (N. Virginia)\",\"servicename\":\"Amazon Simple Storage Service\",\"operation\":\"\",\"group\":\"S3-API-SIA-Tier1\"},\"sku\":\"FNYHUPR3T466JJYM\"},\"serviceCode\":\"AmazonS3\",\"terms\":{\"OnDemand\":{\"FNYHUPR3T466JJYM.JRTCKXETXF\":{\"priceDimensions\":{\"FNYHUPR3T466JJYM.JRTCKXETXF.6YS6EN2CT7\":{\"unit\":\"Requests\",\"endRange\":\"Inf\",\"description\":\"$0.01 per 1,000 PUT, COPY, POST or LIST requests to Standard-Infrequent Access\",\"appliesTo\":[],\"rateCode\":\"FNYHUPR3T466JJYM.JRTCKXETXF.6YS6EN2CT7\",\"beginRange\":\"0\",\"pricePerUnit\":{\"USD\":\"0.0000100000\"}}},\"sku\":\"FNYHUPR3T466JJYM\",\"effectiveDate\":\"2023-07-01T00:00:00Z\",\"offerTermCode\":\"JRTCKXETXF\",\"termAttributes\":{}}}},\"version\":\"20230801012612\",\"publicationDate\":\"2023-08-01T01:26:12Z\"}',\n",
       "  '{\"product\":{\"productFamily\":\"Storage\",\"attributes\":{\"volumeType\":\"Tags\",\"storageClass\":\"Tags\",\"regionCode\":\"us-east-1\",\"servicecode\":\"AmazonS3\",\"durability\":\"N/A\",\"usagetype\":\"TagStorage-TagHrs\",\"locationType\":\"AWS Region\",\"location\":\"US East (N. Virginia)\",\"servicename\":\"Amazon Simple Storage Service\",\"availability\":\"N/A\",\"operation\":\"\"},\"sku\":\"G76SDFUV63NSS6N2\"},\"serviceCode\":\"AmazonS3\",\"terms\":{\"OnDemand\":{\"G76SDFUV63NSS6N2.JRTCKXETXF\":{\"priceDimensions\":{\"G76SDFUV63NSS6N2.JRTCKXETXF.6YS6EN2CT7\":{\"unit\":\"Tag-Mo\",\"endRange\":\"Inf\",\"description\":\"$0.01 per 10,000 tags\",\"appliesTo\":[],\"rateCode\":\"G76SDFUV63NSS6N2.JRTCKXETXF.6YS6EN2CT7\",\"beginRange\":\"0\",\"pricePerUnit\":{\"USD\":\"0.0000010000\"}}},\"sku\":\"G76SDFUV63NSS6N2\",\"effectiveDate\":\"2023-07-01T00:00:00Z\",\"offerTermCode\":\"JRTCKXETXF\",\"termAttributes\":{}}}},\"version\":\"20230801012612\",\"publicationDate\":\"2023-08-01T01:26:12Z\"}',\n",
       "  '{\"product\":{\"attributes\":{\"regionCode\":\"us-east-1\",\"feeDescription\":\"Pro-rated fee for objects deleted before 90 days in Glacier Instant Retrieval volume\",\"servicecode\":\"AmazonS3\",\"feeCode\":\"S3:EarlyDelete-GIR\",\"usagetype\":\"EarlyDelete-GIR\",\"locationType\":\"AWS Region\",\"location\":\"US East (N. Virginia)\",\"servicename\":\"Amazon Simple Storage Service\",\"operation\":\"\"},\"sku\":\"GCDNDUMKKKSY8SH8\"},\"serviceCode\":\"AmazonS3\",\"terms\":{\"OnDemand\":{\"GCDNDUMKKKSY8SH8.JRTCKXETXF\":{\"priceDimensions\":{\"GCDNDUMKKKSY8SH8.JRTCKXETXF.6YS6EN2CT7\":{\"unit\":\"GB-Mo\",\"endRange\":\"Inf\",\"description\":\"$0.004 per GB-Month prorated for objects deleted or overwritten before 90 days in Glacier Instant Retrieval\",\"appliesTo\":[],\"rateCode\":\"GCDNDUMKKKSY8SH8.JRTCKXETXF.6YS6EN2CT7\",\"beginRange\":\"0\",\"pricePerUnit\":{\"USD\":\"0.0040000000\"}}},\"sku\":\"GCDNDUMKKKSY8SH8\",\"effectiveDate\":\"2023-07-01T00:00:00Z\",\"offerTermCode\":\"JRTCKXETXF\",\"termAttributes\":{}}}},\"version\":\"20230801012612\",\"publicationDate\":\"2023-08-01T01:26:12Z\"}',\n",
       "  '{\"product\":{\"productFamily\":\"API Request\",\"attributes\":{\"regionCode\":\"us-east-1\",\"servicecode\":\"AmazonS3\",\"groupDescription\":\"Data Returned by S3 Select in One Zone-Infrequent Access\",\"usagetype\":\"Select-Returned-ZIA-Bytes\",\"locationType\":\"AWS Region\",\"location\":\"US East (N. Virginia)\",\"servicename\":\"Amazon Simple Storage Service\",\"operation\":\"\",\"group\":\"S3-API-ZIA-Select-Returned\"},\"sku\":\"GEDWBB87THAPZSPK\"},\"serviceCode\":\"AmazonS3\",\"terms\":{\"OnDemand\":{\"GEDWBB87THAPZSPK.JRTCKXETXF\":{\"priceDimensions\":{\"GEDWBB87THAPZSPK.JRTCKXETXF.6YS6EN2CT7\":{\"unit\":\"GB\",\"endRange\":\"Inf\",\"description\":\"$0.01 per GB - for bytes returned by S3 Select in One Zone-Infrequent Access\",\"appliesTo\":[],\"rateCode\":\"GEDWBB87THAPZSPK.JRTCKXETXF.6YS6EN2CT7\",\"beginRange\":\"0\",\"pricePerUnit\":{\"USD\":\"0.0100000000\"}}},\"sku\":\"GEDWBB87THAPZSPK\",\"effectiveDate\":\"2023-07-01T00:00:00Z\",\"offerTermCode\":\"JRTCKXETXF\",\"termAttributes\":{}}}},\"version\":\"20230801012612\",\"publicationDate\":\"2023-08-01T01:26:12Z\"}',\n",
       "  '{\"product\":{\"attributes\":{\"regionCode\":\"us-east-1\",\"servicecode\":\"AmazonS3\",\"groupDescription\":\"Lifecycle Transition Requests into Glacier Instant Retrieval\",\"usagetype\":\"Requests-Tier4\",\"locationType\":\"AWS Region\",\"location\":\"US East (N. Virginia)\",\"servicename\":\"Amazon Simple Storage Service\",\"operation\":\"S3-GIRTransition\",\"group\":\"S3-API-Tier4\"},\"sku\":\"GMZJHKZDB9NQ9KKY\"},\"serviceCode\":\"AmazonS3\",\"terms\":{\"OnDemand\":{\"GMZJHKZDB9NQ9KKY.JRTCKXETXF\":{\"priceDimensions\":{\"GMZJHKZDB9NQ9KKY.JRTCKXETXF.6YS6EN2CT7\":{\"unit\":\"Requests\",\"endRange\":\"Inf\",\"description\":\"$0.02 per 1,000 transitions to Glacier Instant Retrieval\",\"appliesTo\":[],\"rateCode\":\"GMZJHKZDB9NQ9KKY.JRTCKXETXF.6YS6EN2CT7\",\"beginRange\":\"0\",\"pricePerUnit\":{\"USD\":\"0.0000200000\"}}},\"sku\":\"GMZJHKZDB9NQ9KKY\",\"effectiveDate\":\"2023-07-01T00:00:00Z\",\"offerTermCode\":\"JRTCKXETXF\",\"termAttributes\":{}}}},\"version\":\"20230801012612\",\"publicationDate\":\"2023-08-01T01:26:12Z\"}',\n",
       "  '{\"product\":{\"attributes\":{\"regionCode\":\"us-east-1\",\"servicecode\":\"AmazonS3\",\"groupDescription\":\"Lifecycle Transition Requests into Glacier Deep Archive\",\"usagetype\":\"Requests-Tier3\",\"locationType\":\"AWS Region\",\"location\":\"US East (N. Virginia)\",\"servicename\":\"Amazon Simple Storage Service\",\"operation\":\"S3-GDATransition\",\"group\":\"S3-API-Tier3\"},\"sku\":\"GQYN2VTWYJQVTWHQ\"},\"serviceCode\":\"AmazonS3\",\"terms\":{\"OnDemand\":{\"GQYN2VTWYJQVTWHQ.JRTCKXETXF\":{\"priceDimensions\":{\"GQYN2VTWYJQVTWHQ.JRTCKXETXF.6YS6EN2CT7\":{\"unit\":\"Requests\",\"endRange\":\"Inf\",\"description\":\"$0.05 per 1,000 Lifecycle requests to Glacier Deep Archive in US East (N. Virginia)\",\"appliesTo\":[],\"rateCode\":\"GQYN2VTWYJQVTWHQ.JRTCKXETXF.6YS6EN2CT7\",\"beginRange\":\"0\",\"pricePerUnit\":{\"USD\":\"0.0000500000\"}}},\"sku\":\"GQYN2VTWYJQVTWHQ\",\"effectiveDate\":\"2023-07-01T00:00:00Z\",\"offerTermCode\":\"JRTCKXETXF\",\"termAttributes\":{}}}},\"version\":\"20230801012612\",\"publicationDate\":\"2023-08-01T01:26:12Z\"}',\n",
       "  '{\"product\":{\"productFamily\":\"Fee\",\"attributes\":{\"regionCode\":\"us-east-1\",\"feeDescription\":\"Per object fee for objects listed in an Inventory\",\"servicecode\":\"AmazonS3\",\"feeCode\":\"S3-Inventory-ObjectsListed\",\"usagetype\":\"Inventory-ObjectsListed\",\"locationType\":\"AWS Region\",\"location\":\"US East (N. Virginia)\",\"servicename\":\"Amazon Simple Storage Service\",\"operation\":\"\"},\"sku\":\"GV4UH3C2SAN3EC98\"},\"serviceCode\":\"AmazonS3\",\"terms\":{\"OnDemand\":{\"GV4UH3C2SAN3EC98.JRTCKXETXF\":{\"priceDimensions\":{\"GV4UH3C2SAN3EC98.JRTCKXETXF.6YS6EN2CT7\":{\"unit\":\"Objects\",\"endRange\":\"Inf\",\"description\":\"$0.0025 per 1 million objects listed in S3 Inventory\",\"appliesTo\":[],\"rateCode\":\"GV4UH3C2SAN3EC98.JRTCKXETXF.6YS6EN2CT7\",\"beginRange\":\"0\",\"pricePerUnit\":{\"USD\":\"0.0000000025\"}}},\"sku\":\"GV4UH3C2SAN3EC98\",\"effectiveDate\":\"2023-07-01T00:00:00Z\",\"offerTermCode\":\"JRTCKXETXF\",\"termAttributes\":{}}}},\"version\":\"20230801012612\",\"publicationDate\":\"2023-08-01T01:26:12Z\"}',\n",
       "  '{\"product\":{\"productFamily\":\"API Request\",\"attributes\":{\"regionCode\":\"us-east-1\",\"servicecode\":\"AmazonS3\",\"groupDescription\":\"GET and all other requests  to Standard-Infrequent Access\",\"usagetype\":\"Requests-SIA-Tier2\",\"locationType\":\"AWS Region\",\"location\":\"US East (N. Virginia)\",\"servicename\":\"Amazon Simple Storage Service\",\"operation\":\"\",\"group\":\"S3-API-SIA-Tier2\"},\"sku\":\"GWU4HUHFNSRYMYNK\"},\"serviceCode\":\"AmazonS3\",\"terms\":{\"OnDemand\":{\"GWU4HUHFNSRYMYNK.JRTCKXETXF\":{\"priceDimensions\":{\"GWU4HUHFNSRYMYNK.JRTCKXETXF.6YS6EN2CT7\":{\"unit\":\"Requests\",\"endRange\":\"Inf\",\"description\":\"$0.01 per 10,000 GET and all other requests  to Standard-Infrequent Access\",\"appliesTo\":[],\"rateCode\":\"GWU4HUHFNSRYMYNK.JRTCKXETXF.6YS6EN2CT7\",\"beginRange\":\"0\",\"pricePerUnit\":{\"USD\":\"0.0000010000\"}}},\"sku\":\"GWU4HUHFNSRYMYNK\",\"effectiveDate\":\"2023-07-01T00:00:00Z\",\"offerTermCode\":\"JRTCKXETXF\",\"termAttributes\":{}}}},\"version\":\"20230801012612\",\"publicationDate\":\"2023-08-01T01:26:12Z\"}',\n",
       "  '{\"product\":{\"productFamily\":\"Fee\",\"attributes\":{\"regionCode\":\"us-east-1\",\"feeDescription\":\"Fee for Select Data Returned using Expedited tier\",\"servicecode\":\"AmazonS3\",\"feeCode\":\"S3-Expedited-Select-Returned\",\"usagetype\":\"Exp-Select-Scanned-Bytes\",\"locationType\":\"AWS Region\",\"location\":\"US East (N. Virginia)\",\"servicename\":\"Amazon Simple Storage Service\",\"operation\":\"\"},\"sku\":\"H6P4YC4PH4F5XGAH\"},\"serviceCode\":\"AmazonS3\",\"terms\":{\"OnDemand\":{\"H6P4YC4PH4F5XGAH.JRTCKXETXF\":{\"priceDimensions\":{\"H6P4YC4PH4F5XGAH.JRTCKXETXF.6YS6EN2CT7\":{\"unit\":\"GB\",\"endRange\":\"Inf\",\"description\":\"$0.02 per GB - Expedited Select Data Scanned Bytes\",\"appliesTo\":[],\"rateCode\":\"H6P4YC4PH4F5XGAH.JRTCKXETXF.6YS6EN2CT7\",\"beginRange\":\"0\",\"pricePerUnit\":{\"USD\":\"0.0200000000\"}}},\"sku\":\"H6P4YC4PH4F5XGAH\",\"effectiveDate\":\"2023-07-01T00:00:00Z\",\"offerTermCode\":\"JRTCKXETXF\",\"termAttributes\":{}}}},\"version\":\"20230801012612\",\"publicationDate\":\"2023-08-01T01:26:12Z\"}',\n",
       "  '{\"product\":{\"attributes\":{\"regionCode\":\"us-east-1\",\"servicecode\":\"AmazonS3\",\"groupDescription\":\"Bytes Decrypted using Dual-Layer Server-Side Decryption\",\"usagetype\":\"S3DSSE-Out-Bytes\",\"locationType\":\"AWS Region\",\"location\":\"US East (N. Virginia)\",\"servicename\":\"Amazon Simple Storage Service\",\"operation\":\"\",\"group\":\"S3-API-Dual-Decyrption\"},\"sku\":\"HEFSVYSVWFZJK4X6\"},\"serviceCode\":\"AmazonS3\",\"terms\":{\"OnDemand\":{\"HEFSVYSVWFZJK4X6.JRTCKXETXF\":{\"priceDimensions\":{\"HEFSVYSVWFZJK4X6.JRTCKXETXF.6YS6EN2CT7\":{\"unit\":\"GB\",\"endRange\":\"Inf\",\"description\":\"$0.003 per GB flat fee for all bytes decrypted using Dual-Layer Server-Side Encryption in US East (N. Virginia)\",\"appliesTo\":[],\"rateCode\":\"HEFSVYSVWFZJK4X6.JRTCKXETXF.6YS6EN2CT7\",\"beginRange\":\"0\",\"pricePerUnit\":{\"USD\":\"0.0030000000\"}}},\"sku\":\"HEFSVYSVWFZJK4X6\",\"effectiveDate\":\"2023-07-01T00:00:00Z\",\"offerTermCode\":\"JRTCKXETXF\",\"termAttributes\":{}}}},\"version\":\"20230801012612\",\"publicationDate\":\"2023-08-01T01:26:12Z\"}',\n",
       "  '{\"product\":{\"productFamily\":\"Storage\",\"attributes\":{\"volumeType\":\"Intelligent-Tiering Archive Instant Access\",\"storageClass\":\"Intelligent-Tiering\",\"regionCode\":\"us-east-1\",\"servicecode\":\"AmazonS3\",\"durability\":\"N/A\",\"usagetype\":\"TimedStorage-INT-AIA-ByteHrs\",\"locationType\":\"AWS Region\",\"location\":\"US East (N. Virginia)\",\"servicename\":\"Amazon Simple Storage Service\",\"availability\":\"N/A\",\"operation\":\"\"},\"sku\":\"J5H5J7F2H2NJEZZN\"},\"serviceCode\":\"AmazonS3\",\"terms\":{\"OnDemand\":{\"J5H5J7F2H2NJEZZN.JRTCKXETXF\":{\"priceDimensions\":{\"J5H5J7F2H2NJEZZN.JRTCKXETXF.6YS6EN2CT7\":{\"unit\":\"GB-Mo\",\"endRange\":\"Inf\",\"description\":\"$0.004 per GB-Month of storage used in Intelligent-Tiering, Archive Instant Access tier\",\"appliesTo\":[],\"rateCode\":\"J5H5J7F2H2NJEZZN.JRTCKXETXF.6YS6EN2CT7\",\"beginRange\":\"0\",\"pricePerUnit\":{\"USD\":\"0.0040000000\"}}},\"sku\":\"J5H5J7F2H2NJEZZN\",\"effectiveDate\":\"2023-07-01T00:00:00Z\",\"offerTermCode\":\"JRTCKXETXF\",\"termAttributes\":{}}}},\"version\":\"20230801012612\",\"publicationDate\":\"2023-08-01T01:26:12Z\"}',\n",
       "  '{\"product\":{\"attributes\":{\"regionCode\":\"us-east-1\",\"servicecode\":\"AmazonS3\",\"groupDescription\":\"Data Scanned by S3 Select in Intelligent-Tiering\",\"usagetype\":\"Select-Scanned-INT-Bytes\",\"locationType\":\"AWS Region\",\"location\":\"US East (N. Virginia)\",\"servicename\":\"Amazon Simple Storage Service\",\"operation\":\"\",\"group\":\"S3-API-INT-Select-Scanned\"},\"sku\":\"J9TQXCJDCSFMQEXU\"},\"serviceCode\":\"AmazonS3\",\"terms\":{\"OnDemand\":{\"J9TQXCJDCSFMQEXU.JRTCKXETXF\":{\"priceDimensions\":{\"J9TQXCJDCSFMQEXU.JRTCKXETXF.6YS6EN2CT7\":{\"unit\":\"GB\",\"endRange\":\"Inf\",\"description\":\"$0.00200 per GB - for bytes scanned by S3 Select in Intelligent - Tiering\",\"appliesTo\":[],\"rateCode\":\"J9TQXCJDCSFMQEXU.JRTCKXETXF.6YS6EN2CT7\",\"beginRange\":\"0\",\"pricePerUnit\":{\"USD\":\"0.0020000000\"}}},\"sku\":\"J9TQXCJDCSFMQEXU\",\"effectiveDate\":\"2023-07-01T00:00:00Z\",\"offerTermCode\":\"JRTCKXETXF\",\"termAttributes\":{}}}},\"version\":\"20230801012612\",\"publicationDate\":\"2023-08-01T01:26:12Z\"}',\n",
       "  '{\"product\":{\"attributes\":{\"regionCode\":\"us-east-1\",\"servicecode\":\"AmazonS3\",\"groupDescription\":\"Standard INT Restore Requests\",\"usagetype\":\"USE1-Requests-INT-AA-Tier3\",\"locationType\":\"AWS Region\",\"location\":\"US East (N. Virginia)\",\"servicename\":\"Amazon Simple Storage Service\",\"operation\":\"RestoreObject\",\"group\":\"S3-API-INT-AA-TIER3\"},\"sku\":\"JD5NVZGNZYJSH8ZX\"},\"serviceCode\":\"AmazonS3\",\"terms\":{\"OnDemand\":{\"JD5NVZGNZYJSH8ZX.JRTCKXETXF\":{\"priceDimensions\":{\"JD5NVZGNZYJSH8ZX.JRTCKXETXF.6YS6EN2CT7\":{\"unit\":\"Requests\",\"endRange\":\"Inf\",\"description\":\"$0.0 per Requests for Requests-INT-AA-Tier3:RestoreObject in US East (N. Virginia)\",\"appliesTo\":[],\"rateCode\":\"JD5NVZGNZYJSH8ZX.JRTCKXETXF.6YS6EN2CT7\",\"beginRange\":\"0\",\"pricePerUnit\":{\"USD\":\"0.0000000000\"}}},\"sku\":\"JD5NVZGNZYJSH8ZX\",\"effectiveDate\":\"2023-07-01T00:00:00Z\",\"offerTermCode\":\"JRTCKXETXF\",\"termAttributes\":{}}}},\"version\":\"20230801012612\",\"publicationDate\":\"2023-08-01T01:26:12Z\"}',\n",
       "  '{\"product\":{\"productFamily\":\"Fee\",\"attributes\":{\"regionCode\":\"us-east-1\",\"feeDescription\":\"Fee for Select Data Returned using Standard tier\",\"servicecode\":\"AmazonS3\",\"feeCode\":\"S3-Standard-Select-Returned\",\"usagetype\":\"Std-Select-Scanned-Bytes\",\"locationType\":\"AWS Region\",\"location\":\"US East (N. Virginia)\",\"servicename\":\"Amazon Simple Storage Service\",\"operation\":\"\"},\"sku\":\"JNBBU88VFAYBWV9K\"},\"serviceCode\":\"AmazonS3\",\"terms\":{\"OnDemand\":{\"JNBBU88VFAYBWV9K.JRTCKXETXF\":{\"priceDimensions\":{\"JNBBU88VFAYBWV9K.JRTCKXETXF.6YS6EN2CT7\":{\"unit\":\"GB\",\"endRange\":\"Inf\",\"description\":\"$0.008 per GB - Standard Select Data Scanned Bytes\",\"appliesTo\":[],\"rateCode\":\"JNBBU88VFAYBWV9K.JRTCKXETXF.6YS6EN2CT7\",\"beginRange\":\"0\",\"pricePerUnit\":{\"USD\":\"0.0080000000\"}}},\"sku\":\"JNBBU88VFAYBWV9K\",\"effectiveDate\":\"2023-07-01T00:00:00Z\",\"offerTermCode\":\"JRTCKXETXF\",\"termAttributes\":{}}}},\"version\":\"20230801012612\",\"publicationDate\":\"2023-08-01T01:26:12Z\"}',\n",
       "  '{\"product\":{\"attributes\":{\"regionCode\":\"us-east-1\",\"servicecode\":\"AmazonS3\",\"groupDescription\":\"Lifecycle Transition Requests into Standard-Infrequent Access\",\"usagetype\":\"Requests-Tier4\",\"locationType\":\"AWS Region\",\"location\":\"US East (N. Virginia)\",\"servicename\":\"Amazon Simple Storage Service\",\"operation\":\"S3-SIATransition\",\"group\":\"S3-API-Tier4\"},\"sku\":\"JS3WNUP3WAZ96Q9X\"},\"serviceCode\":\"AmazonS3\",\"terms\":{\"OnDemand\":{\"JS3WNUP3WAZ96Q9X.JRTCKXETXF\":{\"priceDimensions\":{\"JS3WNUP3WAZ96Q9X.JRTCKXETXF.6YS6EN2CT7\":{\"unit\":\"Requests\",\"endRange\":\"Inf\",\"description\":\"$0.01 per 1,000 transitions to Standard-Infrequent Access\",\"appliesTo\":[],\"rateCode\":\"JS3WNUP3WAZ96Q9X.JRTCKXETXF.6YS6EN2CT7\",\"beginRange\":\"0\",\"pricePerUnit\":{\"USD\":\"0.0000100000\"}}},\"sku\":\"JS3WNUP3WAZ96Q9X\",\"effectiveDate\":\"2023-07-01T00:00:00Z\",\"offerTermCode\":\"JRTCKXETXF\",\"termAttributes\":{}}}},\"version\":\"20230801012612\",\"publicationDate\":\"2023-08-01T01:26:12Z\"}',\n",
       "  '{\"product\":{\"attributes\":{\"regionCode\":\"us-east-1\",\"feeDescription\":\"Per job fee for Batch Operations jobs\",\"servicecode\":\"AmazonS3\",\"feeCode\":\"S3-BatchOperations-Jobs\",\"usagetype\":\"BatchOperations-Jobs\",\"locationType\":\"AWS Region\",\"location\":\"US East (N. Virginia)\",\"servicename\":\"Amazon Simple Storage Service\",\"operation\":\"\"},\"sku\":\"JS698V37SA2BFFYW\"},\"serviceCode\":\"AmazonS3\",\"terms\":{\"OnDemand\":{\"JS698V37SA2BFFYW.JRTCKXETXF\":{\"priceDimensions\":{\"JS698V37SA2BFFYW.JRTCKXETXF.6YS6EN2CT7\":{\"unit\":\"Jobs\",\"endRange\":\"Inf\",\"description\":\"$0.25 per job fee for Batch Operations\",\"appliesTo\":[],\"rateCode\":\"JS698V37SA2BFFYW.JRTCKXETXF.6YS6EN2CT7\",\"beginRange\":\"0\",\"pricePerUnit\":{\"USD\":\"0.2500000000\"}}},\"sku\":\"JS698V37SA2BFFYW\",\"effectiveDate\":\"2023-07-01T00:00:00Z\",\"offerTermCode\":\"JRTCKXETXF\",\"termAttributes\":{}}}},\"version\":\"20230801012612\",\"publicationDate\":\"2023-08-01T01:26:12Z\"}',\n",
       "  '{\"product\":{\"attributes\":{\"regionCode\":\"us-east-1\",\"servicecode\":\"AmazonS3\",\"groupDescription\":\"UploadPart to Glacier\",\"usagetype\":\"Requests-GLACIER-Tier1\",\"locationType\":\"AWS Region\",\"location\":\"US East (N. Virginia)\",\"servicename\":\"Amazon Simple Storage Service\",\"operation\":\"UploadPart\",\"group\":\"S3-API-GLACIER-Tier1\"},\"sku\":\"JSSK4Z23JXPY3N6R\"},\"serviceCode\":\"AmazonS3\",\"terms\":{\"OnDemand\":{\"JSSK4Z23JXPY3N6R.JRTCKXETXF\":{\"priceDimensions\":{\"JSSK4Z23JXPY3N6R.JRTCKXETXF.6YS6EN2CT7\":{\"unit\":\"Requests\",\"endRange\":\"Inf\",\"description\":\"$0.005 per 1,000 UploadPart requests to Glacier\",\"appliesTo\":[],\"rateCode\":\"JSSK4Z23JXPY3N6R.JRTCKXETXF.6YS6EN2CT7\",\"beginRange\":\"0\",\"pricePerUnit\":{\"USD\":\"0.0000050000\"}}},\"sku\":\"JSSK4Z23JXPY3N6R\",\"effectiveDate\":\"2023-07-01T00:00:00Z\",\"offerTermCode\":\"JRTCKXETXF\",\"termAttributes\":{}}}},\"version\":\"20230801012612\",\"publicationDate\":\"2023-08-01T01:26:12Z\"}',\n",
       "  '{\"product\":{\"productFamily\":\"Fee\",\"attributes\":{\"regionCode\":\"us-east-1\",\"feeDescription\":\"Pro-rated fee for small objects deleted before 30 days in One Zone-Infrequent Access volume\",\"servicecode\":\"AmazonS3\",\"feeCode\":\"S3:EarlyDelete-ZIA-SmallObjects\",\"usagetype\":\"EarlyDelete-ZIA-SmObjects\",\"locationType\":\"AWS Region\",\"location\":\"US East (N. Virginia)\",\"servicename\":\"Amazon Simple Storage Service\",\"operation\":\"\"},\"sku\":\"KJTHJV8KK6PVBZKM\"},\"serviceCode\":\"AmazonS3\",\"terms\":{\"OnDemand\":{\"KJTHJV8KK6PVBZKM.JRTCKXETXF\":{\"priceDimensions\":{\"KJTHJV8KK6PVBZKM.JRTCKXETXF.6YS6EN2CT7\":{\"unit\":\"GB-Mo\",\"endRange\":\"Inf\",\"description\":\"$0.01 per GB-Month prorated for small objects deleted or overwritten before 30 days in One Zone-Infrequent Access\",\"appliesTo\":[],\"rateCode\":\"KJTHJV8KK6PVBZKM.JRTCKXETXF.6YS6EN2CT7\",\"beginRange\":\"0\",\"pricePerUnit\":{\"USD\":\"0.0100000000\"}}},\"sku\":\"KJTHJV8KK6PVBZKM\",\"effectiveDate\":\"2023-07-01T00:00:00Z\",\"offerTermCode\":\"JRTCKXETXF\",\"termAttributes\":{}}}},\"version\":\"20230801012612\",\"publicationDate\":\"2023-08-01T01:26:12Z\"}',\n",
       "  '{\"product\":{\"productFamily\":\"Storage\",\"attributes\":{\"volumeType\":\"Amazon Glacier Staging\",\"storageClass\":\"Archive\",\"regionCode\":\"us-east-1\",\"servicecode\":\"AmazonS3\",\"overhead\":\"Staging Storage\",\"durability\":\"99.999999999%\",\"usagetype\":\"TimedStorage-GlacierStaging\",\"locationType\":\"AWS Region\",\"location\":\"US East (N. Virginia)\",\"servicename\":\"Amazon Simple Storage Service\",\"availability\":\"N/A\",\"operation\":\"\"},\"sku\":\"KN2HN42HW8KW8MWS\"},\"serviceCode\":\"AmazonS3\",\"terms\":{\"OnDemand\":{\"KN2HN42HW8KW8MWS.JRTCKXETXF\":{\"priceDimensions\":{\"KN2HN42HW8KW8MWS.JRTCKXETXF.6YS6EN2CT7\":{\"unit\":\"GB-Mo\",\"endRange\":\"Inf\",\"description\":\"$0.021 per GB-Month of storage used in GlacierStagingStorage\",\"appliesTo\":[],\"rateCode\":\"KN2HN42HW8KW8MWS.JRTCKXETXF.6YS6EN2CT7\",\"beginRange\":\"0\",\"pricePerUnit\":{\"USD\":\"0.0210000000\"}}},\"sku\":\"KN2HN42HW8KW8MWS\",\"effectiveDate\":\"2023-07-01T00:00:00Z\",\"offerTermCode\":\"JRTCKXETXF\",\"termAttributes\":{}}}},\"version\":\"20230801012612\",\"publicationDate\":\"2023-08-01T01:26:12Z\"}',\n",
       "  '{\"product\":{\"productFamily\":\"Storage\",\"attributes\":{\"volumeType\":\"One Zone - Infrequent Access\",\"storageClass\":\"Infrequent Access\",\"regionCode\":\"us-east-1\",\"servicecode\":\"AmazonS3\",\"durability\":\"99.999999999%\",\"usagetype\":\"TimedStorage-ZIA-ByteHrs\",\"locationType\":\"AWS Region\",\"location\":\"US East (N. Virginia)\",\"servicename\":\"Amazon Simple Storage Service\",\"availability\":\"99.5%\",\"operation\":\"\"},\"sku\":\"KRY2B57FKTA8GJW7\"},\"serviceCode\":\"AmazonS3\",\"terms\":{\"OnDemand\":{\"KRY2B57FKTA8GJW7.JRTCKXETXF\":{\"priceDimensions\":{\"KRY2B57FKTA8GJW7.JRTCKXETXF.6YS6EN2CT7\":{\"unit\":\"GB-Mo\",\"endRange\":\"Inf\",\"description\":\"$0.01 per GB-Month of storage used in One Zone-Infrequent Access\",\"appliesTo\":[],\"rateCode\":\"KRY2B57FKTA8GJW7.JRTCKXETXF.6YS6EN2CT7\",\"beginRange\":\"0\",\"pricePerUnit\":{\"USD\":\"0.0100000000\"}}},\"sku\":\"KRY2B57FKTA8GJW7\",\"effectiveDate\":\"2023-07-01T00:00:00Z\",\"offerTermCode\":\"JRTCKXETXF\",\"termAttributes\":{}}}},\"version\":\"20230801012612\",\"publicationDate\":\"2023-08-01T01:26:12Z\"}',\n",
       "  '{\"product\":{\"productFamily\":\"Storage\",\"attributes\":{\"volumeType\":\"INTAAS3ObjectOverhead\",\"storageClass\":\"Intelligent-Tiering\",\"regionCode\":\"us-east-1\",\"servicecode\":\"AmazonS3\",\"durability\":\"N/A\",\"usagetype\":\"TimedStorage-ByteHrs\",\"locationType\":\"AWS Region\",\"location\":\"US East (N. Virginia)\",\"servicename\":\"Amazon Simple Storage Service\",\"availability\":\"N/A\",\"operation\":\"INTAAS3ObjectOverhead\"},\"sku\":\"KU9B6GPUNV4J8TKK\"},\"serviceCode\":\"AmazonS3\",\"terms\":{\"OnDemand\":{\"KU9B6GPUNV4J8TKK.JRTCKXETXF\":{\"priceDimensions\":{\"KU9B6GPUNV4J8TKK.JRTCKXETXF.6YS6EN2CT7\":{\"unit\":\"GB-Mo\",\"endRange\":\"Inf\",\"description\":\"$0.021 per GB-Mo for TimedStorage-ByteHrs:INTAAS3ObjectOverhead in US East (N. Virginia)\",\"appliesTo\":[],\"rateCode\":\"KU9B6GPUNV4J8TKK.JRTCKXETXF.6YS6EN2CT7\",\"beginRange\":\"0\",\"pricePerUnit\":{\"USD\":\"0.0210000000\"}}},\"sku\":\"KU9B6GPUNV4J8TKK\",\"effectiveDate\":\"2023-07-01T00:00:00Z\",\"offerTermCode\":\"JRTCKXETXF\",\"termAttributes\":{}}}},\"version\":\"20230801012612\",\"publicationDate\":\"2023-08-01T01:26:12Z\"}',\n",
       "  '{\"product\":{\"attributes\":{\"regionCode\":\"us-east-1\",\"feeDescription\":\"Fee for storing small objects (<128KB) in GIR Storage\",\"servicecode\":\"AmazonS3\",\"feeCode\":\"S3-Storage-GIR-SmObject\",\"usagetype\":\"TimedStorage-GIR-SmObjects\",\"locationType\":\"AWS Region\",\"location\":\"US East (N. Virginia)\",\"servicename\":\"Amazon Simple Storage Service\",\"operation\":\"\"},\"sku\":\"KW6NRQ8UZM7EX9N3\"},\"serviceCode\":\"AmazonS3\",\"terms\":{\"OnDemand\":{\"KW6NRQ8UZM7EX9N3.JRTCKXETXF\":{\"priceDimensions\":{\"KW6NRQ8UZM7EX9N3.JRTCKXETXF.6YS6EN2CT7\":{\"unit\":\"GB-Mo\",\"endRange\":\"Inf\",\"description\":\"$0.004 per GB-Month of storage used for small objects\",\"appliesTo\":[],\"rateCode\":\"KW6NRQ8UZM7EX9N3.JRTCKXETXF.6YS6EN2CT7\",\"beginRange\":\"0\",\"pricePerUnit\":{\"USD\":\"0.0040000000\"}}},\"sku\":\"KW6NRQ8UZM7EX9N3\",\"effectiveDate\":\"2023-07-01T00:00:00Z\",\"offerTermCode\":\"JRTCKXETXF\",\"termAttributes\":{}}}},\"version\":\"20230801012612\",\"publicationDate\":\"2023-08-01T01:26:12Z\"}',\n",
       "  '{\"product\":{\"attributes\":{\"regionCode\":\"us-east-1\",\"servicecode\":\"AmazonS3\",\"groupDescription\":\"Lifecycle Transition Requests into Glacier\",\"usagetype\":\"Requests-Tier3\",\"locationType\":\"AWS Region\",\"location\":\"US East (N. Virginia)\",\"servicename\":\"Amazon Simple Storage Service\",\"operation\":\"S3-GlacierTransition\",\"group\":\"S3-API-Tier3\"},\"sku\":\"M2EZ4Q623R8XZ29A\"},\"serviceCode\":\"AmazonS3\",\"terms\":{\"OnDemand\":{\"M2EZ4Q623R8XZ29A.JRTCKXETXF\":{\"priceDimensions\":{\"M2EZ4Q623R8XZ29A.JRTCKXETXF.6YS6EN2CT7\":{\"unit\":\"Requests\",\"endRange\":\"Inf\",\"description\":\"$0.03 per 1,000 Glacier Requests\",\"appliesTo\":[],\"rateCode\":\"M2EZ4Q623R8XZ29A.JRTCKXETXF.6YS6EN2CT7\",\"beginRange\":\"0\",\"pricePerUnit\":{\"USD\":\"0.0000300000\"}}},\"sku\":\"M2EZ4Q623R8XZ29A\",\"effectiveDate\":\"2023-07-01T00:00:00Z\",\"offerTermCode\":\"JRTCKXETXF\",\"termAttributes\":{}}}},\"version\":\"20230801012612\",\"publicationDate\":\"2023-08-01T01:26:12Z\"}',\n",
       "  '{\"product\":{\"productFamily\":\"API Request\",\"attributes\":{\"regionCode\":\"us-east-1\",\"servicecode\":\"AmazonS3\",\"groupDescription\":\"Data Returned by S3 Select in Standard-Infrequent Access\",\"usagetype\":\"Select-Returned-SIA-Bytes\",\"locationType\":\"AWS Region\",\"location\":\"US East (N. Virginia)\",\"servicename\":\"Amazon Simple Storage Service\",\"operation\":\"\",\"group\":\"S3-API-SIA-Select-Returned\"},\"sku\":\"M3XNRQ3U4Y2BFKPK\"},\"serviceCode\":\"AmazonS3\",\"terms\":{\"OnDemand\":{\"M3XNRQ3U4Y2BFKPK.JRTCKXETXF\":{\"priceDimensions\":{\"M3XNRQ3U4Y2BFKPK.JRTCKXETXF.6YS6EN2CT7\":{\"unit\":\"GB\",\"endRange\":\"Inf\",\"description\":\"$0.01 per GB - for bytes returned by S3 Select in Standard-Infrequent Access\",\"appliesTo\":[],\"rateCode\":\"M3XNRQ3U4Y2BFKPK.JRTCKXETXF.6YS6EN2CT7\",\"beginRange\":\"0\",\"pricePerUnit\":{\"USD\":\"0.0100000000\"}}},\"sku\":\"M3XNRQ3U4Y2BFKPK\",\"effectiveDate\":\"2023-07-01T00:00:00Z\",\"offerTermCode\":\"JRTCKXETXF\",\"termAttributes\":{}}}},\"version\":\"20230801012612\",\"publicationDate\":\"2023-08-01T01:26:12Z\"}',\n",
       "  '{\"product\":{\"productFamily\":\"Storage\",\"attributes\":{\"volumeType\":\"Intelligent-Tiering Infrequent Access\",\"storageClass\":\"Intelligent-Tiering\",\"regionCode\":\"us-east-1\",\"servicecode\":\"AmazonS3\",\"durability\":\"N/A\",\"usagetype\":\"TimedStorage-INT-IA-ByteHrs\",\"locationType\":\"AWS Region\",\"location\":\"US East (N. Virginia)\",\"servicename\":\"Amazon Simple Storage Service\",\"availability\":\"N/A\",\"operation\":\"\"},\"sku\":\"M7WA952JTYFHTE64\"},\"serviceCode\":\"AmazonS3\",\"terms\":{\"OnDemand\":{\"M7WA952JTYFHTE64.JRTCKXETXF\":{\"priceDimensions\":{\"M7WA952JTYFHTE64.JRTCKXETXF.6YS6EN2CT7\":{\"unit\":\"GB-Mo\",\"endRange\":\"Inf\",\"description\":\"$0.0125 per GB-Month of storage used in Intelligent-Tiering, Infrequent Access Tier\",\"appliesTo\":[],\"rateCode\":\"M7WA952JTYFHTE64.JRTCKXETXF.6YS6EN2CT7\",\"beginRange\":\"0\",\"pricePerUnit\":{\"USD\":\"0.0125000000\"}}},\"sku\":\"M7WA952JTYFHTE64\",\"effectiveDate\":\"2023-07-01T00:00:00Z\",\"offerTermCode\":\"JRTCKXETXF\",\"termAttributes\":{}}}},\"version\":\"20230801012612\",\"publicationDate\":\"2023-08-01T01:26:12Z\"}',\n",
       "  '{\"product\":{\"productFamily\":\"Storage\",\"attributes\":{\"volumeType\":\"Reduced Redundancy\",\"storageClass\":\"Non-Critical Data\",\"regionCode\":\"us-east-1\",\"servicecode\":\"AmazonS3\",\"durability\":\"99.99%\",\"usagetype\":\"TimedStorage-RRS-ByteHrs\",\"locationType\":\"AWS Region\",\"location\":\"US East (N. Virginia)\",\"servicename\":\"Amazon Simple Storage Service\",\"availability\":\"99.99%\",\"operation\":\"\"},\"sku\":\"M9D34X8ZHECCKKRU\"},\"serviceCode\":\"AmazonS3\",\"terms\":{\"OnDemand\":{\"M9D34X8ZHECCKKRU.JRTCKXETXF\":{\"priceDimensions\":{\"M9D34X8ZHECCKKRU.JRTCKXETXF.6YNURZBX9Y\":{\"unit\":\"GB-Mo\",\"endRange\":\"1024\",\"description\":\"$0.0240 per GB - first 1 TB / month of storage used - Reduced Redundancy Storage\",\"appliesTo\":[],\"rateCode\":\"M9D34X8ZHECCKKRU.JRTCKXETXF.6YNURZBX9Y\",\"beginRange\":\"0\",\"pricePerUnit\":{\"USD\":\"0.0240000000\"}},\"M9D34X8ZHECCKKRU.JRTCKXETXF.QUZRP4P8Y4\":{\"unit\":\"GB-Mo\",\"endRange\":\"51200\",\"description\":\"$0.0236 per GB - next 49 TB / month of storage used - Reduced Redundancy Storage\",\"appliesTo\":[],\"rateCode\":\"M9D34X8ZHECCKKRU.JRTCKXETXF.QUZRP4P8Y4\",\"beginRange\":\"1024\",\"pricePerUnit\":{\"USD\":\"0.0236000000\"}},\"M9D34X8ZHECCKKRU.JRTCKXETXF.YJ98HAVVPP\":{\"unit\":\"GB-Mo\",\"endRange\":\"1024000\",\"description\":\"$0.0228 per GB - next 500 TB / month of storage used - Reduced Redundancy Storage\",\"appliesTo\":[],\"rateCode\":\"M9D34X8ZHECCKKRU.JRTCKXETXF.YJ98HAVVPP\",\"beginRange\":\"512000\",\"pricePerUnit\":{\"USD\":\"0.0228000000\"}},\"M9D34X8ZHECCKKRU.JRTCKXETXF.J25EHUHHDK\":{\"unit\":\"GB-Mo\",\"endRange\":\"5120000\",\"description\":\"$0.0224 per GB - next 4000 TB / month of storage used - Reduced Redundancy Storage\",\"appliesTo\":[],\"rateCode\":\"M9D34X8ZHECCKKRU.JRTCKXETXF.J25EHUHHDK\",\"beginRange\":\"1024000\",\"pricePerUnit\":{\"USD\":\"0.0224000000\"}},\"M9D34X8ZHECCKKRU.JRTCKXETXF.D42MF2PVJS\":{\"unit\":\"GB-Mo\",\"endRange\":\"512000\",\"description\":\"$0.0232 per GB - next 450 TB / month of storage used - Reduced Redundancy Storage\",\"appliesTo\":[],\"rateCode\":\"M9D34X8ZHECCKKRU.JRTCKXETXF.D42MF2PVJS\",\"beginRange\":\"51200\",\"pricePerUnit\":{\"USD\":\"0.0232000000\"}},\"M9D34X8ZHECCKKRU.JRTCKXETXF.JR3K5QW8G3\":{\"unit\":\"GB-Mo\",\"endRange\":\"Inf\",\"description\":\"$0.0220 per GB - storage used /  month over 5000 TB - Reduced Redundancy Storage\",\"appliesTo\":[],\"rateCode\":\"M9D34X8ZHECCKKRU.JRTCKXETXF.JR3K5QW8G3\",\"beginRange\":\"5120000\",\"pricePerUnit\":{\"USD\":\"0.0220000000\"}}},\"sku\":\"M9D34X8ZHECCKKRU\",\"effectiveDate\":\"2023-07-01T00:00:00Z\",\"offerTermCode\":\"JRTCKXETXF\",\"termAttributes\":{}}}},\"version\":\"20230801012612\",\"publicationDate\":\"2023-08-01T01:26:12Z\"}',\n",
       "  '{\"product\":{\"attributes\":{\"regionCode\":\"us-east-1\",\"servicecode\":\"AmazonS3\",\"groupDescription\":\"GET and all other requests to GLACIER\",\"usagetype\":\"Requests-GLACIER-Tier2\",\"locationType\":\"AWS Region\",\"location\":\"US East (N. Virginia)\",\"servicename\":\"Amazon Simple Storage Service\",\"operation\":\"\",\"group\":\"S3-API-GLACIER-Tier2\"},\"sku\":\"MCSM8FJDHGJSZXJQ\"},\"serviceCode\":\"AmazonS3\",\"terms\":{\"OnDemand\":{\"MCSM8FJDHGJSZXJQ.JRTCKXETXF\":{\"priceDimensions\":{\"MCSM8FJDHGJSZXJQ.JRTCKXETXF.6YS6EN2CT7\":{\"unit\":\"Requests\",\"endRange\":\"Inf\",\"description\":\"$0.004 per 10,000 GET and all other requests from Glacier\",\"appliesTo\":[],\"rateCode\":\"MCSM8FJDHGJSZXJQ.JRTCKXETXF.6YS6EN2CT7\",\"beginRange\":\"0\",\"pricePerUnit\":{\"USD\":\"0.0000004000\"}}},\"sku\":\"MCSM8FJDHGJSZXJQ\",\"effectiveDate\":\"2023-07-01T00:00:00Z\",\"offerTermCode\":\"JRTCKXETXF\",\"termAttributes\":{}}}},\"version\":\"20230801012612\",\"publicationDate\":\"2023-08-01T01:26:12Z\"}',\n",
       "  '{\"product\":{\"productFamily\":\"Fee\",\"attributes\":{\"regionCode\":\"us-east-1\",\"feeDescription\":\"Pro-rated fee for small objects deleted before 30 days in Standard-Infrequent Access volume\",\"servicecode\":\"AmazonS3\",\"feeCode\":\"S3:EarlyDelete-SIA-SmallObjects\",\"usagetype\":\"EarlyDelete-SIA-SmObjects\",\"locationType\":\"AWS Region\",\"location\":\"US East (N. Virginia)\",\"servicename\":\"Amazon Simple Storage Service\",\"operation\":\"\"},\"sku\":\"MS5U2UJYQ6DQYVCS\"},\"serviceCode\":\"AmazonS3\",\"terms\":{\"OnDemand\":{\"MS5U2UJYQ6DQYVCS.JRTCKXETXF\":{\"priceDimensions\":{\"MS5U2UJYQ6DQYVCS.JRTCKXETXF.6YS6EN2CT7\":{\"unit\":\"GB-Mo\",\"endRange\":\"Inf\",\"description\":\"$0.0125 per GB-Month prorated for small objects deleted or overwritten before 30 days in Standard-Infrequent Access\",\"appliesTo\":[],\"rateCode\":\"MS5U2UJYQ6DQYVCS.JRTCKXETXF.6YS6EN2CT7\",\"beginRange\":\"0\",\"pricePerUnit\":{\"USD\":\"0.0125000000\"}}},\"sku\":\"MS5U2UJYQ6DQYVCS\",\"effectiveDate\":\"2023-07-01T00:00:00Z\",\"offerTermCode\":\"JRTCKXETXF\",\"termAttributes\":{}}}},\"version\":\"20230801012612\",\"publicationDate\":\"2023-08-01T01:26:12Z\"}',\n",
       "  '{\"product\":{\"attributes\":{\"regionCode\":\"us-east-1\",\"servicecode\":\"AmazonS3\",\"groupDescription\":\"InitiateMultipartUpload for Replication to Glacier\",\"usagetype\":\"Requests-GLACIER-Tier1\",\"locationType\":\"AWS Region\",\"location\":\"US East (N. Virginia)\",\"servicename\":\"Amazon Simple Storage Service\",\"operation\":\"InitiateMultipartUploadForRepl\",\"group\":\"S3-API-GLACIER-Tier1\"},\"sku\":\"NC46MD6BZJA3YRF2\"},\"serviceCode\":\"AmazonS3\",\"terms\":{\"OnDemand\":{\"NC46MD6BZJA3YRF2.JRTCKXETXF\":{\"priceDimensions\":{\"NC46MD6BZJA3YRF2.JRTCKXETXF.6YS6EN2CT7\":{\"unit\":\"Requests\",\"endRange\":\"Inf\",\"description\":\"$0.005 per 1,000 InitiateMultipartUpload for Replication to Glacier\",\"appliesTo\":[],\"rateCode\":\"NC46MD6BZJA3YRF2.JRTCKXETXF.6YS6EN2CT7\",\"beginRange\":\"0\",\"pricePerUnit\":{\"USD\":\"0.0000050000\"}}},\"sku\":\"NC46MD6BZJA3YRF2\",\"effectiveDate\":\"2023-07-01T00:00:00Z\",\"offerTermCode\":\"JRTCKXETXF\",\"termAttributes\":{}}}},\"version\":\"20230801012612\",\"publicationDate\":\"2023-08-01T01:26:12Z\"}',\n",
       "  '{\"product\":{\"productFamily\":\"API Request\",\"attributes\":{\"regionCode\":\"us-east-1\",\"servicecode\":\"AmazonS3\",\"groupDescription\":\"Data Scanned by S3 Select in Standard\",\"usagetype\":\"Select-Scanned-Bytes\",\"locationType\":\"AWS Region\",\"location\":\"US East (N. Virginia)\",\"servicename\":\"Amazon Simple Storage Service\",\"operation\":\"\",\"group\":\"S3-API-Select-Scanned\"},\"sku\":\"NEWK2RS9PZ6RTYY4\"},\"serviceCode\":\"AmazonS3\",\"terms\":{\"OnDemand\":{\"NEWK2RS9PZ6RTYY4.JRTCKXETXF\":{\"priceDimensions\":{\"NEWK2RS9PZ6RTYY4.JRTCKXETXF.6YS6EN2CT7\":{\"unit\":\"GB\",\"endRange\":\"Inf\",\"description\":\"$0.00200 per GB - for bytes scanned by S3 Select in Standard\",\"appliesTo\":[],\"rateCode\":\"NEWK2RS9PZ6RTYY4.JRTCKXETXF.6YS6EN2CT7\",\"beginRange\":\"0\",\"pricePerUnit\":{\"USD\":\"0.0020000000\"}}},\"sku\":\"NEWK2RS9PZ6RTYY4\",\"effectiveDate\":\"2023-07-01T00:00:00Z\",\"offerTermCode\":\"JRTCKXETXF\",\"termAttributes\":{}}}},\"version\":\"20230801012612\",\"publicationDate\":\"2023-08-01T01:26:12Z\"}',\n",
       "  '{\"product\":{\"productFamily\":\"Storage\",\"attributes\":{\"volumeType\":\"Glacier Instant Retrieval\",\"storageClass\":\"Archive Instant Retrieval\",\"regionCode\":\"us-east-1\",\"servicecode\":\"AmazonS3\",\"durability\":\"99.999999999%\",\"usagetype\":\"TimedStorage-GIR-ByteHrs\",\"locationType\":\"AWS Region\",\"location\":\"US East (N. Virginia)\",\"servicename\":\"Amazon Simple Storage Service\",\"availability\":\"99.9%\",\"operation\":\"\"},\"sku\":\"NMJQ7TNW84EMBGZM\"},\"serviceCode\":\"AmazonS3\",\"terms\":{\"OnDemand\":{\"NMJQ7TNW84EMBGZM.JRTCKXETXF\":{\"priceDimensions\":{\"NMJQ7TNW84EMBGZM.JRTCKXETXF.6YS6EN2CT7\":{\"unit\":\"GB-Mo\",\"endRange\":\"Inf\",\"description\":\"$0.004 per GB-Month of storage used in Glacier Instant Retrieval\",\"appliesTo\":[],\"rateCode\":\"NMJQ7TNW84EMBGZM.JRTCKXETXF.6YS6EN2CT7\",\"beginRange\":\"0\",\"pricePerUnit\":{\"USD\":\"0.0040000000\"}}},\"sku\":\"NMJQ7TNW84EMBGZM\",\"effectiveDate\":\"2023-07-01T00:00:00Z\",\"offerTermCode\":\"JRTCKXETXF\",\"termAttributes\":{}}}},\"version\":\"20230801012612\",\"publicationDate\":\"2023-08-01T01:26:12Z\"}',\n",
       "  '{\"product\":{\"productFamily\":\"Fee\",\"attributes\":{\"regionCode\":\"us-east-1\",\"feeDescription\":\"Fee for Select Data Scanned using Standard tier\",\"servicecode\":\"AmazonS3\",\"feeCode\":\"S3-Standard-Select-Scanned\",\"usagetype\":\"Std-Select-Returned-Bytes\",\"locationType\":\"AWS Region\",\"location\":\"US East (N. Virginia)\",\"servicename\":\"Amazon Simple Storage Service\",\"operation\":\"\"},\"sku\":\"P5KY7JQH5TSKWVBX\"},\"serviceCode\":\"AmazonS3\",\"terms\":{\"OnDemand\":{\"P5KY7JQH5TSKWVBX.JRTCKXETXF\":{\"priceDimensions\":{\"P5KY7JQH5TSKWVBX.JRTCKXETXF.6YS6EN2CT7\":{\"unit\":\"GB\",\"endRange\":\"Inf\",\"description\":\"$0.01 per GB - Standard Select Data Returned Bytes\",\"appliesTo\":[],\"rateCode\":\"P5KY7JQH5TSKWVBX.JRTCKXETXF.6YS6EN2CT7\",\"beginRange\":\"0\",\"pricePerUnit\":{\"USD\":\"0.0100000000\"}}},\"sku\":\"P5KY7JQH5TSKWVBX\",\"effectiveDate\":\"2023-07-01T00:00:00Z\",\"offerTermCode\":\"JRTCKXETXF\",\"termAttributes\":{}}}},\"version\":\"20230801012612\",\"publicationDate\":\"2023-08-01T01:26:12Z\"}',\n",
       "  '{\"product\":{\"productFamily\":\"API Request\",\"attributes\":{\"regionCode\":\"us-east-1\",\"servicecode\":\"AmazonS3\",\"groupDescription\":\"Bulk Glacier Restore Requests\",\"usagetype\":\"Requests-Tier5\",\"locationType\":\"AWS Region\",\"location\":\"US East (N. Virginia)\",\"servicename\":\"Amazon Simple Storage Service\",\"operation\":\"\",\"group\":\"S3-API-Tier5\"},\"sku\":\"PGJ6CQV6AFUUNQTU\"},\"serviceCode\":\"AmazonS3\",\"terms\":{\"OnDemand\":{\"PGJ6CQV6AFUUNQTU.JRTCKXETXF\":{\"priceDimensions\":{\"PGJ6CQV6AFUUNQTU.JRTCKXETXF.6YS6EN2CT7\":{\"unit\":\"Requests\",\"endRange\":\"Inf\",\"description\":\"$0.00 per 1,000 - Bulk Glacier requests\",\"appliesTo\":[],\"rateCode\":\"PGJ6CQV6AFUUNQTU.JRTCKXETXF.6YS6EN2CT7\",\"beginRange\":\"0\",\"pricePerUnit\":{\"USD\":\"0.0000000000\"}}},\"sku\":\"PGJ6CQV6AFUUNQTU\",\"effectiveDate\":\"2023-07-01T00:00:00Z\",\"offerTermCode\":\"JRTCKXETXF\",\"termAttributes\":{}}}},\"version\":\"20230801012612\",\"publicationDate\":\"2023-08-01T01:26:12Z\"}',\n",
       "  '{\"product\":{\"attributes\":{\"regionCode\":\"us-east-1\",\"servicecode\":\"AmazonS3\",\"groupDescription\":\"Standard INT Retrieval\",\"usagetype\":\"USE1-Standard-Retrieval-Bytes\",\"locationType\":\"AWS Region\",\"location\":\"US East (N. Virginia)\",\"servicename\":\"Amazon Simple Storage Service\",\"operation\":\"IntDAARestoreObject\",\"group\":\"INT-DAA-RestoreObject\"},\"sku\":\"PUNJ7EB49XYZU3SH\"},\"serviceCode\":\"AmazonS3\",\"terms\":{\"OnDemand\":{\"PUNJ7EB49XYZU3SH.JRTCKXETXF\":{\"priceDimensions\":{\"PUNJ7EB49XYZU3SH.JRTCKXETXF.6YS6EN2CT7\":{\"unit\":\"GB\",\"endRange\":\"Inf\",\"description\":\"$0.0 per GB for Standard-Retrieval-Bytes:IntDAARestoreObject in US East (N. Virginia)\",\"appliesTo\":[],\"rateCode\":\"PUNJ7EB49XYZU3SH.JRTCKXETXF.6YS6EN2CT7\",\"beginRange\":\"0\",\"pricePerUnit\":{\"USD\":\"0.0000000000\"}}},\"sku\":\"PUNJ7EB49XYZU3SH\",\"effectiveDate\":\"2023-07-01T00:00:00Z\",\"offerTermCode\":\"JRTCKXETXF\",\"termAttributes\":{}}}},\"version\":\"20230801012612\",\"publicationDate\":\"2023-08-01T01:26:12Z\"}',\n",
       "  '{\"product\":{\"productFamily\":\"Fee\",\"attributes\":{\"regionCode\":\"us-east-1\",\"feeDescription\":\"Per object fee for objects included in Storage Lens\",\"servicecode\":\"AmazonS3\",\"feeCode\":\"S3-StorageLens\",\"usagetype\":\"USE1-StorageLens-ObjCount\",\"locationType\":\"AWS Region\",\"location\":\"US East (N. Virginia)\",\"servicename\":\"Amazon Simple Storage Service\",\"operation\":\"StorageLens\"},\"sku\":\"PWNMYRK4GT93REV7\"},\"serviceCode\":\"AmazonS3\",\"terms\":{\"OnDemand\":{\"PWNMYRK4GT93REV7.JRTCKXETXF\":{\"priceDimensions\":{\"PWNMYRK4GT93REV7.JRTCKXETXF.E4EFPBSQ6U\":{\"unit\":\"Objects\",\"endRange\":\"25000000000\",\"description\":\"$0.20 per MM objects per monthfor the first 25B objects for Storage Lens to US East (N. Virginia)\",\"appliesTo\":[],\"rateCode\":\"PWNMYRK4GT93REV7.JRTCKXETXF.E4EFPBSQ6U\",\"beginRange\":\"0\",\"pricePerUnit\":{\"USD\":\"0.0000002000\"}},\"PWNMYRK4GT93REV7.JRTCKXETXF.VZVC66HZSM\":{\"unit\":\"Objects\",\"endRange\":\"100000000000\",\"description\":\"$0.16 per MM objects per month for 25B to 100B objects for Storage Lens to US East (N. Virginia)\",\"appliesTo\":[],\"rateCode\":\"PWNMYRK4GT93REV7.JRTCKXETXF.VZVC66HZSM\",\"beginRange\":\"25000000000\",\"pricePerUnit\":{\"USD\":\"0.0000001600\"}},\"PWNMYRK4GT93REV7.JRTCKXETXF.WQM8VUGNUA\":{\"unit\":\"Objects\",\"endRange\":\"Inf\",\"description\":\"$0.12 per MM objects per month for 100B+ objects for Storage Lens to US East (N. Virginia)\",\"appliesTo\":[],\"rateCode\":\"PWNMYRK4GT93REV7.JRTCKXETXF.WQM8VUGNUA\",\"beginRange\":\"100000000000\",\"pricePerUnit\":{\"USD\":\"0.0000001200\"}}},\"sku\":\"PWNMYRK4GT93REV7\",\"effectiveDate\":\"2023-07-01T00:00:00Z\",\"offerTermCode\":\"JRTCKXETXF\",\"termAttributes\":{}}}},\"version\":\"20230801012612\",\"publicationDate\":\"2023-08-01T01:26:12Z\"}',\n",
       "  '{\"product\":{\"productFamily\":\"API Request\",\"attributes\":{\"regionCode\":\"us-east-1\",\"servicecode\":\"AmazonS3\",\"groupDescription\":\"GET and all other requests to One Zone-Infrequent Access\",\"usagetype\":\"Requests-ZIA-Tier2\",\"locationType\":\"AWS Region\",\"location\":\"US East (N. Virginia)\",\"servicename\":\"Amazon Simple Storage Service\",\"operation\":\"\",\"group\":\"S3-API-ZIA-Tier2\"},\"sku\":\"Q8UHH97856JSTGFA\"},\"serviceCode\":\"AmazonS3\",\"terms\":{\"OnDemand\":{\"Q8UHH97856JSTGFA.JRTCKXETXF\":{\"priceDimensions\":{\"Q8UHH97856JSTGFA.JRTCKXETXF.6YS6EN2CT7\":{\"unit\":\"Requests\",\"endRange\":\"Inf\",\"description\":\"$0.01 per 10,000 GET and all other requests  to One Zone-Infrequent Access\",\"appliesTo\":[],\"rateCode\":\"Q8UHH97856JSTGFA.JRTCKXETXF.6YS6EN2CT7\",\"beginRange\":\"0\",\"pricePerUnit\":{\"USD\":\"0.0000010000\"}}},\"sku\":\"Q8UHH97856JSTGFA\",\"effectiveDate\":\"2023-07-01T00:00:00Z\",\"offerTermCode\":\"JRTCKXETXF\",\"termAttributes\":{}}}},\"version\":\"20230801012612\",\"publicationDate\":\"2023-08-01T01:26:12Z\"}',\n",
       "  '{\"product\":{\"productFamily\":\"Fee\",\"attributes\":{\"regionCode\":\"us-east-1\",\"feeDescription\":\"Fee for Select Data Scanned using Expedited tier\",\"servicecode\":\"AmazonS3\",\"feeCode\":\"S3-Expedited-Select-Scanned\",\"usagetype\":\"Exp-Select-Returned-Bytes\",\"locationType\":\"AWS Region\",\"location\":\"US East (N. Virginia)\",\"servicename\":\"Amazon Simple Storage Service\",\"operation\":\"\"},\"sku\":\"QPTUUKWAEAGA3R27\"},\"serviceCode\":\"AmazonS3\",\"terms\":{\"OnDemand\":{\"QPTUUKWAEAGA3R27.JRTCKXETXF\":{\"priceDimensions\":{\"QPTUUKWAEAGA3R27.JRTCKXETXF.6YS6EN2CT7\":{\"unit\":\"GB\",\"endRange\":\"Inf\",\"description\":\"$0.03 per GB - Expedited Select Data Returned Bytes\",\"appliesTo\":[],\"rateCode\":\"QPTUUKWAEAGA3R27.JRTCKXETXF.6YS6EN2CT7\",\"beginRange\":\"0\",\"pricePerUnit\":{\"USD\":\"0.0300000000\"}}},\"sku\":\"QPTUUKWAEAGA3R27\",\"effectiveDate\":\"2023-07-01T00:00:00Z\",\"offerTermCode\":\"JRTCKXETXF\",\"termAttributes\":{}}}},\"version\":\"20230801012612\",\"publicationDate\":\"2023-08-01T01:26:12Z\"}',\n",
       "  '{\"product\":{\"attributes\":{\"regionCode\":\"us-east-1\",\"feeDescription\":\"Fee for Bulk Retrieval of data stored from Glacier Deep Archive\",\"servicecode\":\"AmazonS3\",\"feeCode\":\"S3-Bulk-Retrieval\",\"usagetype\":\"Bulk-Retrieval-Bytes\",\"locationType\":\"AWS Region\",\"location\":\"US East (N. Virginia)\",\"servicename\":\"Amazon Simple Storage Service\",\"operation\":\"DeepArchiveRestoreObject\"},\"sku\":\"QWQS66QW8DACXQD2\"},\"serviceCode\":\"AmazonS3\",\"terms\":{\"OnDemand\":{\"QWQS66QW8DACXQD2.JRTCKXETXF\":{\"priceDimensions\":{\"QWQS66QW8DACXQD2.JRTCKXETXF.6YS6EN2CT7\":{\"unit\":\"GB\",\"endRange\":\"Inf\",\"description\":\"$0.0025 per GB Bulk retrieval fee from Glacier Deep Archive in US East (N. Virginia)\",\"appliesTo\":[],\"rateCode\":\"QWQS66QW8DACXQD2.JRTCKXETXF.6YS6EN2CT7\",\"beginRange\":\"0\",\"pricePerUnit\":{\"USD\":\"0.0025000000\"}}},\"sku\":\"QWQS66QW8DACXQD2\",\"effectiveDate\":\"2023-07-01T00:00:00Z\",\"offerTermCode\":\"JRTCKXETXF\",\"termAttributes\":{}}}},\"version\":\"20230801012612\",\"publicationDate\":\"2023-08-01T01:26:12Z\"}',\n",
       "  '{\"product\":{\"attributes\":{\"regionCode\":\"us-east-1\",\"servicecode\":\"AmazonS3\",\"groupDescription\":\"Restore Object\",\"usagetype\":\"USE1-AdditionalRequest-INT\",\"locationType\":\"AWS Region\",\"location\":\"US East (N. Virginia)\",\"servicename\":\"Amazon Simple Storage Service\",\"operation\":\"RestoreObject\",\"group\":\"S3-API-INT-AdditionalRequest\"},\"sku\":\"RRHF3PSVV3C3HTFW\"},\"serviceCode\":\"AmazonS3\",\"terms\":{\"OnDemand\":{\"RRHF3PSVV3C3HTFW.JRTCKXETXF\":{\"priceDimensions\":{\"RRHF3PSVV3C3HTFW.JRTCKXETXF.6YS6EN2CT7\":{\"unit\":\"Requests\",\"endRange\":\"Inf\",\"description\":\"$0.0004 per Requests for AdditionalRequest-INT:RestoreObject in US East (N. Virginia)\",\"appliesTo\":[],\"rateCode\":\"RRHF3PSVV3C3HTFW.JRTCKXETXF.6YS6EN2CT7\",\"beginRange\":\"0\",\"pricePerUnit\":{\"USD\":\"0.0004000000\"}}},\"sku\":\"RRHF3PSVV3C3HTFW\",\"effectiveDate\":\"2023-07-01T00:00:00Z\",\"offerTermCode\":\"JRTCKXETXF\",\"termAttributes\":{}}}},\"version\":\"20230801012612\",\"publicationDate\":\"2023-08-01T01:26:12Z\"}',\n",
       "  '{\"product\":{\"attributes\":{\"regionCode\":\"us-east-1\",\"feeDescription\":\"Fee for Standard Retrieval of data stored\",\"servicecode\":\"AmazonS3\",\"feeCode\":\"S3-Standard-Retrieval\",\"usagetype\":\"Standard-Retrieval-Bytes\",\"locationType\":\"AWS Region\",\"location\":\"US East (N. Virginia)\",\"servicename\":\"Amazon Simple Storage Service\",\"operation\":\"RestoreObject\"},\"sku\":\"RWFBVGMQR3SY34J8\"},\"serviceCode\":\"AmazonS3\",\"terms\":{\"OnDemand\":{\"RWFBVGMQR3SY34J8.JRTCKXETXF\":{\"priceDimensions\":{\"RWFBVGMQR3SY34J8.JRTCKXETXF.6YS6EN2CT7\":{\"unit\":\"GB\",\"endRange\":\"Inf\",\"description\":\"$0.01 per GB - Standard retrieval fee\",\"appliesTo\":[],\"rateCode\":\"RWFBVGMQR3SY34J8.JRTCKXETXF.6YS6EN2CT7\",\"beginRange\":\"0\",\"pricePerUnit\":{\"USD\":\"0.0100000000\"}}},\"sku\":\"RWFBVGMQR3SY34J8\",\"effectiveDate\":\"2023-07-01T00:00:00Z\",\"offerTermCode\":\"JRTCKXETXF\",\"termAttributes\":{}}}},\"version\":\"20230801012612\",\"publicationDate\":\"2023-08-01T01:26:12Z\"}',\n",
       "  '{\"product\":{\"attributes\":{\"regionCode\":\"us-east-1\",\"servicecode\":\"AmazonS3\",\"groupDescription\":\"Bulk INT Restore Requests\",\"usagetype\":\"USE1-Requests-INT-DAA-Tier5\",\"locationType\":\"AWS Region\",\"location\":\"US East (N. Virginia)\",\"servicename\":\"Amazon Simple Storage Service\",\"operation\":\"RestoreObjectBulk\",\"group\":\"S3-API-DAA-TIER5\"},\"sku\":\"SSXYP39GN4WZNV4H\"},\"serviceCode\":\"AmazonS3\",\"terms\":{\"OnDemand\":{\"SSXYP39GN4WZNV4H.JRTCKXETXF\":{\"priceDimensions\":{\"SSXYP39GN4WZNV4H.JRTCKXETXF.6YS6EN2CT7\":{\"unit\":\"API Requests\",\"endRange\":\"Inf\",\"description\":\"$0.0 per API Requests for Requests-INT-DAA-Tier5:RestoreObjectBulk in US East (N. Virginia)\",\"appliesTo\":[],\"rateCode\":\"SSXYP39GN4WZNV4H.JRTCKXETXF.6YS6EN2CT7\",\"beginRange\":\"0\",\"pricePerUnit\":{\"USD\":\"0.0000000000\"}}},\"sku\":\"SSXYP39GN4WZNV4H\",\"effectiveDate\":\"2023-07-01T00:00:00Z\",\"offerTermCode\":\"JRTCKXETXF\",\"termAttributes\":{}}}},\"version\":\"20230801012612\",\"publicationDate\":\"2023-08-01T01:26:12Z\"}',\n",
       "  '{\"product\":{\"productFamily\":\"Storage\",\"attributes\":{\"volumeType\":\"Intelligent-Tiering Frequent Access\",\"storageClass\":\"Intelligent-Tiering\",\"regionCode\":\"us-east-1\",\"servicecode\":\"AmazonS3\",\"durability\":\"N/A\",\"usagetype\":\"TimedStorage-INT-FA-ByteHrs\",\"locationType\":\"AWS Region\",\"location\":\"US East (N. Virginia)\",\"servicename\":\"Amazon Simple Storage Service\",\"availability\":\"N/A\",\"operation\":\"\"},\"sku\":\"T5CD4UDRVV44YE2T\"},\"serviceCode\":\"AmazonS3\",\"terms\":{\"OnDemand\":{\"T5CD4UDRVV44YE2T.JRTCKXETXF\":{\"priceDimensions\":{\"T5CD4UDRVV44YE2T.JRTCKXETXF.PGHJ3S3EYE\":{\"unit\":\"GB-Mo\",\"endRange\":\"51200\",\"description\":\"$0.023 per GB - first 50 TB / month of storage used in Intelligent-Tiering, Frequent Access Tier\",\"appliesTo\":[],\"rateCode\":\"T5CD4UDRVV44YE2T.JRTCKXETXF.PGHJ3S3EYE\",\"beginRange\":\"0\",\"pricePerUnit\":{\"USD\":\"0.0230000000\"}},\"T5CD4UDRVV44YE2T.JRTCKXETXF.PXJDJ3YRG3\":{\"unit\":\"GB-Mo\",\"endRange\":\"Inf\",\"description\":\"$0.021 per GB - over 500 TB / month of storage used in Intelligent-Tiering, Frequent Access Tier\",\"appliesTo\":[],\"rateCode\":\"T5CD4UDRVV44YE2T.JRTCKXETXF.PXJDJ3YRG3\",\"beginRange\":\"512000\",\"pricePerUnit\":{\"USD\":\"0.0210000000\"}},\"T5CD4UDRVV44YE2T.JRTCKXETXF.D42MF2PVJS\":{\"unit\":\"GB-Mo\",\"endRange\":\"512000\",\"description\":\"$0.022 per GB - next 450 TB / month of storage used in Intelligent-Tiering, Frequent Access Tier\",\"appliesTo\":[],\"rateCode\":\"T5CD4UDRVV44YE2T.JRTCKXETXF.D42MF2PVJS\",\"beginRange\":\"51200\",\"pricePerUnit\":{\"USD\":\"0.0220000000\"}}},\"sku\":\"T5CD4UDRVV44YE2T\",\"effectiveDate\":\"2023-07-01T00:00:00Z\",\"offerTermCode\":\"JRTCKXETXF\",\"termAttributes\":{}}}},\"version\":\"20230801012612\",\"publicationDate\":\"2023-08-01T01:26:12Z\"}',\n",
       "  '{\"product\":{\"attributes\":{\"regionCode\":\"us-east-1\",\"servicecode\":\"AmazonS3\",\"groupDescription\":\"UploadPart for Replication to Glacier\",\"usagetype\":\"Requests-GLACIER-Tier1\",\"locationType\":\"AWS Region\",\"location\":\"US East (N. Virginia)\",\"servicename\":\"Amazon Simple Storage Service\",\"operation\":\"UploadPartForRepl\",\"group\":\"S3-API-GLACIER-Tier1\"},\"sku\":\"TG27GD246THSEVS6\"},\"serviceCode\":\"AmazonS3\",\"terms\":{\"OnDemand\":{\"TG27GD246THSEVS6.JRTCKXETXF\":{\"priceDimensions\":{\"TG27GD246THSEVS6.JRTCKXETXF.6YS6EN2CT7\":{\"unit\":\"Requests\",\"endRange\":\"Inf\",\"description\":\"$0.005 per 1,000 UploadPart for Replication to Glacier\",\"appliesTo\":[],\"rateCode\":\"TG27GD246THSEVS6.JRTCKXETXF.6YS6EN2CT7\",\"beginRange\":\"0\",\"pricePerUnit\":{\"USD\":\"0.0000050000\"}}},\"sku\":\"TG27GD246THSEVS6\",\"effectiveDate\":\"2023-07-01T00:00:00Z\",\"offerTermCode\":\"JRTCKXETXF\",\"termAttributes\":{}}}},\"version\":\"20230801012612\",\"publicationDate\":\"2023-08-01T01:26:12Z\"}',\n",
       "  '{\"product\":{\"attributes\":{\"regionCode\":\"us-east-1\",\"servicecode\":\"AmazonS3\",\"groupDescription\":\"InitiateMultipartUpload for Replication Time Control to Glacier\",\"usagetype\":\"Requests-GLACIER-Tier1\",\"locationType\":\"AWS Region\",\"location\":\"US East (N. Virginia)\",\"servicename\":\"Amazon Simple Storage Service\",\"operation\":\"InitiateMultipartUploadReplTime\",\"group\":\"S3-API-GLACIER-Tier1\"},\"sku\":\"TX67Z8658CN7SRNJ\"},\"serviceCode\":\"AmazonS3\",\"terms\":{\"OnDemand\":{\"TX67Z8658CN7SRNJ.JRTCKXETXF\":{\"priceDimensions\":{\"TX67Z8658CN7SRNJ.JRTCKXETXF.6YS6EN2CT7\":{\"unit\":\"Requests\",\"endRange\":\"Inf\",\"description\":\"$0.005 per 1,000 InitiateMultipartUpload for Replication Time Control to Glacier\",\"appliesTo\":[],\"rateCode\":\"TX67Z8658CN7SRNJ.JRTCKXETXF.6YS6EN2CT7\",\"beginRange\":\"0\",\"pricePerUnit\":{\"USD\":\"0.0000050000\"}}},\"sku\":\"TX67Z8658CN7SRNJ\",\"effectiveDate\":\"2023-07-01T00:00:00Z\",\"offerTermCode\":\"JRTCKXETXF\",\"termAttributes\":{}}}},\"version\":\"20230801012612\",\"publicationDate\":\"2023-08-01T01:26:12Z\"}',\n",
       "  '{\"product\":{\"productFamily\":\"API Request\",\"attributes\":{\"regionCode\":\"us-east-1\",\"servicecode\":\"AmazonS3\",\"groupDescription\":\"Data Scanned by S3 Select in One Zone-Infrequent Access\",\"usagetype\":\"Select-Scanned-ZIA-Bytes\",\"locationType\":\"AWS Region\",\"location\":\"US East (N. Virginia)\",\"servicename\":\"Amazon Simple Storage Service\",\"operation\":\"\",\"group\":\"S3-API-ZIA-Select-Scanned\"},\"sku\":\"TXNU6KVAHG6NXNRK\"},\"serviceCode\":\"AmazonS3\",\"terms\":{\"OnDemand\":{\"TXNU6KVAHG6NXNRK.JRTCKXETXF\":{\"priceDimensions\":{\"TXNU6KVAHG6NXNRK.JRTCKXETXF.6YS6EN2CT7\":{\"unit\":\"GB\",\"endRange\":\"Inf\",\"description\":\"$0.00200 per GB - for bytes scanned by S3 Select in One Zone-Infrequent Access\",\"appliesTo\":[],\"rateCode\":\"TXNU6KVAHG6NXNRK.JRTCKXETXF.6YS6EN2CT7\",\"beginRange\":\"0\",\"pricePerUnit\":{\"USD\":\"0.0020000000\"}}},\"sku\":\"TXNU6KVAHG6NXNRK\",\"effectiveDate\":\"2023-07-01T00:00:00Z\",\"offerTermCode\":\"JRTCKXETXF\",\"termAttributes\":{}}}},\"version\":\"20230801012612\",\"publicationDate\":\"2023-08-01T01:26:12Z\"}',\n",
       "  '{\"product\":{\"attributes\":{\"regionCode\":\"us-east-1\",\"servicecode\":\"AmazonS3\",\"groupDescription\":\"COPY requests to Glacier\",\"usagetype\":\"Requests-GLACIER-Tier1\",\"locationType\":\"AWS Region\",\"location\":\"US East (N. Virginia)\",\"servicename\":\"Amazon Simple Storage Service\",\"operation\":\"CopyObject\",\"group\":\"S3-API-GLACIER-Tier1\"},\"sku\":\"TZVFDUAX7AYM487X\"},\"serviceCode\":\"AmazonS3\",\"terms\":{\"OnDemand\":{\"TZVFDUAX7AYM487X.JRTCKXETXF\":{\"priceDimensions\":{\"TZVFDUAX7AYM487X.JRTCKXETXF.6YS6EN2CT7\":{\"unit\":\"Requests\",\"endRange\":\"Inf\",\"description\":\"$0.03 per 1,000 CopyObject requests to Glacier\",\"appliesTo\":[],\"rateCode\":\"TZVFDUAX7AYM487X.JRTCKXETXF.6YS6EN2CT7\",\"beginRange\":\"0\",\"pricePerUnit\":{\"USD\":\"0.0000300000\"}}},\"sku\":\"TZVFDUAX7AYM487X\",\"effectiveDate\":\"2023-07-01T00:00:00Z\",\"offerTermCode\":\"JRTCKXETXF\",\"termAttributes\":{}}}},\"version\":\"20230801012612\",\"publicationDate\":\"2023-08-01T01:26:12Z\"}',\n",
       "  '{\"product\":{\"productFamily\":\"Storage\",\"attributes\":{\"volumeType\":\"IntelligentTieringArchiveAccess\",\"storageClass\":\"Intelligent-Tiering\",\"regionCode\":\"us-east-1\",\"servicecode\":\"AmazonS3\",\"durability\":\"N/A\",\"usagetype\":\"TimedStorage-INT-AA-ByteHrs\",\"locationType\":\"AWS Region\",\"location\":\"US East (N. Virginia)\",\"servicename\":\"Amazon Simple Storage Service\",\"availability\":\"N/A\",\"operation\":\"\"},\"sku\":\"UDS7BPFBC39U3TCH\"},\"serviceCode\":\"AmazonS3\",\"terms\":{\"OnDemand\":{\"UDS7BPFBC39U3TCH.JRTCKXETXF\":{\"priceDimensions\":{\"UDS7BPFBC39U3TCH.JRTCKXETXF.6YS6EN2CT7\":{\"unit\":\"GB-Mo\",\"endRange\":\"Inf\",\"description\":\"$0.0036 per Gigabyte Month for TimedStorage-INT-AA-ByteHrs:IntelligentTieringAAStorage in US East (N. Virginia)\",\"appliesTo\":[],\"rateCode\":\"UDS7BPFBC39U3TCH.JRTCKXETXF.6YS6EN2CT7\",\"beginRange\":\"0\",\"pricePerUnit\":{\"USD\":\"0.0036000000\"}}},\"sku\":\"UDS7BPFBC39U3TCH\",\"effectiveDate\":\"2023-07-01T00:00:00Z\",\"offerTermCode\":\"JRTCKXETXF\",\"termAttributes\":{}}}},\"version\":\"20230801012612\",\"publicationDate\":\"2023-08-01T01:26:12Z\"}',\n",
       "  '{\"product\":{\"productFamily\":\"Fee\",\"attributes\":{\"regionCode\":\"us-east-1\",\"feeDescription\":\"Fee for storing small objects (<128KB) in ZIA Storage\",\"servicecode\":\"AmazonS3\",\"feeCode\":\"S3-Storage-ZIA-SmObject\",\"usagetype\":\"TimedStorage-ZIA-SmObjects\",\"locationType\":\"AWS Region\",\"location\":\"US East (N. Virginia)\",\"servicename\":\"Amazon Simple Storage Service\",\"operation\":\"\"},\"sku\":\"UKSK5PAGAMCDZGYZ\"},\"serviceCode\":\"AmazonS3\",\"terms\":{\"OnDemand\":{\"UKSK5PAGAMCDZGYZ.JRTCKXETXF\":{\"priceDimensions\":{\"UKSK5PAGAMCDZGYZ.JRTCKXETXF.6YS6EN2CT7\":{\"unit\":\"GB-Mo\",\"endRange\":\"Inf\",\"description\":\"$0.01 per GB-Month of storage used for small objects\",\"appliesTo\":[],\"rateCode\":\"UKSK5PAGAMCDZGYZ.JRTCKXETXF.6YS6EN2CT7\",\"beginRange\":\"0\",\"pricePerUnit\":{\"USD\":\"0.0100000000\"}}},\"sku\":\"UKSK5PAGAMCDZGYZ\",\"effectiveDate\":\"2023-07-01T00:00:00Z\",\"offerTermCode\":\"JRTCKXETXF\",\"termAttributes\":{}}}},\"version\":\"20230801012612\",\"publicationDate\":\"2023-08-01T01:26:12Z\"}',\n",
       "  '{\"product\":{\"attributes\":{\"regionCode\":\"us-east-1\",\"servicecode\":\"AmazonS3\",\"groupDescription\":\"Bytes Returned by OL APs\",\"usagetype\":\"USE1-S3-API-OL-BytesReturned\",\"locationType\":\"AWS Region\",\"location\":\"US East (N. Virginia)\",\"servicename\":\"Amazon Simple Storage Service\",\"operation\":\"\",\"group\":\"S3-API-OL-BytesReturned\"},\"sku\":\"UWF2DVVUJYNTSG9Y\"},\"serviceCode\":\"AmazonS3\",\"terms\":{\"OnDemand\":{\"UWF2DVVUJYNTSG9Y.JRTCKXETXF\":{\"priceDimensions\":{\"UWF2DVVUJYNTSG9Y.JRTCKXETXF.6YS6EN2CT7\":{\"unit\":\"GB\",\"endRange\":\"Inf\",\"description\":\"$0.005 per GB for S3-API-OL-BytesReturned in US East (N. Virginia)\",\"appliesTo\":[],\"rateCode\":\"UWF2DVVUJYNTSG9Y.JRTCKXETXF.6YS6EN2CT7\",\"beginRange\":\"0\",\"pricePerUnit\":{\"USD\":\"0.0050000000\"}}},\"sku\":\"UWF2DVVUJYNTSG9Y\",\"effectiveDate\":\"2023-07-01T00:00:00Z\",\"offerTermCode\":\"JRTCKXETXF\",\"termAttributes\":{}}}},\"version\":\"20230801012612\",\"publicationDate\":\"2023-08-01T01:26:12Z\"}',\n",
       "  '{\"product\":{\"productFamily\":\"Storage\",\"attributes\":{\"volumeType\":\"INTDAAObjectOverhead\",\"storageClass\":\"Intelligent-Tiering\",\"regionCode\":\"us-east-1\",\"servicecode\":\"AmazonS3\",\"durability\":\"N/A\",\"usagetype\":\"TimedStorage-ByteHrs\",\"locationType\":\"AWS Region\",\"location\":\"US East (N. Virginia)\",\"servicename\":\"Amazon Simple Storage Service\",\"availability\":\"N/A\",\"operation\":\"INTDAAS3ObjectOverhead\"},\"sku\":\"UZGSR6458KAW564Q\"},\"serviceCode\":\"AmazonS3\",\"terms\":{\"OnDemand\":{\"UZGSR6458KAW564Q.JRTCKXETXF\":{\"priceDimensions\":{\"UZGSR6458KAW564Q.JRTCKXETXF.6YS6EN2CT7\":{\"unit\":\"GB-Mo\",\"endRange\":\"Inf\",\"description\":\"$0.021 per GB-Mo for TimedStorage-ByteHrs:INTDAAS3ObjectOverhead in US East (N. Virginia)\",\"appliesTo\":[],\"rateCode\":\"UZGSR6458KAW564Q.JRTCKXETXF.6YS6EN2CT7\",\"beginRange\":\"0\",\"pricePerUnit\":{\"USD\":\"0.0210000000\"}}},\"sku\":\"UZGSR6458KAW564Q\",\"effectiveDate\":\"2023-07-01T00:00:00Z\",\"offerTermCode\":\"JRTCKXETXF\",\"termAttributes\":{}}}},\"version\":\"20230801012612\",\"publicationDate\":\"2023-08-01T01:26:12Z\"}',\n",
       "  '{\"product\":{\"productFamily\":\"API Request\",\"attributes\":{\"regionCode\":\"us-east-1\",\"servicecode\":\"AmazonS3\",\"groupDescription\":\"Expedited Glacier Restore Requests\",\"usagetype\":\"Requests-Tier6\",\"locationType\":\"AWS Region\",\"location\":\"US East (N. Virginia)\",\"servicename\":\"Amazon Simple Storage Service\",\"operation\":\"\",\"group\":\"S3-API-Tier6\"},\"sku\":\"UZVPN9AWBCUHZHXM\"},\"serviceCode\":\"AmazonS3\",\"terms\":{\"OnDemand\":{\"UZVPN9AWBCUHZHXM.JRTCKXETXF\":{\"priceDimensions\":{\"UZVPN9AWBCUHZHXM.JRTCKXETXF.6YS6EN2CT7\":{\"unit\":\"Requests\",\"endRange\":\"Inf\",\"description\":\"$0.01 per Expedited Glacier request\",\"appliesTo\":[],\"rateCode\":\"UZVPN9AWBCUHZHXM.JRTCKXETXF.6YS6EN2CT7\",\"beginRange\":\"0\",\"pricePerUnit\":{\"USD\":\"0.0100000000\"}}},\"sku\":\"UZVPN9AWBCUHZHXM\",\"effectiveDate\":\"2023-07-01T00:00:00Z\",\"offerTermCode\":\"JRTCKXETXF\",\"termAttributes\":{}}}},\"version\":\"20230801012612\",\"publicationDate\":\"2023-08-01T01:26:12Z\"}',\n",
       "  '{\"product\":{\"attributes\":{\"regionCode\":\"us-east-1\",\"servicecode\":\"AmazonS3\",\"groupDescription\":\"Standard INT Restore Requests\",\"usagetype\":\"USE1-Requests-INT-DAA-Tier3\",\"locationType\":\"AWS Region\",\"location\":\"US East (N. Virginia)\",\"servicename\":\"Amazon Simple Storage Service\",\"operation\":\"RestoreObject\",\"group\":\"S3-API-DAA-TIER3\"},\"sku\":\"V4Y7ZXAEJXM229PW\"},\"serviceCode\":\"AmazonS3\",\"terms\":{\"OnDemand\":{\"V4Y7ZXAEJXM229PW.JRTCKXETXF\":{\"priceDimensions\":{\"V4Y7ZXAEJXM229PW.JRTCKXETXF.6YS6EN2CT7\":{\"unit\":\"Requests\",\"endRange\":\"Inf\",\"description\":\"$0.0 per Requests for Requests-INT-DAA-Tier3:RestoreObject in US East (N. Virginia)\",\"appliesTo\":[],\"rateCode\":\"V4Y7ZXAEJXM229PW.JRTCKXETXF.6YS6EN2CT7\",\"beginRange\":\"0\",\"pricePerUnit\":{\"USD\":\"0.0000000000\"}}},\"sku\":\"V4Y7ZXAEJXM229PW\",\"effectiveDate\":\"2023-07-01T00:00:00Z\",\"offerTermCode\":\"JRTCKXETXF\",\"termAttributes\":{}}}},\"version\":\"20230801012612\",\"publicationDate\":\"2023-08-01T01:26:12Z\"}',\n",
       "  '{\"product\":{\"productFamily\":\"Fee\",\"attributes\":{\"regionCode\":\"us-east-1\",\"feeDescription\":\"Pro-rated fee for retrieving greater than 5% of data stored\",\"servicecode\":\"AmazonS3\",\"feeCode\":\"Glacier:PeakRestore\",\"usagetype\":\"Peak-Restore-Bytes-Delta\",\"locationType\":\"AWS Region\",\"location\":\"US East (N. Virginia)\",\"servicename\":\"Amazon Simple Storage Service\",\"operation\":\"\"},\"sku\":\"VBHP3NBUHWJHYBZA\"},\"serviceCode\":\"AmazonS3\",\"terms\":{\"OnDemand\":{\"VBHP3NBUHWJHYBZA.JRTCKXETXF\":{\"priceDimensions\":{\"VBHP3NBUHWJHYBZA.JRTCKXETXF.6YS6EN2CT7\":{\"unit\":\"GB\",\"endRange\":\"Inf\",\"description\":\"$0.0067 per GB - Glacier Restore Fee (US)\",\"appliesTo\":[],\"rateCode\":\"VBHP3NBUHWJHYBZA.JRTCKXETXF.6YS6EN2CT7\",\"beginRange\":\"0\",\"pricePerUnit\":{\"USD\":\"0.0067000000\"}}},\"sku\":\"VBHP3NBUHWJHYBZA\",\"effectiveDate\":\"2023-07-01T00:00:00Z\",\"offerTermCode\":\"JRTCKXETXF\",\"termAttributes\":{}}}},\"version\":\"20230801012612\",\"publicationDate\":\"2023-08-01T01:26:12Z\"}',\n",
       "  '{\"product\":{\"attributes\":{\"regionCode\":\"us-east-1\",\"feeDescription\":\"Per object fee for object operations performed by Batch Operations\",\"servicecode\":\"AmazonS3\",\"feeCode\":\"S3-BatchOperations-Objects\",\"usagetype\":\"BatchOperations-Objects\",\"locationType\":\"AWS Region\",\"location\":\"US East (N. Virginia)\",\"servicename\":\"Amazon Simple Storage Service\",\"operation\":\"\"},\"sku\":\"VFSW6ADYJ5NS2Z6P\"},\"serviceCode\":\"AmazonS3\",\"terms\":{\"OnDemand\":{\"VFSW6ADYJ5NS2Z6P.JRTCKXETXF\":{\"priceDimensions\":{\"VFSW6ADYJ5NS2Z6P.JRTCKXETXF.6YS6EN2CT7\":{\"unit\":\"Objects\",\"endRange\":\"Inf\",\"description\":\"$1.00 per 1 million object operations performed by Batch Operations\",\"appliesTo\":[],\"rateCode\":\"VFSW6ADYJ5NS2Z6P.JRTCKXETXF.6YS6EN2CT7\",\"beginRange\":\"0\",\"pricePerUnit\":{\"USD\":\"0.0000010000\"}}},\"sku\":\"VFSW6ADYJ5NS2Z6P\",\"effectiveDate\":\"2023-07-01T00:00:00Z\",\"offerTermCode\":\"JRTCKXETXF\",\"termAttributes\":{}}}},\"version\":\"20230801012612\",\"publicationDate\":\"2023-08-01T01:26:12Z\"}',\n",
       "  '{\"product\":{\"productFamily\":\"Fee\",\"attributes\":{\"regionCode\":\"us-east-1\",\"feeDescription\":\"Fee for Select Data Returned using Bulk tier\",\"servicecode\":\"AmazonS3\",\"feeCode\":\"S3-Bulk-Select-Returned\",\"usagetype\":\"Bulk-Select-Scanned-Bytes\",\"locationType\":\"AWS Region\",\"location\":\"US East (N. Virginia)\",\"servicename\":\"Amazon Simple Storage Service\",\"operation\":\"\"},\"sku\":\"VH4B46R3JZENFAHS\"},\"serviceCode\":\"AmazonS3\",\"terms\":{\"OnDemand\":{\"VH4B46R3JZENFAHS.JRTCKXETXF\":{\"priceDimensions\":{\"VH4B46R3JZENFAHS.JRTCKXETXF.6YS6EN2CT7\":{\"unit\":\"GB\",\"endRange\":\"Inf\",\"description\":\"$0.001 per GB - Bulk Select Data Scanned Bytes\",\"appliesTo\":[],\"rateCode\":\"VH4B46R3JZENFAHS.JRTCKXETXF.6YS6EN2CT7\",\"beginRange\":\"0\",\"pricePerUnit\":{\"USD\":\"0.0010000000\"}}},\"sku\":\"VH4B46R3JZENFAHS\",\"effectiveDate\":\"2023-07-01T00:00:00Z\",\"offerTermCode\":\"JRTCKXETXF\",\"termAttributes\":{}}}},\"version\":\"20230801012612\",\"publicationDate\":\"2023-08-01T01:26:12Z\"}',\n",
       "  '{\"product\":{\"attributes\":{\"regionCode\":\"us-east-1\",\"servicecode\":\"AmazonS3\",\"groupDescription\":\"CompleteMultipartUpload to Glacier\",\"usagetype\":\"Requests-GLACIER-Tier1\",\"locationType\":\"AWS Region\",\"location\":\"US East (N. Virginia)\",\"servicename\":\"Amazon Simple Storage Service\",\"operation\":\"CompleteMultipartUpload\",\"group\":\"S3-API-GLACIER-Tier1\"},\"sku\":\"VQWF4R66AMGZFZ7A\"},\"serviceCode\":\"AmazonS3\",\"terms\":{\"OnDemand\":{\"VQWF4R66AMGZFZ7A.JRTCKXETXF\":{\"priceDimensions\":{\"VQWF4R66AMGZFZ7A.JRTCKXETXF.6YS6EN2CT7\":{\"unit\":\"Requests\",\"endRange\":\"Inf\",\"description\":\"$0.03 per 1,000 CompleteMultipartUpload requests to Glacier\",\"appliesTo\":[],\"rateCode\":\"VQWF4R66AMGZFZ7A.JRTCKXETXF.6YS6EN2CT7\",\"beginRange\":\"0\",\"pricePerUnit\":{\"USD\":\"0.0000300000\"}}},\"sku\":\"VQWF4R66AMGZFZ7A\",\"effectiveDate\":\"2023-07-01T00:00:00Z\",\"offerTermCode\":\"JRTCKXETXF\",\"termAttributes\":{}}}},\"version\":\"20230801012612\",\"publicationDate\":\"2023-08-01T01:26:12Z\"}',\n",
       "  '{\"product\":{\"attributes\":{\"regionCode\":\"us-east-1\",\"feeDescription\":\"Per object fee to generate Batch Operations Manifest\",\"servicecode\":\"AmazonS3\",\"feeCode\":\"S3-BatchOperations-Manifest\",\"usagetype\":\"USE1-BatchOperations-Manifest\",\"locationType\":\"AWS Region\",\"location\":\"US East (N. Virginia)\",\"servicename\":\"Amazon Simple Storage Service\",\"operation\":\"\"},\"sku\":\"VUCQUWK8JADFEN65\"},\"serviceCode\":\"AmazonS3\",\"terms\":{\"OnDemand\":{\"VUCQUWK8JADFEN65.JRTCKXETXF\":{\"priceDimensions\":{\"VUCQUWK8JADFEN65.JRTCKXETXF.6YS6EN2CT7\":{\"unit\":\"Objects\",\"endRange\":\"Inf\",\"description\":\"$0.015 per 1 million objects in source bucket\",\"appliesTo\":[],\"rateCode\":\"VUCQUWK8JADFEN65.JRTCKXETXF.6YS6EN2CT7\",\"beginRange\":\"0\",\"pricePerUnit\":{\"USD\":\"0.0000000150\"}}},\"sku\":\"VUCQUWK8JADFEN65\",\"effectiveDate\":\"2023-07-01T00:00:00Z\",\"offerTermCode\":\"JRTCKXETXF\",\"termAttributes\":{}}}},\"version\":\"20230801012612\",\"publicationDate\":\"2023-08-01T01:26:12Z\"}',\n",
       "  '{\"product\":{\"attributes\":{\"regionCode\":\"us-east-1\",\"servicecode\":\"AmazonS3\",\"groupDescription\":\"GET and all other requests to GDA\",\"usagetype\":\"Requests-GDA-Tier2\",\"locationType\":\"AWS Region\",\"location\":\"US East (N. Virginia)\",\"servicename\":\"Amazon Simple Storage Service\",\"operation\":\"\",\"group\":\"S3-API-GDA-Tier2\"},\"sku\":\"WDAC2WRXVNRSNQS6\"},\"serviceCode\":\"AmazonS3\",\"terms\":{\"OnDemand\":{\"WDAC2WRXVNRSNQS6.JRTCKXETXF\":{\"priceDimensions\":{\"WDAC2WRXVNRSNQS6.JRTCKXETXF.6YS6EN2CT7\":{\"unit\":\"Requests\",\"endRange\":\"Inf\",\"description\":\"$0.004 per 10,000 GET and all other requests from Glacier\",\"appliesTo\":[],\"rateCode\":\"WDAC2WRXVNRSNQS6.JRTCKXETXF.6YS6EN2CT7\",\"beginRange\":\"0\",\"pricePerUnit\":{\"USD\":\"0.0000004000\"}}},\"sku\":\"WDAC2WRXVNRSNQS6\",\"effectiveDate\":\"2023-07-01T00:00:00Z\",\"offerTermCode\":\"JRTCKXETXF\",\"termAttributes\":{}}}},\"version\":\"20230801012612\",\"publicationDate\":\"2023-08-01T01:26:12Z\"}',\n",
       "  '{\"product\":{\"attributes\":{\"regionCode\":\"us-east-1\",\"servicecode\":\"AmazonS3\",\"groupDescription\":\"Bulk INT Retrieval\",\"usagetype\":\"USE1-Bulk-Retrieval-Bytes\",\"locationType\":\"AWS Region\",\"location\":\"US East (N. Virginia)\",\"servicename\":\"Amazon Simple Storage Service\",\"operation\":\"IntAARestoreObject\",\"group\":\"INT-AA-RestoreObject\"},\"sku\":\"WNBPSS297NF6ZZZ4\"},\"serviceCode\":\"AmazonS3\",\"terms\":{\"OnDemand\":{\"WNBPSS297NF6ZZZ4.JRTCKXETXF\":{\"priceDimensions\":{\"WNBPSS297NF6ZZZ4.JRTCKXETXF.6YS6EN2CT7\":{\"unit\":\"GB\",\"endRange\":\"Inf\",\"description\":\"$0.0 per GB for Bulk-Retrieval-Bytes:IntAARestoreObject in US East (N. Virginia)\",\"appliesTo\":[],\"rateCode\":\"WNBPSS297NF6ZZZ4.JRTCKXETXF.6YS6EN2CT7\",\"beginRange\":\"0\",\"pricePerUnit\":{\"USD\":\"0.0000000000\"}}},\"sku\":\"WNBPSS297NF6ZZZ4\",\"effectiveDate\":\"2023-07-01T00:00:00Z\",\"offerTermCode\":\"JRTCKXETXF\",\"termAttributes\":{}}}},\"version\":\"20230801012612\",\"publicationDate\":\"2023-08-01T01:26:12Z\"}'],\n",
       " 'NextToken': 'AAMA-EFRSURBSGcrSDFjTlVoZFVJb1BZdW9DYmtYMTNoUWx2NzdZN0N3SzdQQkNVOHJxclpnSGdZY2VCSU80S3lUcFFodjMvTGtoeEFBQUFmakI4QmdrcWhraUc5dzBCQndhZ2J6QnRBZ0VBTUdnR0NTcUdTSWIzRFFFSEFUQWVCZ2xnaGtnQlpRTUVBUzR3RVFRTThZQ1lvSS9lNjZ2NXQ3UGxBZ0VRZ0R2TjBmNHRSTW96eC93bGZKc2U5T2h4d2xiWGtVdEdkRVZTWVp4UUFSSHFtWS9BNmtSWnpUMUlsRjhyUllvUml4bGdRbnB2RmpwMWtBbjQrQT09HFSaTDEHCcCoQK8oB3q5FbKw0d7A9t7L6cQlsAUEH4somm5ngQ88hqUNWCLbIdSjm2JtGMnAdf9FsF8Xrtvdz0nqEtRKb8ai_HuvM2ObjCqPsfBMxO5gGZiDJWGexfLRMv_iHb7kFe1bJpNUFlJK05uK1oQx0G5_9yf_7wFWP5PRH5X6Fv0cmwj-N0wMmZITF5G0zMaNCqLPgmKGK7dX8LEtQdbJKcmGnjl8Il2NKq_2pp_jyTB0exY=',\n",
       " 'ResponseMetadata': {'RequestId': '25278ad3-fb9e-48e3-8fba-79fce6e2f1e1',\n",
       "  'HTTPStatusCode': 200,\n",
       "  'HTTPHeaders': {'date': 'Sat, 28 Oct 2023 16:19:23 GMT',\n",
       "   'content-type': 'application/x-amz-json-1.1',\n",
       "   'content-length': '111217',\n",
       "   'connection': 'keep-alive',\n",
       "   'x-amzn-requestid': '25278ad3-fb9e-48e3-8fba-79fce6e2f1e1'},\n",
       "  'RetryAttempts': 0}}"
      ]
     },
     "execution_count": 50,
     "metadata": {},
     "output_type": "execute_result"
    }
   ],
   "source": [
    "result = client.get_products(ServiceCode = 'AmazonS3',\n",
    "                             Filters=[\n",
    "                                 {'Type':'TERM_MATCH',\n",
    "                                 'Field':'regionCode',\n",
    "                                 'Value':'us-east-1'}\n",
    "                             ])\n",
    "result"
   ]
  }
 ],
 "metadata": {
  "kernelspec": {
   "display_name": "Python 3 (ipykernel)",
   "language": "python",
   "name": "python3"
  },
  "language_info": {
   "codemirror_mode": {
    "name": "ipython",
    "version": 3
   },
   "file_extension": ".py",
   "mimetype": "text/x-python",
   "name": "python",
   "nbconvert_exporter": "python",
   "pygments_lexer": "ipython3",
   "version": "3.11.2"
  }
 },
 "nbformat": 4,
 "nbformat_minor": 5
}
