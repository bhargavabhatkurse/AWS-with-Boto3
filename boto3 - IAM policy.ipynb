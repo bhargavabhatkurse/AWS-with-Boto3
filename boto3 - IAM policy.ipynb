{
 "cells": [
  {
   "cell_type": "code",
   "execution_count": 2,
   "id": "ec60512a",
   "metadata": {},
   "outputs": [],
   "source": [
    "import boto3"
   ]
  },
  {
   "cell_type": "code",
   "execution_count": 5,
   "id": "b41cafa0",
   "metadata": {},
   "outputs": [],
   "source": [
    "iam_client = boto3.client('iam')"
   ]
  },
  {
   "cell_type": "code",
   "execution_count": null,
   "id": "2a27d83d",
   "metadata": {},
   "outputs": [],
   "source": []
  },
  {
   "cell_type": "code",
   "execution_count": 20,
   "id": "f56e01a1",
   "metadata": {},
   "outputs": [],
   "source": [
    "result = iam_client.list_users()"
   ]
  },
  {
   "cell_type": "code",
   "execution_count": 22,
   "id": "4161b327",
   "metadata": {},
   "outputs": [
    {
     "data": {
      "text/plain": [
       "[{'Path': '/',\n",
       "  'UserName': 'BhargavaBhatkurse',\n",
       "  'UserId': 'AIDA2U4Z22B577SDHXMCW',\n",
       "  'Arn': 'arn:aws:iam::732077674619:user/BhargavaBhatkurse',\n",
       "  'CreateDate': datetime.datetime(2023, 10, 24, 5, 7, 22, tzinfo=tzutc())},\n",
       " {'Path': '/',\n",
       "  'UserName': 'new-system-user',\n",
       "  'UserId': 'AIDA2U4Z22B56CR6L7W3G',\n",
       "  'Arn': 'arn:aws:iam::732077674619:user/new-system-user',\n",
       "  'CreateDate': datetime.datetime(2023, 10, 28, 11, 51, 23, tzinfo=tzutc())}]"
      ]
     },
     "execution_count": 22,
     "metadata": {},
     "output_type": "execute_result"
    }
   ],
   "source": [
    "result['Users']"
   ]
  },
  {
   "cell_type": "code",
   "execution_count": 15,
   "id": "2f5a4d9d",
   "metadata": {},
   "outputs": [
    {
     "data": {
      "text/plain": [
       "{'Groups': [{'Path': '/',\n",
       "   'GroupName': 'BhargavaGroup',\n",
       "   'GroupId': 'AGPA2U4Z22B5UY4D3O6H2',\n",
       "   'Arn': 'arn:aws:iam::732077674619:group/BhargavaGroup',\n",
       "   'CreateDate': datetime.datetime(2023, 10, 24, 5, 6, 36, tzinfo=tzutc())}],\n",
       " 'IsTruncated': False,\n",
       " 'ResponseMetadata': {'RequestId': '67d777a9-95a6-4b35-9af2-4f52bf5e5a25',\n",
       "  'HTTPStatusCode': 200,\n",
       "  'HTTPHeaders': {'x-amzn-requestid': '67d777a9-95a6-4b35-9af2-4f52bf5e5a25',\n",
       "   'content-type': 'text/xml',\n",
       "   'content-length': '574',\n",
       "   'date': 'Sat, 28 Oct 2023 11:53:24 GMT'},\n",
       "  'RetryAttempts': 0}}"
      ]
     },
     "execution_count": 15,
     "metadata": {},
     "output_type": "execute_result"
    }
   ],
   "source": [
    "iam_client.list_groups()"
   ]
  },
  {
   "cell_type": "code",
   "execution_count": 13,
   "id": "4df6aac4",
   "metadata": {},
   "outputs": [
    {
     "ename": "EntityAlreadyExistsException",
     "evalue": "An error occurred (EntityAlreadyExists) when calling the CreateUser operation: User with name new-system-user already exists.",
     "output_type": "error",
     "traceback": [
      "\u001b[0;31m---------------------------------------------------------------------------\u001b[0m",
      "\u001b[0;31mEntityAlreadyExistsException\u001b[0m              Traceback (most recent call last)",
      "Cell \u001b[0;32mIn[13], line 1\u001b[0m\n\u001b[0;32m----> 1\u001b[0m response \u001b[38;5;241m=\u001b[39m \u001b[43miam_client\u001b[49m\u001b[38;5;241;43m.\u001b[39;49m\u001b[43mcreate_user\u001b[49m\u001b[43m(\u001b[49m\u001b[43mUserName\u001b[49m\u001b[38;5;241;43m=\u001b[39;49m\u001b[38;5;124;43m'\u001b[39;49m\u001b[38;5;124;43mnew-system-user\u001b[39;49m\u001b[38;5;124;43m'\u001b[39;49m\u001b[43m)\u001b[49m\n",
      "File \u001b[0;32m/Library/Frameworks/Python.framework/Versions/3.11/lib/python3.11/site-packages/botocore/client.py:535\u001b[0m, in \u001b[0;36mClientCreator._create_api_method.<locals>._api_call\u001b[0;34m(self, *args, **kwargs)\u001b[0m\n\u001b[1;32m    531\u001b[0m     \u001b[38;5;28;01mraise\u001b[39;00m \u001b[38;5;167;01mTypeError\u001b[39;00m(\n\u001b[1;32m    532\u001b[0m         \u001b[38;5;124mf\u001b[39m\u001b[38;5;124m\"\u001b[39m\u001b[38;5;132;01m{\u001b[39;00mpy_operation_name\u001b[38;5;132;01m}\u001b[39;00m\u001b[38;5;124m() only accepts keyword arguments.\u001b[39m\u001b[38;5;124m\"\u001b[39m\n\u001b[1;32m    533\u001b[0m     )\n\u001b[1;32m    534\u001b[0m \u001b[38;5;66;03m# The \"self\" in this scope is referring to the BaseClient.\u001b[39;00m\n\u001b[0;32m--> 535\u001b[0m \u001b[38;5;28;01mreturn\u001b[39;00m \u001b[38;5;28;43mself\u001b[39;49m\u001b[38;5;241;43m.\u001b[39;49m\u001b[43m_make_api_call\u001b[49m\u001b[43m(\u001b[49m\u001b[43moperation_name\u001b[49m\u001b[43m,\u001b[49m\u001b[43m \u001b[49m\u001b[43mkwargs\u001b[49m\u001b[43m)\u001b[49m\n",
      "File \u001b[0;32m/Library/Frameworks/Python.framework/Versions/3.11/lib/python3.11/site-packages/botocore/client.py:980\u001b[0m, in \u001b[0;36mBaseClient._make_api_call\u001b[0;34m(self, operation_name, api_params)\u001b[0m\n\u001b[1;32m    978\u001b[0m     error_code \u001b[38;5;241m=\u001b[39m parsed_response\u001b[38;5;241m.\u001b[39mget(\u001b[38;5;124m\"\u001b[39m\u001b[38;5;124mError\u001b[39m\u001b[38;5;124m\"\u001b[39m, {})\u001b[38;5;241m.\u001b[39mget(\u001b[38;5;124m\"\u001b[39m\u001b[38;5;124mCode\u001b[39m\u001b[38;5;124m\"\u001b[39m)\n\u001b[1;32m    979\u001b[0m     error_class \u001b[38;5;241m=\u001b[39m \u001b[38;5;28mself\u001b[39m\u001b[38;5;241m.\u001b[39mexceptions\u001b[38;5;241m.\u001b[39mfrom_code(error_code)\n\u001b[0;32m--> 980\u001b[0m     \u001b[38;5;28;01mraise\u001b[39;00m error_class(parsed_response, operation_name)\n\u001b[1;32m    981\u001b[0m \u001b[38;5;28;01melse\u001b[39;00m:\n\u001b[1;32m    982\u001b[0m     \u001b[38;5;28;01mreturn\u001b[39;00m parsed_response\n",
      "\u001b[0;31mEntityAlreadyExistsException\u001b[0m: An error occurred (EntityAlreadyExists) when calling the CreateUser operation: User with name new-system-user already exists."
     ]
    }
   ],
   "source": [
    "response = iam_client.create_user(UserName='new-system-user')"
   ]
  },
  {
   "cell_type": "code",
   "execution_count": 14,
   "id": "0008b332",
   "metadata": {},
   "outputs": [],
   "source": [
    "result = iam_client.add_user_to_group(UserName='new-system-user',GroupName='BhargavaGroup')"
   ]
  },
  {
   "cell_type": "code",
   "execution_count": 16,
   "id": "88046a0b",
   "metadata": {},
   "outputs": [
    {
     "data": {
      "text/plain": [
       "{'ResponseMetadata': {'RequestId': '94119fe7-96f6-4d76-8b27-4df31f7964d0',\n",
       "  'HTTPStatusCode': 200,\n",
       "  'HTTPHeaders': {'x-amzn-requestid': '94119fe7-96f6-4d76-8b27-4df31f7964d0',\n",
       "   'content-type': 'text/xml',\n",
       "   'content-length': '208',\n",
       "   'date': 'Sat, 28 Oct 2023 11:53:18 GMT'},\n",
       "  'RetryAttempts': 0}}"
      ]
     },
     "execution_count": 16,
     "metadata": {},
     "output_type": "execute_result"
    }
   ],
   "source": [
    "result"
   ]
  },
  {
   "cell_type": "code",
   "execution_count": 25,
   "id": "c9227fef",
   "metadata": {},
   "outputs": [
    {
     "data": {
      "text/plain": [
       "{'ResponseMetadata': {'RequestId': '09ed6f56-dc3f-436b-b786-d878d11b0c2c',\n",
       "  'HTTPStatusCode': 200,\n",
       "  'HTTPHeaders': {'x-amzn-requestid': '09ed6f56-dc3f-436b-b786-d878d11b0c2c',\n",
       "   'content-type': 'text/xml',\n",
       "   'content-length': '218',\n",
       "   'date': 'Sat, 28 Oct 2023 11:55:54 GMT'},\n",
       "  'RetryAttempts': 0}}"
      ]
     },
     "execution_count": 25,
     "metadata": {},
     "output_type": "execute_result"
    }
   ],
   "source": [
    "iam_client.remove_user_from_group(UserName = 'new-system-user',GroupName='BhargavaGroup')"
   ]
  },
  {
   "cell_type": "code",
   "execution_count": 26,
   "id": "cb852df2",
   "metadata": {},
   "outputs": [
    {
     "data": {
      "text/plain": [
       "{'ResponseMetadata': {'RequestId': 'e94d68c4-3571-41d6-b285-ac711e112cde',\n",
       "  'HTTPStatusCode': 200,\n",
       "  'HTTPHeaders': {'x-amzn-requestid': 'e94d68c4-3571-41d6-b285-ac711e112cde',\n",
       "   'content-type': 'text/xml',\n",
       "   'content-length': '200',\n",
       "   'date': 'Sat, 28 Oct 2023 11:55:56 GMT'},\n",
       "  'RetryAttempts': 0}}"
      ]
     },
     "execution_count": 26,
     "metadata": {},
     "output_type": "execute_result"
    }
   ],
   "source": [
    "iam_client.delete_user(UserName='new-system-user')"
   ]
  }
 ],
 "metadata": {
  "kernelspec": {
   "display_name": "Python 3 (ipykernel)",
   "language": "python",
   "name": "python3"
  },
  "language_info": {
   "codemirror_mode": {
    "name": "ipython",
    "version": 3
   },
   "file_extension": ".py",
   "mimetype": "text/x-python",
   "name": "python",
   "nbconvert_exporter": "python",
   "pygments_lexer": "ipython3",
   "version": "3.11.2"
  }
 },
 "nbformat": 4,
 "nbformat_minor": 5
}
