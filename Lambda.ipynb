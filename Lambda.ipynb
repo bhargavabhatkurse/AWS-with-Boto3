{
 "cells": [
  {
   "cell_type": "code",
   "execution_count": 1,
   "id": "94e86d63-a26d-4b29-bfac-8be1c2b0b9b8",
   "metadata": {
    "tags": []
   },
   "outputs": [],
   "source": [
    "import boto3"
   ]
  },
  {
   "cell_type": "code",
   "execution_count": 2,
   "id": "34470e2e-a7dd-45b4-9aee-3a99755659e5",
   "metadata": {
    "tags": []
   },
   "outputs": [],
   "source": [
    "with open('hello.py','r') as f:\n",
    "    function_code = f.read()\n"
   ]
  },
  {
   "cell_type": "code",
   "execution_count": 3,
   "id": "20389d13-fd6a-494d-a588-dfbddb2aa3c4",
   "metadata": {
    "tags": []
   },
   "outputs": [
    {
     "name": "stdout",
     "output_type": "stream",
     "text": [
      "def lambda_handler(event,context):\n",
      "    return \"hello world\"\n"
     ]
    }
   ],
   "source": [
    "print(function_code)"
   ]
  },
  {
   "cell_type": "code",
   "execution_count": 4,
   "id": "ea8a226d-d15b-4bf0-b1b4-89dc6b7ae530",
   "metadata": {
    "tags": []
   },
   "outputs": [],
   "source": [
    "function_name = 'HelloWorld2'\n",
    "runtime='python3.8'\n",
    "handler='lambda_function.lambda_handler' #second part is the function name\n"
   ]
  },
  {
   "cell_type": "code",
   "execution_count": 5,
   "id": "69606344-71f1-4c1b-9047-95271fb99b91",
   "metadata": {
    "tags": []
   },
   "outputs": [],
   "source": [
    "import json\n",
    "iam_client=boto3.client('iam',region_name='us-east-1')"
   ]
  },
  {
   "cell_type": "code",
   "execution_count": 6,
   "id": "a91d2253-1278-4c7e-879a-c6a7a6c279e1",
   "metadata": {
    "tags": []
   },
   "outputs": [],
   "source": [
    "#iam policy includes {service - permission} pairs\n",
    "\n",
    "\n",
    "lambda_execution_policy = {\n",
    "    'Version':'2012-10-17',\n",
    "    \"Statement\": [\n",
    "        {\n",
    "            \"Effect\": \"Allow\",\n",
    "            \"Action\": [\"logs:CreateLogGroup\",\n",
    "                       \"logs:CreateLogStream\",\n",
    "                       \"logs:PutLogStream\"],\n",
    "            \"Resource\": \"arn:aws:logs:*:*:*\"\n",
    "        },\n",
    "    ]\n",
    "}"
   ]
  },
  {
   "cell_type": "code",
   "execution_count": 7,
   "id": "a25811bf-7c12-4eac-924d-0da4e96cbe0a",
   "metadata": {
    "tags": []
   },
   "outputs": [
    {
     "data": {
      "text/plain": [
       "{'Version': '2012-10-17',\n",
       " 'Statement': [{'Effect': 'Allow',\n",
       "   'Action': ['logs:CreateLogGroup',\n",
       "    'logs:CreateLogStream',\n",
       "    'logs:PutLogStream'],\n",
       "   'Resource': 'arn:aws:logs:*:*:*'}]}"
      ]
     },
     "execution_count": 7,
     "metadata": {},
     "output_type": "execute_result"
    }
   ],
   "source": [
    "lambda_execution_policy"
   ]
  },
  {
   "cell_type": "code",
   "execution_count": 9,
   "id": "f79c6418-4abd-46ca-bd80-9e1dcbf4afd4",
   "metadata": {
    "tags": []
   },
   "outputs": [],
   "source": [
    "role_name = 'LambdaExecutionRole'"
   ]
  },
  {
   "cell_type": "code",
   "execution_count": 11,
   "id": "28eef32b-e4d7-4304-941c-15a4c0ac41aa",
   "metadata": {},
   "outputs": [
    {
     "ename": "EntityAlreadyExistsException",
     "evalue": "An error occurred (EntityAlreadyExists) when calling the CreateRole operation: Role with name LambdaExecutionRole already exists.",
     "output_type": "error",
     "traceback": [
      "\u001b[0;31m---------------------------------------------------------------------------\u001b[0m",
      "\u001b[0;31mEntityAlreadyExistsException\u001b[0m              Traceback (most recent call last)",
      "Cell \u001b[0;32mIn[11], line 1\u001b[0m\n\u001b[0;32m----> 1\u001b[0m role_response \u001b[38;5;241m=\u001b[39m \u001b[43miam_client\u001b[49m\u001b[38;5;241;43m.\u001b[39;49m\u001b[43mcreate_role\u001b[49m\u001b[43m(\u001b[49m\u001b[43mRoleName\u001b[49m\u001b[38;5;241;43m=\u001b[39;49m\u001b[43mrole_name\u001b[49m\u001b[43m,\u001b[49m\n\u001b[1;32m      2\u001b[0m \u001b[43m                                       \u001b[49m\u001b[43mAssumeRolePolicyDocument\u001b[49m\u001b[38;5;241;43m=\u001b[39;49m\u001b[43mjson\u001b[49m\u001b[38;5;241;43m.\u001b[39;49m\u001b[43mdumps\u001b[49m\u001b[43m(\u001b[49m\n\u001b[1;32m      3\u001b[0m \u001b[43m                                       \u001b[49m\u001b[43m{\u001b[49m\n\u001b[1;32m      4\u001b[0m \u001b[43m                                            \u001b[49m\u001b[38;5;124;43m'\u001b[39;49m\u001b[38;5;124;43mVersion\u001b[39;49m\u001b[38;5;124;43m'\u001b[39;49m\u001b[43m:\u001b[49m\u001b[38;5;124;43m'\u001b[39;49m\u001b[38;5;124;43m2012-10-17\u001b[39;49m\u001b[38;5;124;43m'\u001b[39;49m\u001b[43m,\u001b[49m\n\u001b[1;32m      5\u001b[0m \u001b[43m                                           \u001b[49m\u001b[38;5;124;43m'\u001b[39;49m\u001b[38;5;124;43mStatement\u001b[39;49m\u001b[38;5;124;43m'\u001b[39;49m\u001b[43m:\u001b[49m\u001b[43m[\u001b[49m\n\u001b[1;32m      6\u001b[0m \u001b[43m                                               \u001b[49m\u001b[43m{\u001b[49m\n\u001b[1;32m      7\u001b[0m \u001b[43m                                               \u001b[49m\u001b[38;5;124;43m'\u001b[39;49m\u001b[38;5;124;43mEffect\u001b[39;49m\u001b[38;5;124;43m'\u001b[39;49m\u001b[43m:\u001b[49m\u001b[38;5;124;43m'\u001b[39;49m\u001b[38;5;124;43mAllow\u001b[39;49m\u001b[38;5;124;43m'\u001b[39;49m\u001b[43m,\u001b[49m\n\u001b[1;32m      8\u001b[0m \u001b[43m                                                   \u001b[49m\u001b[38;5;124;43m\"\u001b[39;49m\u001b[38;5;124;43mPrincipal\u001b[39;49m\u001b[38;5;124;43m\"\u001b[39;49m\u001b[43m:\u001b[49m\u001b[43m{\u001b[49m\u001b[38;5;124;43m'\u001b[39;49m\u001b[38;5;124;43mService\u001b[39;49m\u001b[38;5;124;43m'\u001b[39;49m\u001b[43m:\u001b[49m\u001b[38;5;124;43m\"\u001b[39;49m\u001b[38;5;124;43mlambda.amazonaws.com\u001b[39;49m\u001b[38;5;124;43m\"\u001b[39;49m\u001b[43m}\u001b[49m\u001b[43m,\u001b[49m\n\u001b[1;32m      9\u001b[0m \u001b[43m                                                   \u001b[49m\u001b[38;5;124;43m'\u001b[39;49m\u001b[38;5;124;43mAction\u001b[39;49m\u001b[38;5;124;43m'\u001b[39;49m\u001b[43m:\u001b[49m\u001b[38;5;124;43m'\u001b[39;49m\u001b[38;5;124;43msts:AssumeRole\u001b[39;49m\u001b[38;5;124;43m'\u001b[39;49m\n\u001b[1;32m     10\u001b[0m \u001b[43m                                               \u001b[49m\u001b[43m}\u001b[49m\n\u001b[1;32m     11\u001b[0m \u001b[43m                                           \u001b[49m\u001b[43m]\u001b[49m\n\u001b[1;32m     12\u001b[0m \u001b[43m                                       \u001b[49m\u001b[43m}\u001b[49m\u001b[43m \u001b[49m\n\u001b[1;32m     13\u001b[0m \u001b[43m                                       \u001b[49m\u001b[43m)\u001b[49m\u001b[43m)\u001b[49m\n",
      "File \u001b[0;32m/Library/Frameworks/Python.framework/Versions/3.11/lib/python3.11/site-packages/botocore/client.py:535\u001b[0m, in \u001b[0;36mClientCreator._create_api_method.<locals>._api_call\u001b[0;34m(self, *args, **kwargs)\u001b[0m\n\u001b[1;32m    531\u001b[0m     \u001b[38;5;28;01mraise\u001b[39;00m \u001b[38;5;167;01mTypeError\u001b[39;00m(\n\u001b[1;32m    532\u001b[0m         \u001b[38;5;124mf\u001b[39m\u001b[38;5;124m\"\u001b[39m\u001b[38;5;132;01m{\u001b[39;00mpy_operation_name\u001b[38;5;132;01m}\u001b[39;00m\u001b[38;5;124m() only accepts keyword arguments.\u001b[39m\u001b[38;5;124m\"\u001b[39m\n\u001b[1;32m    533\u001b[0m     )\n\u001b[1;32m    534\u001b[0m \u001b[38;5;66;03m# The \"self\" in this scope is referring to the BaseClient.\u001b[39;00m\n\u001b[0;32m--> 535\u001b[0m \u001b[38;5;28;01mreturn\u001b[39;00m \u001b[38;5;28;43mself\u001b[39;49m\u001b[38;5;241;43m.\u001b[39;49m\u001b[43m_make_api_call\u001b[49m\u001b[43m(\u001b[49m\u001b[43moperation_name\u001b[49m\u001b[43m,\u001b[49m\u001b[43m \u001b[49m\u001b[43mkwargs\u001b[49m\u001b[43m)\u001b[49m\n",
      "File \u001b[0;32m/Library/Frameworks/Python.framework/Versions/3.11/lib/python3.11/site-packages/botocore/client.py:980\u001b[0m, in \u001b[0;36mBaseClient._make_api_call\u001b[0;34m(self, operation_name, api_params)\u001b[0m\n\u001b[1;32m    978\u001b[0m     error_code \u001b[38;5;241m=\u001b[39m parsed_response\u001b[38;5;241m.\u001b[39mget(\u001b[38;5;124m\"\u001b[39m\u001b[38;5;124mError\u001b[39m\u001b[38;5;124m\"\u001b[39m, {})\u001b[38;5;241m.\u001b[39mget(\u001b[38;5;124m\"\u001b[39m\u001b[38;5;124mCode\u001b[39m\u001b[38;5;124m\"\u001b[39m)\n\u001b[1;32m    979\u001b[0m     error_class \u001b[38;5;241m=\u001b[39m \u001b[38;5;28mself\u001b[39m\u001b[38;5;241m.\u001b[39mexceptions\u001b[38;5;241m.\u001b[39mfrom_code(error_code)\n\u001b[0;32m--> 980\u001b[0m     \u001b[38;5;28;01mraise\u001b[39;00m error_class(parsed_response, operation_name)\n\u001b[1;32m    981\u001b[0m \u001b[38;5;28;01melse\u001b[39;00m:\n\u001b[1;32m    982\u001b[0m     \u001b[38;5;28;01mreturn\u001b[39;00m parsed_response\n",
      "\u001b[0;31mEntityAlreadyExistsException\u001b[0m: An error occurred (EntityAlreadyExists) when calling the CreateRole operation: Role with name LambdaExecutionRole already exists."
     ]
    }
   ],
   "source": [
    "#a role is assumed by a resource. Lambda resource in this example.\n",
    "role_response = iam_client.create_role(RoleName=role_name,\n",
    "                                       AssumeRolePolicyDocument=json.dumps(\n",
    "                                       {\n",
    "                                            'Version':'2012-10-17',\n",
    "                                           'Statement':[\n",
    "                                               {\n",
    "                                               'Effect':'Allow',\n",
    "                                                   \"Principal\":{'Service':\"lambda.amazonaws.com\"},\n",
    "                                                   'Action':'sts:AssumeRole'\n",
    "                                               }\n",
    "                                           ]\n",
    "                                       } \n",
    "                                       ))\n"
   ]
  },
  {
   "cell_type": "code",
   "execution_count": 12,
   "id": "bf135864-1225-425e-8dea-2e86eebd19e2",
   "metadata": {
    "tags": []
   },
   "outputs": [
    {
     "data": {
      "text/plain": [
       "{'Role': {'Path': '/',\n",
       "  'RoleName': 'LambdaExecutionRole',\n",
       "  'RoleId': 'AROA2U4Z22B57VFHHV7TO',\n",
       "  'Arn': 'arn:aws:iam::732077674619:role/LambdaExecutionRole',\n",
       "  'CreateDate': datetime.datetime(2023, 11, 8, 4, 33, 9, tzinfo=tzutc()),\n",
       "  'AssumeRolePolicyDocument': {'Version': '2012-10-17',\n",
       "   'Statement': [{'Effect': 'Allow',\n",
       "     'Principal': {'Service': 'lambda.amazonaws.com'},\n",
       "     'Action': 'sts:AssumeRole'}]}},\n",
       " 'ResponseMetadata': {'RequestId': '9ac65d7e-fe54-4f52-a1b9-9b77cd438428',\n",
       "  'HTTPStatusCode': 200,\n",
       "  'HTTPHeaders': {'x-amzn-requestid': '9ac65d7e-fe54-4f52-a1b9-9b77cd438428',\n",
       "   'content-type': 'text/xml',\n",
       "   'content-length': '792',\n",
       "   'date': 'Wed, 08 Nov 2023 04:33:08 GMT'},\n",
       "  'RetryAttempts': 0}}"
      ]
     },
     "execution_count": 12,
     "metadata": {},
     "output_type": "execute_result"
    }
   ],
   "source": [
    "role_response"
   ]
  },
  {
   "cell_type": "code",
   "execution_count": 14,
   "id": "60591c0f-1258-4e2b-a52b-95cb2121918b",
   "metadata": {
    "tags": []
   },
   "outputs": [],
   "source": [
    "policy_name='LambdaExecutionPolicy'"
   ]
  },
  {
   "cell_type": "code",
   "execution_count": 15,
   "id": "8adc8b03-80e5-4956-b1d1-3071e5769e20",
   "metadata": {
    "tags": []
   },
   "outputs": [
    {
     "data": {
      "text/plain": [
       "{'ResponseMetadata': {'RequestId': 'c0b08c74-90c5-4359-9333-f229132f592c',\n",
       "  'HTTPStatusCode': 200,\n",
       "  'HTTPHeaders': {'x-amzn-requestid': 'c0b08c74-90c5-4359-9333-f229132f592c',\n",
       "   'content-type': 'text/xml',\n",
       "   'content-length': '206',\n",
       "   'date': 'Wed, 08 Nov 2023 04:37:43 GMT'},\n",
       "  'RetryAttempts': 0}}"
      ]
     },
     "execution_count": 15,
     "metadata": {},
     "output_type": "execute_result"
    }
   ],
   "source": [
    "#linking a role to a policy\n",
    "\n",
    "iam_client.put_role_policy(RoleName=role_name,PolicyName=policy_name,\n",
    "                           PolicyDocument = json.dumps(lambda_execution_policy))"
   ]
  },
  {
   "cell_type": "code",
   "execution_count": 17,
   "id": "40e21ec9-ced2-4afd-a152-e4130d6e27e9",
   "metadata": {
    "tags": []
   },
   "outputs": [
    {
     "data": {
      "text/plain": [
       "'arn:aws:iam::732077674619:role/LambdaExecutionRole'"
      ]
     },
     "execution_count": 17,
     "metadata": {},
     "output_type": "execute_result"
    }
   ],
   "source": [
    "role_arn = role_response['Role']['Arn']\n",
    "role_arn"
   ]
  },
  {
   "cell_type": "code",
   "execution_count": null,
   "id": "049a16f9-a8b7-44c4-926a-6d5fcf087987",
   "metadata": {},
   "outputs": [],
   "source": [
    "##### the policy and role creation can be done on the console.\n",
    "#instead of doing on boto3"
   ]
  },
  {
   "cell_type": "code",
   "execution_count": null,
   "id": "b8e77595-d2e9-4715-957f-934326263d3d",
   "metadata": {},
   "outputs": [],
   "source": []
  },
  {
   "cell_type": "code",
   "execution_count": 20,
   "id": "b8c6d2cb-77b7-4644-bf0d-9b6a87cd4b70",
   "metadata": {
    "tags": []
   },
   "outputs": [],
   "source": [
    "import zipfile\n",
    "import io"
   ]
  },
  {
   "cell_type": "code",
   "execution_count": 28,
   "id": "313d76f2-be4a-4534-bb5f-d5581b0238ab",
   "metadata": {
    "tags": []
   },
   "outputs": [],
   "source": [
    "lambda_client=boto3.client('lambda',region_name='us-east-1')"
   ]
  },
  {
   "cell_type": "code",
   "execution_count": 36,
   "id": "a60af557-5a30-44c9-a514-8001efb4b2ac",
   "metadata": {
    "tags": []
   },
   "outputs": [],
   "source": [
    "with io.BytesIO() as deployment_package:\n",
    "    with zipfile.ZipFile(deployment_package,'w') as zipf:\n",
    "        zipf.writestr('lambda_function.py',function_code)\n",
    "    \n",
    "    create_function_response = lambda_client.create_function(\n",
    "    FunctionName=function_name,\n",
    "    Runtime=runtime,\n",
    "    Role = role_arn,\n",
    "    Handler = handler,\n",
    "    Code = {'ZipFile':deployment_package.getvalue()}\n",
    "    )\n",
    "\n",
    "        \n"
   ]
  },
  {
   "cell_type": "code",
   "execution_count": 58,
   "id": "bcd912f9-6393-4df1-aca0-7404ef7d347a",
   "metadata": {
    "tags": []
   },
   "outputs": [],
   "source": [
    "invoke_response = lambda_client.invoke(FunctionName=function_name)"
   ]
  },
  {
   "cell_type": "code",
   "execution_count": null,
   "id": "dd06b93c-71ab-46b2-868c-c45c0733ec69",
   "metadata": {},
   "outputs": [],
   "source": []
  },
  {
   "cell_type": "code",
   "execution_count": 56,
   "id": "4d0d8905-93cd-4585-b9bb-302126901767",
   "metadata": {
    "tags": []
   },
   "outputs": [
    {
     "data": {
      "text/plain": [
       "{'ResponseMetadata': {'RequestId': '7bb0e389-84b3-4c75-8427-b016ea6dec5d',\n",
       "  'HTTPStatusCode': 200,\n",
       "  'HTTPHeaders': {'date': 'Wed, 08 Nov 2023 05:26:42 GMT',\n",
       "   'content-type': 'application/json',\n",
       "   'content-length': '13',\n",
       "   'connection': 'keep-alive',\n",
       "   'x-amzn-requestid': '7bb0e389-84b3-4c75-8427-b016ea6dec5d',\n",
       "   'x-amzn-remapped-content-length': '0',\n",
       "   'x-amz-executed-version': '$LATEST',\n",
       "   'x-amzn-trace-id': 'root=1-654b1c12-6f28e85d19715e35307f18b5;sampled=0;lineage=da5a4530:0'},\n",
       "  'RetryAttempts': 0},\n",
       " 'StatusCode': 200,\n",
       " 'ExecutedVersion': '$LATEST',\n",
       " 'Payload': <botocore.response.StreamingBody at 0x11051c610>}"
      ]
     },
     "execution_count": 56,
     "metadata": {},
     "output_type": "execute_result"
    }
   ],
   "source": [
    "invoke_response"
   ]
  },
  {
   "cell_type": "code",
   "execution_count": 62,
   "id": "7acebf43-339e-4f88-856d-b1da3a8c6609",
   "metadata": {
    "tags": []
   },
   "outputs": [
    {
     "data": {
      "text/plain": [
       "''"
      ]
     },
     "execution_count": 62,
     "metadata": {},
     "output_type": "execute_result"
    }
   ],
   "source": [
    "payload = invoke_response['Payload'].read()\n",
    "payload.decode('utf-8')"
   ]
  },
  {
   "cell_type": "code",
   "execution_count": 63,
   "id": "4e83deb7-c06a-478d-ac6b-9fefc762981b",
   "metadata": {
    "tags": []
   },
   "outputs": [
    {
     "data": {
      "text/plain": [
       "{'ResponseMetadata': {'RequestId': '7fe60277-a23d-4b08-b7bc-ce3520069daf',\n",
       "  'HTTPStatusCode': 204,\n",
       "  'HTTPHeaders': {'date': 'Wed, 08 Nov 2023 05:28:26 GMT',\n",
       "   'content-type': 'application/json',\n",
       "   'connection': 'keep-alive',\n",
       "   'x-amzn-requestid': '7fe60277-a23d-4b08-b7bc-ce3520069daf'},\n",
       "  'RetryAttempts': 0}}"
      ]
     },
     "execution_count": 63,
     "metadata": {},
     "output_type": "execute_result"
    }
   ],
   "source": [
    "lambda_client.delete_function(FunctionName=function_name)"
   ]
  }
 ],
 "metadata": {
  "kernelspec": {
   "display_name": "Python 3 (ipykernel)",
   "language": "python",
   "name": "python3"
  },
  "language_info": {
   "codemirror_mode": {
    "name": "ipython",
    "version": 3
   },
   "file_extension": ".py",
   "mimetype": "text/x-python",
   "name": "python",
   "nbconvert_exporter": "python",
   "pygments_lexer": "ipython3",
   "version": "3.11.2"
  }
 },
 "nbformat": 4,
 "nbformat_minor": 5
}
