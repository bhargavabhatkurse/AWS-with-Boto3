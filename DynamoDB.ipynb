{
 "cells": [
  {
   "cell_type": "code",
   "execution_count": 1,
   "id": "018fb77e",
   "metadata": {},
   "outputs": [],
   "source": [
    "#dynamoDB - nosql(key-value pair) - 3 types of datatypes: strings(s), number(n), binary(b)\n",
    "import boto3"
   ]
  },
  {
   "cell_type": "code",
   "execution_count": 3,
   "id": "2ca2883e",
   "metadata": {},
   "outputs": [],
   "source": [
    "client = boto3.client('dynamodb',region_name='us-east-1')"
   ]
  },
  {
   "cell_type": "code",
   "execution_count": 4,
   "id": "f17417a2",
   "metadata": {},
   "outputs": [],
   "source": [
    "table_name = 'movies'"
   ]
  },
  {
   "cell_type": "code",
   "execution_count": 5,
   "id": "e4eb2e98",
   "metadata": {},
   "outputs": [],
   "source": [
    "attributes = [\n",
    "    {\n",
    "        'AttributeName':'Title',\n",
    "        'AttributeType':'S'\n",
    "    },\n",
    "     {\n",
    "        'AttributeName':'Rating',\n",
    "        'AttributeType':'N'\n",
    "    }\n",
    "]"
   ]
  },
  {
   "cell_type": "code",
   "execution_count": 7,
   "id": "1a6d1e28",
   "metadata": {},
   "outputs": [],
   "source": [
    "key_schema = [\n",
    "    {\n",
    "        'AttributeName':'Title',\n",
    "        'KeyType':'HASH'           #primary key\n",
    "    },\n",
    "     {\n",
    "        'AttributeName':'Rating',\n",
    "        'KeyType':'RANGE'           #something on which we can sort\n",
    "    }\n",
    "]"
   ]
  },
  {
   "cell_type": "code",
   "execution_count": 8,
   "id": "e9eae9b4",
   "metadata": {},
   "outputs": [],
   "source": [
    "#dynamoDB can scale automatically, therefore we need to limit\n",
    "\n",
    "provisioned_throughput = {\n",
    "    'ReadCapacityUnits':5,#5 operations per sec\n",
    "    'WriteCapacityUnits':5\n",
    "}"
   ]
  },
  {
   "cell_type": "code",
   "execution_count": null,
   "id": "ccc6bf68",
   "metadata": {},
   "outputs": [],
   "source": []
  },
  {
   "cell_type": "code",
   "execution_count": null,
   "id": "84b1f647",
   "metadata": {},
   "outputs": [],
   "source": []
  },
  {
   "cell_type": "code",
   "execution_count": 9,
   "id": "71d3e318",
   "metadata": {},
   "outputs": [],
   "source": [
    "response = client.create_table(TableName=table_name,\n",
    "                               AttributeDefinitions=attributes,\n",
    "                              KeySchema = key_schema,\n",
    "                              ProvisionedThroughput = provisioned_throughput)"
   ]
  },
  {
   "cell_type": "code",
   "execution_count": 10,
   "id": "3e20242d",
   "metadata": {},
   "outputs": [
    {
     "data": {
      "text/plain": [
       "{'TableDescription': {'AttributeDefinitions': [{'AttributeName': 'Rating',\n",
       "    'AttributeType': 'N'},\n",
       "   {'AttributeName': 'Title', 'AttributeType': 'S'}],\n",
       "  'TableName': 'movies',\n",
       "  'KeySchema': [{'AttributeName': 'Title', 'KeyType': 'HASH'},\n",
       "   {'AttributeName': 'Rating', 'KeyType': 'RANGE'}],\n",
       "  'TableStatus': 'CREATING',\n",
       "  'CreationDateTime': datetime.datetime(2023, 10, 29, 15, 4, 11, 520000, tzinfo=tzlocal()),\n",
       "  'ProvisionedThroughput': {'NumberOfDecreasesToday': 0,\n",
       "   'ReadCapacityUnits': 5,\n",
       "   'WriteCapacityUnits': 5},\n",
       "  'TableSizeBytes': 0,\n",
       "  'ItemCount': 0,\n",
       "  'TableArn': 'arn:aws:dynamodb:us-east-1:732077674619:table/movies',\n",
       "  'TableId': 'e5a3531a-a301-45a5-a81c-d673a5c5a95f',\n",
       "  'DeletionProtectionEnabled': False},\n",
       " 'ResponseMetadata': {'RequestId': 'T35BSJVTHA0CIVQIQD3G9BQRCNVV4KQNSO5AEMVJF66Q9ASUAAJG',\n",
       "  'HTTPStatusCode': 200,\n",
       "  'HTTPHeaders': {'server': 'Server',\n",
       "   'date': 'Sun, 29 Oct 2023 09:34:11 GMT',\n",
       "   'content-type': 'application/x-amz-json-1.0',\n",
       "   'content-length': '603',\n",
       "   'connection': 'keep-alive',\n",
       "   'x-amzn-requestid': 'T35BSJVTHA0CIVQIQD3G9BQRCNVV4KQNSO5AEMVJF66Q9ASUAAJG',\n",
       "   'x-amz-crc32': '695183619'},\n",
       "  'RetryAttempts': 0}}"
      ]
     },
     "execution_count": 10,
     "metadata": {},
     "output_type": "execute_result"
    }
   ],
   "source": [
    "response"
   ]
  },
  {
   "cell_type": "code",
   "execution_count": 11,
   "id": "95c3df6b",
   "metadata": {},
   "outputs": [],
   "source": [
    "#create an item\n",
    "entry = {'Title':{'S': 'The matrix'},\n",
    "         'Director':{'S': 'Bhargava'},\n",
    "         'Year':{'N': '1999'},\n",
    "         'Rating':{'N': '5'}\n",
    "        }"
   ]
  },
  {
   "cell_type": "code",
   "execution_count": 12,
   "id": "db230ad7",
   "metadata": {},
   "outputs": [
    {
     "data": {
      "text/plain": [
       "{'ResponseMetadata': {'RequestId': 'P6NL3EC7RUT17TIQCKRJKSQHDVVV4KQNSO5AEMVJF66Q9ASUAAJG',\n",
       "  'HTTPStatusCode': 200,\n",
       "  'HTTPHeaders': {'server': 'Server',\n",
       "   'date': 'Sun, 29 Oct 2023 09:38:47 GMT',\n",
       "   'content-type': 'application/x-amz-json-1.0',\n",
       "   'content-length': '2',\n",
       "   'connection': 'keep-alive',\n",
       "   'x-amzn-requestid': 'P6NL3EC7RUT17TIQCKRJKSQHDVVV4KQNSO5AEMVJF66Q9ASUAAJG',\n",
       "   'x-amz-crc32': '2745614147'},\n",
       "  'RetryAttempts': 0}}"
      ]
     },
     "execution_count": 12,
     "metadata": {},
     "output_type": "execute_result"
    }
   ],
   "source": [
    "client.put_item(TableName='movies',Item=entry)"
   ]
  },
  {
   "cell_type": "code",
   "execution_count": 19,
   "id": "37e3bcdc",
   "metadata": {},
   "outputs": [],
   "source": [
    "#read an item\n",
    "item_key = {\n",
    "    'Title':{'S': 'The matrix'},\n",
    "    'Rating':{'N': '5'}\n",
    "}"
   ]
  },
  {
   "cell_type": "code",
   "execution_count": null,
   "id": "19b627eb",
   "metadata": {},
   "outputs": [],
   "source": []
  },
  {
   "cell_type": "code",
   "execution_count": 32,
   "id": "034cf9e4",
   "metadata": {},
   "outputs": [
    {
     "ename": "KeyError",
     "evalue": "'Item'",
     "output_type": "error",
     "traceback": [
      "\u001b[0;31m---------------------------------------------------------------------------\u001b[0m",
      "\u001b[0;31mKeyError\u001b[0m                                  Traceback (most recent call last)",
      "Cell \u001b[0;32mIn[32], line 2\u001b[0m\n\u001b[1;32m      1\u001b[0m response \u001b[38;5;241m=\u001b[39m client\u001b[38;5;241m.\u001b[39mget_item(TableName\u001b[38;5;241m=\u001b[39m\u001b[38;5;124m'\u001b[39m\u001b[38;5;124mmovies\u001b[39m\u001b[38;5;124m'\u001b[39m,Key \u001b[38;5;241m=\u001b[39m item_key)\n\u001b[0;32m----> 2\u001b[0m \u001b[43mresponse\u001b[49m\u001b[43m[\u001b[49m\u001b[38;5;124;43m'\u001b[39;49m\u001b[38;5;124;43mItem\u001b[39;49m\u001b[38;5;124;43m'\u001b[39;49m\u001b[43m]\u001b[49m\n",
      "\u001b[0;31mKeyError\u001b[0m: 'Item'"
     ]
    }
   ],
   "source": [
    "response = client.get_item(TableName='movies',Key = item_key)\n",
    "response['Item']"
   ]
  },
  {
   "cell_type": "code",
   "execution_count": null,
   "id": "1c4e0bc1",
   "metadata": {},
   "outputs": [],
   "source": []
  },
  {
   "cell_type": "code",
   "execution_count": null,
   "id": "01f2af97",
   "metadata": {},
   "outputs": [],
   "source": [
    "#updation"
   ]
  },
  {
   "cell_type": "code",
   "execution_count": 28,
   "id": "ba2c35b2",
   "metadata": {},
   "outputs": [],
   "source": [
    "update = 'SET Director = :r' #update expression"
   ]
  },
  {
   "cell_type": "code",
   "execution_count": 29,
   "id": "3011897e",
   "metadata": {},
   "outputs": [
    {
     "data": {
      "text/plain": [
       "{'ResponseMetadata': {'RequestId': 'Q1Q4K7RD7CKH4RRKHVJR2D8SEVVV4KQNSO5AEMVJF66Q9ASUAAJG',\n",
       "  'HTTPStatusCode': 200,\n",
       "  'HTTPHeaders': {'server': 'Server',\n",
       "   'date': 'Sun, 29 Oct 2023 09:57:41 GMT',\n",
       "   'content-type': 'application/x-amz-json-1.0',\n",
       "   'content-length': '2',\n",
       "   'connection': 'keep-alive',\n",
       "   'x-amzn-requestid': 'Q1Q4K7RD7CKH4RRKHVJR2D8SEVVV4KQNSO5AEMVJF66Q9ASUAAJG',\n",
       "   'x-amz-crc32': '2745614147'},\n",
       "  'RetryAttempts': 0}}"
      ]
     },
     "execution_count": 29,
     "metadata": {},
     "output_type": "execute_result"
    }
   ],
   "source": [
    "response = client.update_item(TableName='movies',\n",
    "                             Key=item_key,\n",
    "                             UpdateExpression=update,\n",
    "                             ExpressionAttributeValues={':r':{'S':'Bhargava R Bhatkurse'}})\n",
    "response"
   ]
  },
  {
   "cell_type": "code",
   "execution_count": null,
   "id": "efd9d9dc",
   "metadata": {},
   "outputs": [],
   "source": []
  },
  {
   "cell_type": "code",
   "execution_count": 31,
   "id": "21c5bb2f",
   "metadata": {},
   "outputs": [
    {
     "data": {
      "text/plain": [
       "{'ResponseMetadata': {'RequestId': 'M6O7SQNQ1ODBGLNAJRJCG7SJVVVV4KQNSO5AEMVJF66Q9ASUAAJG',\n",
       "  'HTTPStatusCode': 200,\n",
       "  'HTTPHeaders': {'server': 'Server',\n",
       "   'date': 'Sun, 29 Oct 2023 09:58:37 GMT',\n",
       "   'content-type': 'application/x-amz-json-1.0',\n",
       "   'content-length': '2',\n",
       "   'connection': 'keep-alive',\n",
       "   'x-amzn-requestid': 'M6O7SQNQ1ODBGLNAJRJCG7SJVVVV4KQNSO5AEMVJF66Q9ASUAAJG',\n",
       "   'x-amz-crc32': '2745614147'},\n",
       "  'RetryAttempts': 0}}"
      ]
     },
     "execution_count": 31,
     "metadata": {},
     "output_type": "execute_result"
    }
   ],
   "source": [
    "#deletion\n",
    "client.delete_item(TableName='movies',\n",
    "                   Key=item_key)"
   ]
  },
  {
   "cell_type": "code",
   "execution_count": null,
   "id": "3d3c8c57",
   "metadata": {},
   "outputs": [],
   "source": []
  },
  {
   "cell_type": "code",
   "execution_count": null,
   "id": "a5540de3",
   "metadata": {},
   "outputs": [],
   "source": []
  },
  {
   "cell_type": "code",
   "execution_count": null,
   "id": "1ab652d6",
   "metadata": {},
   "outputs": [],
   "source": []
  },
  {
   "cell_type": "code",
   "execution_count": null,
   "id": "6de438a9",
   "metadata": {},
   "outputs": [],
   "source": []
  },
  {
   "cell_type": "code",
   "execution_count": null,
   "id": "674b0e12",
   "metadata": {},
   "outputs": [],
   "source": [
    "#batch request"
   ]
  },
  {
   "cell_type": "code",
   "execution_count": 33,
   "id": "451026db",
   "metadata": {},
   "outputs": [],
   "source": [
    "movies = [\n",
    "        {\"Title\": \"The Matrix\",\n",
    "         \"Director\": \"Lana Wachowski\",\n",
    "         \"Year\": \"1999\",\n",
    "         \"Rating\": \"4.7\"},\n",
    "    \n",
    "        {\"Title\": \"The Matrix 2\",\n",
    "             \"Director\": \"Lana Wachowski\",\n",
    "             \"Year\": \"2003\",\n",
    "             \"Rating\": \"4.6\"},\n",
    "\n",
    "        {\"Title\": \"The Matrix 3\",\n",
    "             \"Director\": \"Lana Wachowski\",\n",
    "             \"Year\": \"2003\",\n",
    "             \"Rating\": \"4.5\"},\n",
    "\n",
    "        {\"Title\": \"Inception\",\n",
    "             \"Director\": \"Christopher Nolan\",\n",
    "             \"Year\": \"2010\",\n",
    "             \"Rating\": \"4.6\"},\n",
    "    \n",
    "        {\"Title\": \"Saving Private Ryan\",\n",
    "             \"Director\": \"Steven Spielberg\",\n",
    "             \"Year\": \"1999\",\n",
    "             \"Rating\": \"4.7\"},\n",
    "\n",
    "]"
   ]
  },
  {
   "cell_type": "code",
   "execution_count": 35,
   "id": "eb1dd1cd",
   "metadata": {},
   "outputs": [],
   "source": [
    "batch_request = []"
   ]
  },
  {
   "cell_type": "code",
   "execution_count": 36,
   "id": "7f396dc2",
   "metadata": {},
   "outputs": [
    {
     "data": {
      "text/plain": [
       "[{'PutRequest': {'Item': {'Title': {'S': 'The Matrix'},\n",
       "    'Rating': {'N': '4.7'},\n",
       "    'Director': {'S': 'Lana Wachowski'},\n",
       "    'Year': {'N': '1999'}}}},\n",
       " {'PutRequest': {'Item': {'Title': {'S': 'The Matrix 2'},\n",
       "    'Rating': {'N': '4.6'},\n",
       "    'Director': {'S': 'Lana Wachowski'},\n",
       "    'Year': {'N': '2003'}}}},\n",
       " {'PutRequest': {'Item': {'Title': {'S': 'The Matrix 3'},\n",
       "    'Rating': {'N': '4.5'},\n",
       "    'Director': {'S': 'Lana Wachowski'},\n",
       "    'Year': {'N': '2003'}}}},\n",
       " {'PutRequest': {'Item': {'Title': {'S': 'Inception'},\n",
       "    'Rating': {'N': '4.6'},\n",
       "    'Director': {'S': 'Christopher Nolan'},\n",
       "    'Year': {'N': '2010'}}}},\n",
       " {'PutRequest': {'Item': {'Title': {'S': 'Saving Private Ryan'},\n",
       "    'Rating': {'N': '4.7'},\n",
       "    'Director': {'S': 'Steven Spielberg'},\n",
       "    'Year': {'N': '1999'}}}}]"
      ]
     },
     "execution_count": 36,
     "metadata": {},
     "output_type": "execute_result"
    }
   ],
   "source": [
    "for movie in movies:\n",
    "    batch_request.append({\n",
    "        'PutRequest':{\n",
    "            'Item':{\n",
    "                'Title':{'S':movie['Title']},\n",
    "                'Rating':{'N':movie['Rating']},\n",
    "                'Director':{'S':movie['Director']},\n",
    "                'Year':{'N':movie['Year']},\n",
    "            }\n",
    "        }\n",
    "    })\n",
    "batch_request"
   ]
  },
  {
   "cell_type": "code",
   "execution_count": 38,
   "id": "f30d9b01",
   "metadata": {},
   "outputs": [],
   "source": [
    "#batch_write\n",
    "response = client.batch_write_item(RequestItems={'movies':batch_request})"
   ]
  },
  {
   "cell_type": "code",
   "execution_count": 39,
   "id": "88379fb7",
   "metadata": {},
   "outputs": [
    {
     "data": {
      "text/plain": [
       "{'UnprocessedItems': {},\n",
       " 'ResponseMetadata': {'RequestId': 'U2DLR2FTUNBVFM295JBH2JBIHVVV4KQNSO5AEMVJF66Q9ASUAAJG',\n",
       "  'HTTPStatusCode': 200,\n",
       "  'HTTPHeaders': {'server': 'Server',\n",
       "   'date': 'Sun, 29 Oct 2023 11:35:50 GMT',\n",
       "   'content-type': 'application/x-amz-json-1.0',\n",
       "   'content-length': '23',\n",
       "   'connection': 'keep-alive',\n",
       "   'x-amzn-requestid': 'U2DLR2FTUNBVFM295JBH2JBIHVVV4KQNSO5AEMVJF66Q9ASUAAJG',\n",
       "   'x-amz-crc32': '4185382651'},\n",
       "  'RetryAttempts': 0}}"
      ]
     },
     "execution_count": 39,
     "metadata": {},
     "output_type": "execute_result"
    }
   ],
   "source": [
    "response"
   ]
  },
  {
   "cell_type": "code",
   "execution_count": 43,
   "id": "bee9930f",
   "metadata": {},
   "outputs": [
    {
     "data": {
      "text/plain": [
       "{'Keys': [{'Title': {'S': 'The Matrix'}, 'Rating': {'N': '4.7'}},\n",
       "  {'Title': {'S': 'The Matrix 2'}, 'Rating': {'N': '4.6'}},\n",
       "  {'Title': {'S': 'The Matrix 3'}, 'Rating': {'N': '4.5'}},\n",
       "  {'Title': {'S': 'Inception'}, 'Rating': {'N': '4.6'}},\n",
       "  {'Title': {'S': 'Saving Private Ryan'}, 'Rating': {'N': '4.7'}}]}"
      ]
     },
     "execution_count": 43,
     "metadata": {},
     "output_type": "execute_result"
    }
   ],
   "source": [
    "batch_request_2 = {\"Keys\": []}\n",
    "for movie in movies:\n",
    "    batch_request_2[\"Keys\"].append({\n",
    "        'Title':{'S':movie['Title']},\n",
    "        'Rating':{'N':movie['Rating']},\n",
    "    })\n",
    "batch_request_2\n"
   ]
  },
  {
   "cell_type": "code",
   "execution_count": 47,
   "id": "568c165f",
   "metadata": {},
   "outputs": [
    {
     "data": {
      "text/plain": [
       "{'movies': [{'Title': {'S': 'The Matrix'},\n",
       "   'Director': {'S': 'Lana Wachowski'},\n",
       "   'Year': {'N': '1999'},\n",
       "   'Rating': {'N': '4.7'}},\n",
       "  {'Title': {'S': 'The Matrix 2'},\n",
       "   'Director': {'S': 'Lana Wachowski'},\n",
       "   'Year': {'N': '2003'},\n",
       "   'Rating': {'N': '4.6'}},\n",
       "  {'Title': {'S': 'The Matrix 3'},\n",
       "   'Director': {'S': 'Lana Wachowski'},\n",
       "   'Year': {'N': '2003'},\n",
       "   'Rating': {'N': '4.5'}},\n",
       "  {'Title': {'S': 'Inception'},\n",
       "   'Director': {'S': 'Christopher Nolan'},\n",
       "   'Year': {'N': '2010'},\n",
       "   'Rating': {'N': '4.6'}},\n",
       "  {'Title': {'S': 'Saving Private Ryan'},\n",
       "   'Director': {'S': 'Steven Spielberg'},\n",
       "   'Year': {'N': '1999'},\n",
       "   'Rating': {'N': '4.7'}}]}"
      ]
     },
     "execution_count": 47,
     "metadata": {},
     "output_type": "execute_result"
    }
   ],
   "source": [
    "response = client.batch_get_item(RequestItems={\"movies\":batch_request_2})\n",
    "response['Responses']"
   ]
  },
  {
   "cell_type": "code",
   "execution_count": null,
   "id": "0e1b7f43",
   "metadata": {},
   "outputs": [],
   "source": []
  },
  {
   "cell_type": "code",
   "execution_count": null,
   "id": "d3c3b6aa",
   "metadata": {},
   "outputs": [],
   "source": []
  },
  {
   "cell_type": "code",
   "execution_count": 58,
   "id": "3e74276a",
   "metadata": {},
   "outputs": [
    {
     "data": {
      "text/plain": [
       "[{'Title': {'S': 'The Matrix'},\n",
       "  'Director': {'S': 'Lana Wachowski'},\n",
       "  'Year': {'N': '1999'},\n",
       "  'Rating': {'N': '4.7'}},\n",
       " {'Title': {'S': 'Inception'},\n",
       "  'Director': {'S': 'Christopher Nolan'},\n",
       "  'Year': {'N': '2010'},\n",
       "  'Rating': {'N': '4.6'}},\n",
       " {'Title': {'S': 'The Matrix 3'},\n",
       "  'Director': {'S': 'Lana Wachowski'},\n",
       "  'Year': {'N': '2003'},\n",
       "  'Rating': {'N': '4.5'}},\n",
       " {'Title': {'S': 'Saving Private Ryan'},\n",
       "  'Director': {'S': 'Steven Spielberg'},\n",
       "  'Year': {'N': '1999'},\n",
       "  'Rating': {'N': '4.7'}},\n",
       " {'Title': {'S': 'The Matrix 2'},\n",
       "  'Director': {'S': 'Lana Wachowski'},\n",
       "  'Year': {'N': '2003'},\n",
       "  'Rating': {'N': '4.6'}}]"
      ]
     },
     "execution_count": 58,
     "metadata": {},
     "output_type": "execute_result"
    }
   ],
   "source": [
    "items = []\n",
    "response = client.scan(TableName='movies')\n",
    "items.extend(response['Items'])\n",
    "\n",
    "while \"LastEvaluatedKey\" in response.keys():\n",
    "    response = client.scan(TableName='movies',ExclusiveStartKey=response[\"LastEvaluatedKey\"])\n",
    "    items.extend(response['Items'])\n",
    "\n",
    "items\n"
   ]
  },
  {
   "cell_type": "code",
   "execution_count": null,
   "id": "dbb59eb2",
   "metadata": {},
   "outputs": [],
   "source": [
    "\n",
    "#filter in scan"
   ]
  },
  {
   "cell_type": "code",
   "execution_count": 59,
   "id": "44d2c80e",
   "metadata": {},
   "outputs": [
    {
     "data": {
      "text/plain": [
       "{'Items': [{'Title': {'S': 'The Matrix'},\n",
       "   'Director': {'S': 'Lana Wachowski'},\n",
       "   'Year': {'N': '1999'},\n",
       "   'Rating': {'N': '4.7'}},\n",
       "  {'Title': {'S': 'Saving Private Ryan'},\n",
       "   'Director': {'S': 'Steven Spielberg'},\n",
       "   'Year': {'N': '1999'},\n",
       "   'Rating': {'N': '4.7'}}],\n",
       " 'Count': 2,\n",
       " 'ScannedCount': 5,\n",
       " 'ResponseMetadata': {'RequestId': 'LC9E7QS3V68FN3FC2J7STMVK7JVV4KQNSO5AEMVJF66Q9ASUAAJG',\n",
       "  'HTTPStatusCode': 200,\n",
       "  'HTTPHeaders': {'server': 'Server',\n",
       "   'date': 'Sun, 29 Oct 2023 11:55:50 GMT',\n",
       "   'content-type': 'application/x-amz-json-1.0',\n",
       "   'content-length': '257',\n",
       "   'connection': 'keep-alive',\n",
       "   'x-amzn-requestid': 'LC9E7QS3V68FN3FC2J7STMVK7JVV4KQNSO5AEMVJF66Q9ASUAAJG',\n",
       "   'x-amz-crc32': '1439405294'},\n",
       "  'RetryAttempts': 0}}"
      ]
     },
     "execution_count": 59,
     "metadata": {},
     "output_type": "execute_result"
    }
   ],
   "source": [
    "response = client.scan(TableName='movies',\n",
    "           FilterExpression='Rating >= :num',\n",
    "           ExpressionAttributeValues = {':num':{'N':'4.7'}})\n",
    "response"
   ]
  },
  {
   "cell_type": "code",
   "execution_count": null,
   "id": "390ddb4a",
   "metadata": {},
   "outputs": [],
   "source": []
  },
  {
   "cell_type": "code",
   "execution_count": null,
   "id": "5539d2d6",
   "metadata": {},
   "outputs": [],
   "source": []
  },
  {
   "cell_type": "code",
   "execution_count": null,
   "id": "ba19469a",
   "metadata": {},
   "outputs": [],
   "source": [
    "#using resource instead of client"
   ]
  },
  {
   "cell_type": "code",
   "execution_count": 60,
   "id": "cd208629",
   "metadata": {},
   "outputs": [],
   "source": [
    "dynamodb = boto3.resource('dynamodb',region_name='us-east-1')"
   ]
  },
  {
   "cell_type": "code",
   "execution_count": 61,
   "id": "89e25b76",
   "metadata": {},
   "outputs": [],
   "source": [
    "table = dynamodb.Table('movies')"
   ]
  },
  {
   "cell_type": "code",
   "execution_count": 62,
   "id": "29c910d7",
   "metadata": {},
   "outputs": [],
   "source": [
    "from boto3.dynamodb.conditions import Key, Attr"
   ]
  },
  {
   "cell_type": "code",
   "execution_count": 64,
   "id": "b6ecdb58",
   "metadata": {},
   "outputs": [
    {
     "data": {
      "text/plain": [
       "['__and__',\n",
       " '__class__',\n",
       " '__delattr__',\n",
       " '__dict__',\n",
       " '__dir__',\n",
       " '__doc__',\n",
       " '__eq__',\n",
       " '__format__',\n",
       " '__ge__',\n",
       " '__getattribute__',\n",
       " '__getstate__',\n",
       " '__gt__',\n",
       " '__hash__',\n",
       " '__init__',\n",
       " '__init_subclass__',\n",
       " '__invert__',\n",
       " '__le__',\n",
       " '__lt__',\n",
       " '__module__',\n",
       " '__ne__',\n",
       " '__new__',\n",
       " '__or__',\n",
       " '__reduce__',\n",
       " '__reduce_ex__',\n",
       " '__repr__',\n",
       " '__setattr__',\n",
       " '__sizeof__',\n",
       " '__str__',\n",
       " '__subclasshook__',\n",
       " '__weakref__',\n",
       " 'attribute_type',\n",
       " 'begins_with',\n",
       " 'between',\n",
       " 'contains',\n",
       " 'eq',\n",
       " 'exists',\n",
       " 'gt',\n",
       " 'gte',\n",
       " 'is_in',\n",
       " 'lt',\n",
       " 'lte',\n",
       " 'ne',\n",
       " 'not_exists',\n",
       " 'size']"
      ]
     },
     "execution_count": 64,
     "metadata": {},
     "output_type": "execute_result"
    }
   ],
   "source": [
    "dir(Attr) #all the attributes"
   ]
  },
  {
   "cell_type": "code",
   "execution_count": 67,
   "id": "b50d78cf",
   "metadata": {},
   "outputs": [
    {
     "data": {
      "text/plain": [
       "{'Items': [{'Title': 'Inception',\n",
       "   'Director': 'Christopher Nolan',\n",
       "   'Year': Decimal('2010'),\n",
       "   'Rating': Decimal('4.6')},\n",
       "  {'Title': 'The Matrix 3',\n",
       "   'Director': 'Lana Wachowski',\n",
       "   'Year': Decimal('2003'),\n",
       "   'Rating': Decimal('4.5')},\n",
       "  {'Title': 'The Matrix 2',\n",
       "   'Director': 'Lana Wachowski',\n",
       "   'Year': Decimal('2003'),\n",
       "   'Rating': Decimal('4.6')}],\n",
       " 'Count': 3,\n",
       " 'ScannedCount': 5,\n",
       " 'ResponseMetadata': {'RequestId': 'A81AMP6N7P9754TMJH5L5T558VVV4KQNSO5AEMVJF66Q9ASUAAJG',\n",
       "  'HTTPStatusCode': 200,\n",
       "  'HTTPHeaders': {'server': 'Server',\n",
       "   'date': 'Sun, 29 Oct 2023 12:00:25 GMT',\n",
       "   'content-type': 'application/x-amz-json-1.0',\n",
       "   'content-length': '356',\n",
       "   'connection': 'keep-alive',\n",
       "   'x-amzn-requestid': 'A81AMP6N7P9754TMJH5L5T558VVV4KQNSO5AEMVJF66Q9ASUAAJG',\n",
       "   'x-amz-crc32': '3611813423'},\n",
       "  'RetryAttempts': 0}}"
      ]
     },
     "execution_count": 67,
     "metadata": {},
     "output_type": "execute_result"
    }
   ],
   "source": [
    "response = table.scan(FilterExpression=Attr('Year').gte(2002))\n",
    "response"
   ]
  },
  {
   "cell_type": "code",
   "execution_count": 71,
   "id": "152e64cc",
   "metadata": {},
   "outputs": [
    {
     "data": {
      "text/plain": [
       "{'Items': [{'Title': 'Inception',\n",
       "   'Director': 'Christopher Nolan',\n",
       "   'Year': Decimal('2010'),\n",
       "   'Rating': Decimal('4.6')}],\n",
       " 'Count': 1,\n",
       " 'ScannedCount': 5,\n",
       " 'ResponseMetadata': {'RequestId': '9C7UBDRSOOCIPQAL65852CHQPFVV4KQNSO5AEMVJF66Q9ASUAAJG',\n",
       "  'HTTPStatusCode': 200,\n",
       "  'HTTPHeaders': {'server': 'Server',\n",
       "   'date': 'Sun, 29 Oct 2023 12:01:11 GMT',\n",
       "   'content-type': 'application/x-amz-json-1.0',\n",
       "   'content-length': '144',\n",
       "   'connection': 'keep-alive',\n",
       "   'x-amzn-requestid': '9C7UBDRSOOCIPQAL65852CHQPFVV4KQNSO5AEMVJF66Q9ASUAAJG',\n",
       "   'x-amz-crc32': '3556492755'},\n",
       "  'RetryAttempts': 0}}"
      ]
     },
     "execution_count": 71,
     "metadata": {},
     "output_type": "execute_result"
    }
   ],
   "source": [
    "response = table.scan(FilterExpression=Attr('Title').contains(\"Inc\"))\n",
    "response"
   ]
  },
  {
   "cell_type": "code",
   "execution_count": null,
   "id": "469dc757",
   "metadata": {},
   "outputs": [],
   "source": []
  },
  {
   "cell_type": "code",
   "execution_count": null,
   "id": "e9ce451a",
   "metadata": {},
   "outputs": [],
   "source": [
    "# for decimals"
   ]
  },
  {
   "cell_type": "code",
   "execution_count": 74,
   "id": "fc4f65e7",
   "metadata": {},
   "outputs": [],
   "source": [
    "from decimal import Decimal"
   ]
  },
  {
   "cell_type": "code",
   "execution_count": 77,
   "id": "bc7908ca",
   "metadata": {},
   "outputs": [
    {
     "data": {
      "text/plain": [
       "{'Items': [{'Title': 'The Matrix',\n",
       "   'Director': 'Lana Wachowski',\n",
       "   'Year': Decimal('1999'),\n",
       "   'Rating': Decimal('4.7')},\n",
       "  {'Title': 'Inception',\n",
       "   'Director': 'Christopher Nolan',\n",
       "   'Year': Decimal('2010'),\n",
       "   'Rating': Decimal('4.6')},\n",
       "  {'Title': 'The Matrix 3',\n",
       "   'Director': 'Lana Wachowski',\n",
       "   'Year': Decimal('2003'),\n",
       "   'Rating': Decimal('4.5')},\n",
       "  {'Title': 'Saving Private Ryan',\n",
       "   'Director': 'Steven Spielberg',\n",
       "   'Year': Decimal('1999'),\n",
       "   'Rating': Decimal('4.7')},\n",
       "  {'Title': 'The Matrix 2',\n",
       "   'Director': 'Lana Wachowski',\n",
       "   'Year': Decimal('2003'),\n",
       "   'Rating': Decimal('4.6')}],\n",
       " 'Count': 5,\n",
       " 'ScannedCount': 5,\n",
       " 'ResponseMetadata': {'RequestId': 'UI5O1O1GU8LM8IMSODNOHNKVJJVV4KQNSO5AEMVJF66Q9ASUAAJG',\n",
       "  'HTTPStatusCode': 200,\n",
       "  'HTTPHeaders': {'server': 'Server',\n",
       "   'date': 'Sun, 29 Oct 2023 12:04:14 GMT',\n",
       "   'content-type': 'application/x-amz-json-1.0',\n",
       "   'content-length': '575',\n",
       "   'connection': 'keep-alive',\n",
       "   'x-amzn-requestid': 'UI5O1O1GU8LM8IMSODNOHNKVJJVV4KQNSO5AEMVJF66Q9ASUAAJG',\n",
       "   'x-amz-crc32': '3902446944'},\n",
       "  'RetryAttempts': 0}}"
      ]
     },
     "execution_count": 77,
     "metadata": {},
     "output_type": "execute_result"
    }
   ],
   "source": [
    "response = table.scan(FilterExpression=Attr('Rating').gte(Decimal(4.5)))\n",
    "response"
   ]
  },
  {
   "cell_type": "code",
   "execution_count": null,
   "id": "1ef245b8",
   "metadata": {},
   "outputs": [],
   "source": [
    "# table.delete()"
   ]
  },
  {
   "cell_type": "code",
   "execution_count": null,
   "id": "dc901b21",
   "metadata": {},
   "outputs": [],
   "source": []
  },
  {
   "cell_type": "code",
   "execution_count": null,
   "id": "1ca31f67",
   "metadata": {},
   "outputs": [],
   "source": []
  },
  {
   "cell_type": "code",
   "execution_count": null,
   "id": "c8a602ab",
   "metadata": {},
   "outputs": [],
   "source": []
  },
  {
   "cell_type": "code",
   "execution_count": null,
   "id": "6d3e6cba",
   "metadata": {},
   "outputs": [],
   "source": []
  },
  {
   "cell_type": "code",
   "execution_count": null,
   "id": "96104f82",
   "metadata": {},
   "outputs": [],
   "source": []
  },
  {
   "cell_type": "code",
   "execution_count": null,
   "id": "bae95c45",
   "metadata": {},
   "outputs": [],
   "source": []
  },
  {
   "cell_type": "code",
   "execution_count": 78,
   "id": "e6233b26",
   "metadata": {},
   "outputs": [],
   "source": [
    "#secondary index"
   ]
  },
  {
   "cell_type": "code",
   "execution_count": 82,
   "id": "6294aa07",
   "metadata": {},
   "outputs": [
    {
     "data": {
      "text/plain": [
       "[{'AttributeName': 'Title', 'AttributeType': 'S'},\n",
       " {'AttributeName': 'Rating', 'AttributeType': 'N'},\n",
       " {'AttributeName': 'Director', 'AttributeType': 'S'}]"
      ]
     },
     "execution_count": 82,
     "metadata": {},
     "output_type": "execute_result"
    }
   ],
   "source": [
    "attributes"
   ]
  },
  {
   "cell_type": "code",
   "execution_count": 81,
   "id": "051eb0a6",
   "metadata": {},
   "outputs": [],
   "source": [
    "attributes.append({'AttributeName': 'Director', 'AttributeType': 'S'})"
   ]
  },
  {
   "cell_type": "code",
   "execution_count": 83,
   "id": "21d4449f",
   "metadata": {},
   "outputs": [],
   "source": [
    "gsi_key_schema = [\n",
    "    {\n",
    "        'AttributeName':'Director',\n",
    "        'KeyType':'HASH'           \n",
    "    },\n",
    "]"
   ]
  },
  {
   "cell_type": "code",
   "execution_count": 84,
   "id": "348d85cf",
   "metadata": {},
   "outputs": [],
   "source": [
    "gsi_provisioned_throughput = {\n",
    "    'ReadCapacityUnits':5,#5 operations per sec\n",
    "    'WriteCapacityUnits':5\n",
    "}"
   ]
  },
  {
   "cell_type": "code",
   "execution_count": 85,
   "id": "99c0ba4f",
   "metadata": {},
   "outputs": [],
   "source": [
    "response = client.update_table(TableName='movies',\n",
    "                              AttributeDefinitions=attributes,\n",
    "                              GlobalSecondaryIndexUpdates=[\n",
    "                                  {\n",
    "                                      \n",
    "                                      'Create': {\n",
    "                                          'IndexName':'idx1',\n",
    "                                          'KeySchema':gsi_key_schema,\n",
    "                                          'Projection':{\n",
    "                                              'ProjectionType':'ALL'\n",
    "                                          },\n",
    "                                          'ProvisionedThroughput':gsi_provisioned_throughput  \n",
    "                                      }\n",
    "                                  } \n",
    "                              ])"
   ]
  },
  {
   "cell_type": "code",
   "execution_count": 86,
   "id": "2506e035",
   "metadata": {},
   "outputs": [
    {
     "data": {
      "text/plain": [
       "{'TableDescription': {'AttributeDefinitions': [{'AttributeName': 'Director',\n",
       "    'AttributeType': 'S'},\n",
       "   {'AttributeName': 'Rating', 'AttributeType': 'N'},\n",
       "   {'AttributeName': 'Title', 'AttributeType': 'S'}],\n",
       "  'TableName': 'movies',\n",
       "  'KeySchema': [{'AttributeName': 'Title', 'KeyType': 'HASH'},\n",
       "   {'AttributeName': 'Rating', 'KeyType': 'RANGE'}],\n",
       "  'TableStatus': 'UPDATING',\n",
       "  'CreationDateTime': datetime.datetime(2023, 10, 29, 15, 4, 11, 520000, tzinfo=tzlocal()),\n",
       "  'ProvisionedThroughput': {'NumberOfDecreasesToday': 0,\n",
       "   'ReadCapacityUnits': 5,\n",
       "   'WriteCapacityUnits': 5},\n",
       "  'TableSizeBytes': 0,\n",
       "  'ItemCount': 0,\n",
       "  'TableArn': 'arn:aws:dynamodb:us-east-1:732077674619:table/movies',\n",
       "  'TableId': 'e5a3531a-a301-45a5-a81c-d673a5c5a95f',\n",
       "  'GlobalSecondaryIndexes': [{'IndexName': 'idx1',\n",
       "    'KeySchema': [{'AttributeName': 'Director', 'KeyType': 'HASH'}],\n",
       "    'Projection': {'ProjectionType': 'ALL'},\n",
       "    'IndexStatus': 'CREATING',\n",
       "    'Backfilling': False,\n",
       "    'ProvisionedThroughput': {'NumberOfDecreasesToday': 0,\n",
       "     'ReadCapacityUnits': 5,\n",
       "     'WriteCapacityUnits': 5},\n",
       "    'IndexSizeBytes': 0,\n",
       "    'ItemCount': 0,\n",
       "    'IndexArn': 'arn:aws:dynamodb:us-east-1:732077674619:table/movies/index/idx1'}],\n",
       "  'DeletionProtectionEnabled': False},\n",
       " 'ResponseMetadata': {'RequestId': '41HV3KMO8U0I2A2HNUED5EJKKBVV4KQNSO5AEMVJF66Q9ASUAAJG',\n",
       "  'HTTPStatusCode': 200,\n",
       "  'HTTPHeaders': {'server': 'Server',\n",
       "   'date': 'Sun, 29 Oct 2023 12:32:50 GMT',\n",
       "   'content-type': 'application/x-amz-json-1.0',\n",
       "   'content-length': '1051',\n",
       "   'connection': 'keep-alive',\n",
       "   'x-amzn-requestid': '41HV3KMO8U0I2A2HNUED5EJKKBVV4KQNSO5AEMVJF66Q9ASUAAJG',\n",
       "   'x-amz-crc32': '1824874605'},\n",
       "  'RetryAttempts': 0}}"
      ]
     },
     "execution_count": 86,
     "metadata": {},
     "output_type": "execute_result"
    }
   ],
   "source": [
    "response"
   ]
  },
  {
   "cell_type": "code",
   "execution_count": 87,
   "id": "24c4ca05",
   "metadata": {},
   "outputs": [
    {
     "ename": "ClientError",
     "evalue": "An error occurred (ValidationException) when calling the Query operation: Cannot read from backfilling global secondary index: idx1",
     "output_type": "error",
     "traceback": [
      "\u001b[0;31m---------------------------------------------------------------------------\u001b[0m",
      "\u001b[0;31mClientError\u001b[0m                               Traceback (most recent call last)",
      "Cell \u001b[0;32mIn[87], line 1\u001b[0m\n\u001b[0;32m----> 1\u001b[0m \u001b[43mclient\u001b[49m\u001b[38;5;241;43m.\u001b[39;49m\u001b[43mquery\u001b[49m\u001b[43m(\u001b[49m\u001b[43mTableName\u001b[49m\u001b[38;5;241;43m=\u001b[39;49m\u001b[38;5;124;43m'\u001b[39;49m\u001b[38;5;124;43mmovies\u001b[39;49m\u001b[38;5;124;43m'\u001b[39;49m\u001b[43m,\u001b[49m\n\u001b[1;32m      2\u001b[0m \u001b[43m            \u001b[49m\u001b[43mKeyConditionExpression\u001b[49m\u001b[38;5;241;43m=\u001b[39;49m\u001b[38;5;124;43m'\u001b[39;49m\u001b[38;5;124;43mDirector = :d\u001b[39;49m\u001b[38;5;124;43m'\u001b[39;49m\u001b[43m,\u001b[49m\n\u001b[1;32m      3\u001b[0m \u001b[43m            \u001b[49m\u001b[43mIndexName\u001b[49m\u001b[38;5;241;43m=\u001b[39;49m\u001b[38;5;124;43m'\u001b[39;49m\u001b[38;5;124;43midx1\u001b[39;49m\u001b[38;5;124;43m'\u001b[39;49m\u001b[43m,\u001b[49m\n\u001b[1;32m      4\u001b[0m \u001b[43m            \u001b[49m\u001b[43mExpressionAttributeValues\u001b[49m\u001b[38;5;241;43m=\u001b[39;49m\u001b[43m{\u001b[49m\u001b[38;5;124;43m'\u001b[39;49m\u001b[38;5;124;43m:d\u001b[39;49m\u001b[38;5;124;43m'\u001b[39;49m\u001b[43m:\u001b[49m\u001b[43m{\u001b[49m\u001b[38;5;124;43m'\u001b[39;49m\u001b[38;5;124;43mS\u001b[39;49m\u001b[38;5;124;43m'\u001b[39;49m\u001b[43m:\u001b[49m\u001b[38;5;124;43m'\u001b[39;49m\u001b[38;5;124;43mSteven Spielberg\u001b[39;49m\u001b[38;5;124;43m'\u001b[39;49m\u001b[43m}\u001b[49m\u001b[43m}\u001b[49m\u001b[43m)\u001b[49m\n",
      "File \u001b[0;32m/Library/Frameworks/Python.framework/Versions/3.11/lib/python3.11/site-packages/botocore/client.py:535\u001b[0m, in \u001b[0;36mClientCreator._create_api_method.<locals>._api_call\u001b[0;34m(self, *args, **kwargs)\u001b[0m\n\u001b[1;32m    531\u001b[0m     \u001b[38;5;28;01mraise\u001b[39;00m \u001b[38;5;167;01mTypeError\u001b[39;00m(\n\u001b[1;32m    532\u001b[0m         \u001b[38;5;124mf\u001b[39m\u001b[38;5;124m\"\u001b[39m\u001b[38;5;132;01m{\u001b[39;00mpy_operation_name\u001b[38;5;132;01m}\u001b[39;00m\u001b[38;5;124m() only accepts keyword arguments.\u001b[39m\u001b[38;5;124m\"\u001b[39m\n\u001b[1;32m    533\u001b[0m     )\n\u001b[1;32m    534\u001b[0m \u001b[38;5;66;03m# The \"self\" in this scope is referring to the BaseClient.\u001b[39;00m\n\u001b[0;32m--> 535\u001b[0m \u001b[38;5;28;01mreturn\u001b[39;00m \u001b[38;5;28;43mself\u001b[39;49m\u001b[38;5;241;43m.\u001b[39;49m\u001b[43m_make_api_call\u001b[49m\u001b[43m(\u001b[49m\u001b[43moperation_name\u001b[49m\u001b[43m,\u001b[49m\u001b[43m \u001b[49m\u001b[43mkwargs\u001b[49m\u001b[43m)\u001b[49m\n",
      "File \u001b[0;32m/Library/Frameworks/Python.framework/Versions/3.11/lib/python3.11/site-packages/botocore/client.py:980\u001b[0m, in \u001b[0;36mBaseClient._make_api_call\u001b[0;34m(self, operation_name, api_params)\u001b[0m\n\u001b[1;32m    978\u001b[0m     error_code \u001b[38;5;241m=\u001b[39m parsed_response\u001b[38;5;241m.\u001b[39mget(\u001b[38;5;124m\"\u001b[39m\u001b[38;5;124mError\u001b[39m\u001b[38;5;124m\"\u001b[39m, {})\u001b[38;5;241m.\u001b[39mget(\u001b[38;5;124m\"\u001b[39m\u001b[38;5;124mCode\u001b[39m\u001b[38;5;124m\"\u001b[39m)\n\u001b[1;32m    979\u001b[0m     error_class \u001b[38;5;241m=\u001b[39m \u001b[38;5;28mself\u001b[39m\u001b[38;5;241m.\u001b[39mexceptions\u001b[38;5;241m.\u001b[39mfrom_code(error_code)\n\u001b[0;32m--> 980\u001b[0m     \u001b[38;5;28;01mraise\u001b[39;00m error_class(parsed_response, operation_name)\n\u001b[1;32m    981\u001b[0m \u001b[38;5;28;01melse\u001b[39;00m:\n\u001b[1;32m    982\u001b[0m     \u001b[38;5;28;01mreturn\u001b[39;00m parsed_response\n",
      "\u001b[0;31mClientError\u001b[0m: An error occurred (ValidationException) when calling the Query operation: Cannot read from backfilling global secondary index: idx1"
     ]
    }
   ],
   "source": [
    "client.query(TableName='movies',\n",
    "            KeyConditionExpression='Director = :d',\n",
    "            IndexName='idx1',\n",
    "            ExpressionAttributeValues={':d':{'S':'Steven Spielberg'}})"
   ]
  },
  {
   "cell_type": "code",
   "execution_count": null,
   "id": "1b6da3c7",
   "metadata": {},
   "outputs": [],
   "source": []
  }
 ],
 "metadata": {
  "kernelspec": {
   "display_name": "Python 3 (ipykernel)",
   "language": "python",
   "name": "python3"
  },
  "language_info": {
   "codemirror_mode": {
    "name": "ipython",
    "version": 3
   },
   "file_extension": ".py",
   "mimetype": "text/x-python",
   "name": "python",
   "nbconvert_exporter": "python",
   "pygments_lexer": "ipython3",
   "version": "3.11.2"
  }
 },
 "nbformat": 4,
 "nbformat_minor": 5
}
