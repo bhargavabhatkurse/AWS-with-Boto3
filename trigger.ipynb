{
 "cells": [
  {
   "cell_type": "code",
   "execution_count": 12,
   "id": "48dc4888-ecda-4b31-adb3-0ef14350dd06",
   "metadata": {
    "tags": []
   },
   "outputs": [],
   "source": [
    "import boto3\n",
    "\n",
    "with open('trigger.py','r') as f:\n",
    "    function_code = f.read()\n",
    "\n",
    "function_name = 'LambdaTrigger'\n",
    "runtime='python3.8'\n",
    "handler='lambda_function.lambda_trigger' \n",
    "\n",
    "\n",
    "import json\n",
    "iam_client=boto3.client('iam',region_name='us-east-1')"
   ]
  },
  {
   "cell_type": "code",
   "execution_count": null,
   "id": "df4cebc0-13e9-4895-967c-686434b98c18",
   "metadata": {},
   "outputs": [],
   "source": [
    "#policy name: CourseLambdaTriggerPolicy\n",
    "#role -> CourseLambdaExecutionRoleTrigger"
   ]
  },
  {
   "cell_type": "code",
   "execution_count": 4,
   "id": "e59f33c4-18bb-4c40-9042-3d69943cb4a1",
   "metadata": {
    "tags": []
   },
   "outputs": [],
   "source": [
    "role_arn = 'arn:aws:iam::732077674619:role/CourseLambdaExecutionRoleTrigger'"
   ]
  },
  {
   "cell_type": "code",
   "execution_count": 13,
   "id": "d2caa6c8-dbfe-4758-81f9-c5bab27498c9",
   "metadata": {
    "tags": []
   },
   "outputs": [
    {
     "name": "stdout",
     "output_type": "stream",
     "text": [
      "import json\n",
      "\n",
      "def lambda_trigger(event,context):\n",
      "    s3_object_key = event['Records'][0]['s3']['object']['key']\n",
      "    print(f\"File: {s3_object_key}\")\n",
      "    return s3_object_key\n"
     ]
    }
   ],
   "source": [
    "print(function_code)"
   ]
  },
  {
   "cell_type": "code",
   "execution_count": 69,
   "id": "dba8207e-70bc-4c4c-824a-949b42bbc85d",
   "metadata": {
    "tags": []
   },
   "outputs": [],
   "source": [
    "import zipfile\n",
    "import io\n",
    "lambda_client=boto3.client('lambda',region_name='us-east-1')"
   ]
  },
  {
   "cell_type": "code",
   "execution_count": 18,
   "id": "0b960a52-6369-474d-b59c-6f8371b962a4",
   "metadata": {
    "tags": []
   },
   "outputs": [],
   "source": [
    "with io.BytesIO() as deployment_package:\n",
    "    with zipfile.ZipFile(deployment_package,'w') as zipf:\n",
    "        zipf.writestr('lambda_function.py',function_code)\n",
    "    create_function_response = lambda_client.create_function(\n",
    "    FunctionName=function_name,\n",
    "    Runtime=runtime,\n",
    "    Role = role_arn,\n",
    "    Handler = handler,\n",
    "    Code = {'ZipFile':deployment_package.getvalue()}\n",
    "    )\n",
    "    \n",
    "\n"
   ]
  },
  {
   "cell_type": "code",
   "execution_count": 56,
   "id": "121f28bd-0945-469f-b349-d9a4bbd5be4b",
   "metadata": {
    "tags": []
   },
   "outputs": [
    {
     "data": {
      "text/plain": [
       "{'ResponseMetadata': {'RequestId': 'ac72eb89-a13b-4322-932d-7ce4c6186db1',\n",
       "  'HTTPStatusCode': 201,\n",
       "  'HTTPHeaders': {'date': 'Thu, 09 Nov 2023 14:29:25 GMT',\n",
       "   'content-type': 'application/json',\n",
       "   'content-length': '1216',\n",
       "   'connection': 'keep-alive',\n",
       "   'x-amzn-requestid': 'ac72eb89-a13b-4322-932d-7ce4c6186db1'},\n",
       "  'RetryAttempts': 0},\n",
       " 'FunctionName': 'LambdaTrigger',\n",
       " 'FunctionArn': 'arn:aws:lambda:us-east-1:732077674619:function:LambdaTrigger',\n",
       " 'Runtime': 'python3.8',\n",
       " 'Role': 'arn:aws:iam::732077674619:role/CourseLambdaExecutionRoleTrigger',\n",
       " 'Handler': 'lambda_function.lambda_trigger',\n",
       " 'CodeSize': 305,\n",
       " 'Description': '',\n",
       " 'Timeout': 3,\n",
       " 'MemorySize': 128,\n",
       " 'LastModified': '2023-11-09T14:29:25.415+0000',\n",
       " 'CodeSha256': 'VEbtlSwL4EpxCfPBnOOxY0Y66K4pwHGI/t59+aKvoGU=',\n",
       " 'Version': '$LATEST',\n",
       " 'TracingConfig': {'Mode': 'PassThrough'},\n",
       " 'RevisionId': '674ead9a-0928-4a2f-961b-975cc8d04819',\n",
       " 'State': 'Pending',\n",
       " 'StateReason': 'The function is being created.',\n",
       " 'StateReasonCode': 'Creating',\n",
       " 'PackageType': 'Zip',\n",
       " 'Architectures': ['x86_64'],\n",
       " 'EphemeralStorage': {'Size': 512},\n",
       " 'SnapStart': {'ApplyOn': 'None', 'OptimizationStatus': 'Off'},\n",
       " 'RuntimeVersionConfig': {'RuntimeVersionArn': 'arn:aws:lambda:us-east-1::runtime:353a31d9fb2c7cac8474d278a6cf08824c7f87f698d61d1df2c128fc25a48d43'}}"
      ]
     },
     "execution_count": 56,
     "metadata": {},
     "output_type": "execute_result"
    }
   ],
   "source": [
    "create_function_response"
   ]
  },
  {
   "cell_type": "code",
   "execution_count": 58,
   "id": "498141fd-039e-4bd4-acff-f5545c71e4a2",
   "metadata": {
    "tags": []
   },
   "outputs": [],
   "source": [
    "s3_client=boto3.client('s3',region_name='us-east-1')"
   ]
  },
  {
   "cell_type": "code",
   "execution_count": 66,
   "id": "b6dfd743-1982-47e3-9685-60433ca9664f",
   "metadata": {
    "tags": []
   },
   "outputs": [
    {
     "data": {
      "text/plain": [
       "{'ResponseMetadata': {'RequestId': 'Z2AY580BMKGN8J09',\n",
       "  'HostId': 'M4i10hFALBhAFuuNEuPQ36X4ZxSx9VmlDSUO0K2ar73z9LeB0k02q+hpbUsilhInO3Hi3NLzHr8=',\n",
       "  'HTTPStatusCode': 200,\n",
       "  'HTTPHeaders': {'x-amz-id-2': 'M4i10hFALBhAFuuNEuPQ36X4ZxSx9VmlDSUO0K2ar73z9LeB0k02q+hpbUsilhInO3Hi3NLzHr8=',\n",
       "   'x-amz-request-id': 'Z2AY580BMKGN8J09',\n",
       "   'date': 'Thu, 09 Nov 2023 15:17:18 GMT',\n",
       "   'location': '/bhargava-new-bucket',\n",
       "   'server': 'AmazonS3',\n",
       "   'content-length': '0'},\n",
       "  'RetryAttempts': 0},\n",
       " 'Location': '/bhargava-new-bucket'}"
      ]
     },
     "execution_count": 66,
     "metadata": {},
     "output_type": "execute_result"
    }
   ],
   "source": [
    "bucket_name = 'bhargava-new-bucket'\n",
    "s3_client.create_bucket(Bucket = bucket_name)"
   ]
  },
  {
   "cell_type": "code",
   "execution_count": 67,
   "id": "d8738b6e-1556-45f2-8271-ea6277614763",
   "metadata": {
    "tags": []
   },
   "outputs": [],
   "source": [
    "bucket_arn = 'arn:aws:s3:::bhargava-new-bucket'"
   ]
  },
  {
   "cell_type": "code",
   "execution_count": 71,
   "id": "65c88518-b467-4ca1-be04-b0309f321449",
   "metadata": {
    "tags": []
   },
   "outputs": [
    {
     "data": {
      "text/plain": [
       "{'ResponseMetadata': {'RequestId': '108cd215-66f5-41db-b123-4f2e424f70eb',\n",
       "  'HTTPStatusCode': 201,\n",
       "  'HTTPHeaders': {'date': 'Thu, 09 Nov 2023 15:19:04 GMT',\n",
       "   'content-type': 'application/json',\n",
       "   'content-length': '303',\n",
       "   'connection': 'keep-alive',\n",
       "   'x-amzn-requestid': '108cd215-66f5-41db-b123-4f2e424f70eb'},\n",
       "  'RetryAttempts': 0},\n",
       " 'Statement': '{\"Sid\":\"Id1\",\"Effect\":\"Allow\",\"Principal\":{\"Service\":\"s3.amazonaws.com\"},\"Action\":\"lambda:InvokeFunction\",\"Resource\":\"arn:aws:lambda:us-east-1:732077674619:function:LambdaTrigger\",\"Condition\":{\"ArnLike\":{\"AWS:SourceArn\":\"arn:aws:s3:::bhargava-new-bucket\"}}}'}"
      ]
     },
     "execution_count": 71,
     "metadata": {},
     "output_type": "execute_result"
    }
   ],
   "source": [
    "#adding the permission to invoke the function whenever an object is added to s3\n",
    "lambda_client.add_permission(FunctionName=function_name,\n",
    "                            StatementId ='Id1',\n",
    "                            Action = 'lambda:InvokeFunction',\n",
    "                            Principal ='s3.amazonaws.com',\n",
    "                            SourceArn = bucket_arn)"
   ]
  },
  {
   "cell_type": "code",
   "execution_count": 72,
   "id": "b3f5a49f-db99-4f02-86e0-e1de3435c249",
   "metadata": {
    "tags": []
   },
   "outputs": [],
   "source": [
    "#adding the trigger\n",
    "\n",
    "event_configuration = {\n",
    "'LambdaFunctionConfigurations':[\n",
    "{'LambdaFunctionArn':create_function_response['FunctionArn'],\n",
    "'Events':['s3:ObjectCreated:*']}\n",
    "]\n",
    "}"
   ]
  },
  {
   "cell_type": "code",
   "execution_count": 73,
   "id": "aa0cdb65-eb24-4629-ae90-531953c63cc1",
   "metadata": {
    "tags": []
   },
   "outputs": [
    {
     "data": {
      "text/plain": [
       "{'ResponseMetadata': {'RequestId': 'T2D4XYJ0FCJH4564',\n",
       "  'HostId': 'yGh6rhjG2/A2rIymym5FMyuiR/jaX/SR6PxjL083SYBQP01ySjtfcEM1rTrVN5I2e3yemWSwTOU=',\n",
       "  'HTTPStatusCode': 200,\n",
       "  'HTTPHeaders': {'x-amz-id-2': 'yGh6rhjG2/A2rIymym5FMyuiR/jaX/SR6PxjL083SYBQP01ySjtfcEM1rTrVN5I2e3yemWSwTOU=',\n",
       "   'x-amz-request-id': 'T2D4XYJ0FCJH4564',\n",
       "   'date': 'Thu, 09 Nov 2023 15:27:21 GMT',\n",
       "   'server': 'AmazonS3',\n",
       "   'content-length': '0'},\n",
       "  'RetryAttempts': 0}}"
      ]
     },
     "execution_count": 73,
     "metadata": {},
     "output_type": "execute_result"
    }
   ],
   "source": [
    "s3_client.put_bucket_notification_configuration(Bucket=bucket_name,\n",
    "                                                NotificationConfiguration=event_configuration\n",
    "                                               )"
   ]
  },
  {
   "cell_type": "code",
   "execution_count": 75,
   "id": "be02cd6a-2ade-418d-9b42-122bd015ae92",
   "metadata": {
    "tags": []
   },
   "outputs": [],
   "source": [
    "with open('Text_file.txt','w') as file:\n",
    "    file.write(\"this is a trigger test\")"
   ]
  },
  {
   "cell_type": "code",
   "execution_count": 79,
   "id": "81840c83-df12-4263-9fe7-5f282b9ddc89",
   "metadata": {
    "tags": []
   },
   "outputs": [],
   "source": [
    "#the upload should trigger the lambda\n",
    "s3_client.upload_file(Filename='Text_file.txt',Bucket=bucket_name,Key='test_file.txt')"
   ]
  },
  {
   "cell_type": "code",
   "execution_count": null,
   "id": "86704b62-d8c7-4aba-83a3-a8648ab8f55d",
   "metadata": {},
   "outputs": [],
   "source": []
  },
  {
   "cell_type": "code",
   "execution_count": null,
   "id": "c20054bd-5c95-46a6-a27d-3b0def748409",
   "metadata": {},
   "outputs": [],
   "source": []
  },
  {
   "cell_type": "code",
   "execution_count": 80,
   "id": "23361969-ef77-49ec-8ae9-edcd0cae0486",
   "metadata": {
    "tags": []
   },
   "outputs": [],
   "source": [
    "#checking if it triggerd the lambda"
   ]
  },
  {
   "cell_type": "code",
   "execution_count": 83,
   "id": "0497c10c-2014-4d24-bd51-d6fdbf6a532e",
   "metadata": {
    "tags": []
   },
   "outputs": [],
   "source": [
    "cloudwatch_logs=boto3.client('logs',region_name='us-east-1')"
   ]
  },
  {
   "cell_type": "code",
   "execution_count": 85,
   "id": "800bc82f-c966-4350-9719-ab87baaf4f58",
   "metadata": {
    "tags": []
   },
   "outputs": [],
   "source": [
    "response = cloudwatch_logs.describe_log_groups()"
   ]
  },
  {
   "cell_type": "code",
   "execution_count": 86,
   "id": "5fcc48ae-78ce-4dcc-ab2c-ec1abebbaed3",
   "metadata": {
    "tags": []
   },
   "outputs": [
    {
     "data": {
      "text/plain": [
       "{'logGroups': [{'logGroupName': '/aws/lambda/LambdaTrigger',\n",
       "   'creationTime': 1699543849604,\n",
       "   'metricFilterCount': 0,\n",
       "   'arn': 'arn:aws:logs:us-east-1:732077674619:log-group:/aws/lambda/LambdaTrigger:*',\n",
       "   'storedBytes': 0}],\n",
       " 'ResponseMetadata': {'RequestId': '8f9dc037-984a-4f74-bad3-03a54444d219',\n",
       "  'HTTPStatusCode': 200,\n",
       "  'HTTPHeaders': {'x-amzn-requestid': '8f9dc037-984a-4f74-bad3-03a54444d219',\n",
       "   'content-type': 'application/x-amz-json-1.1',\n",
       "   'content-length': '297',\n",
       "   'date': 'Thu, 09 Nov 2023 15:32:57 GMT'},\n",
       "  'RetryAttempts': 0}}"
      ]
     },
     "execution_count": 86,
     "metadata": {},
     "output_type": "execute_result"
    }
   ],
   "source": [
    "response"
   ]
  },
  {
   "cell_type": "code",
   "execution_count": 91,
   "id": "70d4add3-7a4f-4180-8607-8467e79b6ae1",
   "metadata": {
    "tags": []
   },
   "outputs": [],
   "source": [
    "log_streams = cloudwatch_logs.describe_log_streams(logGroupName=f'/aws/lambda/{function_name}',\n",
    "                                                  orderBy = 'LastEventTime',\n",
    "                                                  descending=True)['logStreams']"
   ]
  },
  {
   "cell_type": "code",
   "execution_count": 92,
   "id": "9531b90b-874e-4b20-8d22-47a607d96d8f",
   "metadata": {
    "tags": []
   },
   "outputs": [
    {
     "data": {
      "text/plain": [
       "[{'logStreamName': '2023/11/09/[$LATEST]1055f00283a54bdc9081a88efa0f4bac',\n",
       "  'creationTime': 1699543849636,\n",
       "  'firstEventTimestamp': 1699543843161,\n",
       "  'lastEventTimestamp': 1699543843279,\n",
       "  'lastIngestionTime': 1699543849646,\n",
       "  'uploadSequenceToken': '49039859566789708481000097538180275559085243269642784703',\n",
       "  'arn': 'arn:aws:logs:us-east-1:732077674619:log-group:/aws/lambda/LambdaTrigger:log-stream:2023/11/09/[$LATEST]1055f00283a54bdc9081a88efa0f4bac',\n",
       "  'storedBytes': 0}]"
      ]
     },
     "execution_count": 92,
     "metadata": {},
     "output_type": "execute_result"
    }
   ],
   "source": [
    "log_streams"
   ]
  },
  {
   "cell_type": "code",
   "execution_count": 97,
   "id": "cc41083c-02c3-4f0f-bb72-ed218e501393",
   "metadata": {
    "tags": []
   },
   "outputs": [],
   "source": [
    "result = cloudwatch_logs.get_log_events(logGroupName=f'/aws/lambda/{function_name}',\n",
    "                              logStreamName = log_streams[0]['logStreamName'])"
   ]
  },
  {
   "cell_type": "code",
   "execution_count": 108,
   "id": "14e0789b-bab2-4098-942d-6e44f7e8ba5a",
   "metadata": {
    "tags": []
   },
   "outputs": [
    {
     "data": {
      "text/plain": [
       "'File: test_file.txt\\n'"
      ]
     },
     "execution_count": 108,
     "metadata": {},
     "output_type": "execute_result"
    }
   ],
   "source": [
    "result['events'][2]['message'] #-> this is the string which was returned by our function when it was called"
   ]
  },
  {
   "cell_type": "code",
   "execution_count": null,
   "id": "4853a2ac-3822-40f1-9c2b-2f6360738e7d",
   "metadata": {},
   "outputs": [],
   "source": [
    "# that's means the trigger worked"
   ]
  }
 ],
 "metadata": {
  "kernelspec": {
   "display_name": "Python 3 (ipykernel)",
   "language": "python",
   "name": "python3"
  },
  "language_info": {
   "codemirror_mode": {
    "name": "ipython",
    "version": 3
   },
   "file_extension": ".py",
   "mimetype": "text/x-python",
   "name": "python",
   "nbconvert_exporter": "python",
   "pygments_lexer": "ipython3",
   "version": "3.11.2"
  }
 },
 "nbformat": 4,
 "nbformat_minor": 5
}
